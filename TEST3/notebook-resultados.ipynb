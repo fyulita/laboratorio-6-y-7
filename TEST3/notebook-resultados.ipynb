{
 "cells": [
  {
   "cell_type": "code",
   "execution_count": 1,
   "id": "a4eb136b",
   "metadata": {},
   "outputs": [],
   "source": [
    "import numpy as np\n",
    "import pandas as pd\n",
    "import matplotlib.pyplot as plt\n",
    "import os"
   ]
  },
  {
   "cell_type": "code",
   "execution_count": 2,
   "id": "59b71905",
   "metadata": {},
   "outputs": [
    {
     "name": "stdout",
     "output_type": "stream",
     "text": [
      "66\n"
     ]
    }
   ],
   "source": [
    "# Contemos la cantidad de csv's  que llenamos\n",
    "n = 0\n",
    "for file in os.listdir():\n",
    "    if file.endswith(\".csv\"):\n",
    "        n += 1\n",
    "\n",
    "print(n)"
   ]
  },
  {
   "cell_type": "code",
   "execution_count": 3,
   "id": "be22700b",
   "metadata": {},
   "outputs": [],
   "source": [
    "#Importo los promedios, que van a ser todos los .csv dividido dos (ya que hay el doble, porque las desviaciones están aparte)\n",
    "data=[]\n",
    "for i in range(int(n/2)):\n",
    "    i=i+1\n",
    "    data.append(pd.read_csv(f\"promedio_{i}.csv\"))\n",
    "\n",
    "data=pd.concat(data)\n",
    "#print(data)"
   ]
  },
  {
   "cell_type": "code",
   "execution_count": 12,
   "id": "a2c97a70",
   "metadata": {},
   "outputs": [
    {
     "name": "stdout",
     "output_type": "stream",
     "text": [
      "194\n"
     ]
    }
   ],
   "source": [
    "#Armo el eje x, el tiempo, en escala de días\n",
    "\n",
    "t_0=np.array([0,11/24,15/24,1+2/24, 1+6.5/24, 1+17/24, 1+21/24, 2 +1/24, 2+5/24]) #hasta la carpeta 6 inclusive\n",
    "\n",
    "t_7=2+ np.array([10.30/24,15.30/24,20.30/24, 1+1.30/24, 1+6.30/24, 1+11.30/24]) #correspondiente a la carpeta 7\n",
    "\n",
    "t_8=3+ np.array([18/24,1,1+6/24,1+12/24,1+18/24])\n",
    "\n",
    "t_9=np.array([5+8/24]) #correspondiente a carpeta 9\n",
    "\n",
    "t_10=5+ np.array([14/24,20/24,1+2/24,1+8/24,1+14/24,1+20/24,2+2/24,2+8/24,2+14/24]) #carpeta 10\n",
    "\n",
    "#FALLA, SE PIERDEN 5 DATOS: 1.25 días\n",
    "#falla=7+np.array([20/24,1+2/24,1+8/24,1+14/24,1+20/24])\n",
    "\n",
    "t_11= t_10[-1] + 5*6/24 + 6/24+ np.arange(0,6*6/24,6/24) #LE SUMO EL FALLO, LAS 5 MEDICIONES\n",
    "\n",
    "t_12=np.array([t_11[-1]+(16.5-8)/24])\n",
    "\n",
    "t_13=t_12+(23.5-16.5)/24\n",
    "\n",
    "t_14=t_13+14/24 #fueron 14 horas después de la última medición\n",
    "\n",
    "t_15=t_14[-1] + (18.30-13.30)/24 + np.array([0,3/24,6/24,9/24]) #archivo 15, 3 mediciones buenas y una maso\n",
    "\n",
    "t_16= t_15[-1] + (12-3)/24 + np.arange(0,11*3/24,3/24) #le sumo el fallo\n",
    "\n",
    "t_17= t_16[-1]+(23.30 - 18.30)/24 + np.arange(0,15*3/24,3/24) \n",
    "\n",
    "t_18 = t_17[-1]+(21.30 - 17.30)/24 + np.arange(0,2*3/24,3/24) \n",
    "\n",
    "t_19= t_18[-1]+(11.30 - 0.30)/24 + np.arange(0,11*3/24,3/24) \n",
    "\n",
    "t_20 = t_19[-1]+(24+3 - 17)/24 + np.arange(0,6*3/24,3/24)\n",
    "\n",
    "t_21=t_20[-1]+(24+7.45-18.3)/24 + np.arange(0,3*3/24,3/24) #3 mediciones\n",
    "\n",
    "t_22=t_21[-1] + (18-13.45)/24 + np.arange(0,1*3/24,3/24) \n",
    "\n",
    "t_23=t_22 + (21.10-18)/24 + np.arange(0,5*3/24,3/24) #5 mediciones - 11 de abril\n",
    "\n",
    "t_24= t_23[-1] + (20.10-09.10)/24+np.arange(0,5*3/24,3/24)\n",
    "\n",
    "t_25=t_24[-1] + (13-8)/24+np.arange(0,3*3/24,3/24)\n",
    "\n",
    "t_26=t_25[-1] + (22.45-19)/24+np.arange(0,5*3/24,3/24) #5 mediciones, 13 de abril\n",
    "\n",
    "t_27=t_26[-1] + (16-10.45)/24+np.arange(0,4*3/24,3/24)\n",
    "\n",
    "t_28=t_27[-1] + (11-1)/24+np.arange(0,21*3/24,3/24) #21 mediciones del 15 de abril,hasta 17/04 a las 20 h.\n",
    "\n",
    "t_29=t_28[-1] + (24+21.30-20)/24+np.arange(0,11*3/24,3/24)\n",
    "\n",
    "t_30=t_29[-1] + (24-06.30)/24+np.arange(0,3*3/24,3/24)\n",
    "\n",
    "t_31=t_30[-1] + (11.40-6)/24+np.arange(0,6*3/24,3/24)\n",
    "\n",
    "t_32=t_31[-1] + (09.20-02.40)/24+np.arange(0,37*3/24,3/24)\n",
    "\n",
    "t_33=t_32[-1] + (24+23.20-21.20)/24+np.arange(0,2*3/24,3/24)\n",
    "\n",
    "t=np.concatenate((t_0,t_7,t_8,t_9,t_10,t_11,t_12,t_13,t_14,t_15,t_16,t_17,t_18,t_19,t_20,t_21,t_22,t_23,t_24,t_25,t_26,t_27,t_28,t_29,t_30,t_31,t_32,t_33))#,t_12))\n",
    "print(len(t))"
   ]
  },
  {
   "cell_type": "code",
   "execution_count": null,
   "id": "1d9e2d96",
   "metadata": {},
   "outputs": [],
   "source": []
  },
  {
   "cell_type": "code",
   "execution_count": 13,
   "id": "c185f084",
   "metadata": {},
   "outputs": [
    {
     "name": "stdout",
     "output_type": "stream",
     "text": [
      "194\n"
     ]
    }
   ],
   "source": [
    "c_1=np.array([data['promedio1']]) #Blanco\n",
    "c_2=np.array([data['promedio2']]) #Starch\n",
    "c_3=np.array([data['promedio3']]) #TPS\n",
    "c_4=np.array([data['promedio4']]) #TPS-NPTiO\n",
    "\n",
    "print(len(c_1[0]))"
   ]
  },
  {
   "cell_type": "markdown",
   "id": "cce4fbfa",
   "metadata": {},
   "source": [
    "La fórmula es \n",
    "g= $\\frac{F CT 44 g/mol}{22414 . 10^6 0.001L/mol}$\n",
    "\n",
    "Con F el flujo (1.5L/min), CT el área bajo la curva en MINUTOS, como lo tenemos en segundos:\n",
    "\n",
    "g= $\\frac{F* CT/60 * 44 g/mol}{22414 . 10^6 0.001L/mol}$"
   ]
  },
  {
   "cell_type": "code",
   "execution_count": 14,
   "id": "950161fe",
   "metadata": {},
   "outputs": [],
   "source": [
    "F = 1.5\n",
    "den = 22414 * 0.001 * 10 ** 6\n",
    "\n",
    "def gramos(h,C): #meter el área\n",
    "    return F *C*h*60* 44 / (den)\n",
    "\n",
    "#Se le introduce la cantidad de horas a la cual se va a proyectar (h) y la CONCENTRACIÓN\n",
    "#Se proyecta que eso emite durante 6h, pero como tiene que estar en minutos, se multiplica por 6*60"
   ]
  },
  {
   "cell_type": "code",
   "execution_count": 15,
   "id": "e163fe13",
   "metadata": {},
   "outputs": [
    {
     "data": {
      "text/plain": [
       "array([ 775.        , 1020.        , 1186.69635628, 1235.584     ,\n",
       "       1086.23076923, 1644.55060729, 1950.        , 1738.7611336 ,\n",
       "       1590.34817814, 1203.80566802, 1120.10931174, 1138.14574899,\n",
       "       1011.98387097, 1531.42105263, 1614.36693548, 1545.68421053,\n",
       "       1596.16194332, 1335.93522267, 1142.92307692,  677.98380567,\n",
       "        577.31983806,  527.6437247 ,  499.62753036, 1509.60323887,\n",
       "        829.82995951,  551.38461538,  543.46963563, 1298.29554656,\n",
       "        720.62753036,  684.22267206, 1153.1733871 ,  695.06451613,\n",
       "        539.81451613,  574.5       ,  403.39919355,  417.14919355,\n",
       "       1765.16194332,  839.72064777,  725.66089965,  603.17813765,\n",
       "        599.42105263,  522.36437247,  404.56680162,  436.76923077,\n",
       "        542.36437247,  433.65587045, 1331.92307692, 1127.07287449,\n",
       "        847.39676113,  753.99190283,  594.84210526,  514.82591093,\n",
       "        449.45748988,  402.17004049,  728.01619433,  576.72064777,\n",
       "        528.22672065,  458.48987854,  504.18623482,  405.39271255,\n",
       "        405.55060729,  794.93522267,  710.75708502,  615.62348178,\n",
       "        545.18218623,  487.20242915,  487.00809717,  464.78137652,\n",
       "        469.23076923,  617.90283401,  495.93117409,  482.75303644,\n",
       "        435.7611336 ,  425.92712551,  846.53846154,  708.70445344,\n",
       "        647.33198381,  582.50202429,  520.69635628,  490.86639676,\n",
       "        493.02024291,  490.87449393,  735.04453441,  673.40890688,\n",
       "        627.80566802,  656.08502024,  637.82591093,  550.96356275,\n",
       "       1319.1659919 , 1079.93522267,  939.82186235,  851.72469636,\n",
       "       1792.46963563, 1546.89878543, 1132.96356275,  925.81781377,\n",
       "        801.60728745, 1309.39271255, 1045.41295547,  859.65587045,\n",
       "        782.29149798,  715.38866397,  596.52226721,  564.22267206,\n",
       "        430.88663968,  855.82186235,  806.76923077,  667.04048583,\n",
       "        661.65991903,  709.37246964,  561.39271255,  992.951417  ,\n",
       "        817.53036437,  726.07287449,  673.6437247 ,  557.98380567,\n",
       "        687.63967611,  953.9757085 ,  717.95546559,  656.23481781,\n",
       "        618.1902834 ,  636.34817814,  516.4291498 ,  460.74898785,\n",
       "        510.63157895,  765.20647773,  726.08502024,  570.951417  ,\n",
       "        546.35222672,  570.72064777,  824.39271255,  599.65587045,\n",
       "        566.68016194,  543.4048583 ,  427.87449393,  726.48987854,\n",
       "        697.49797571,  638.84210526,  613.66396761,  554.        ,\n",
       "        553.6437247 ,  493.77327935,  532.94736842,  563.47368421,\n",
       "        568.048583  ,  564.08097166,  559.3562753 ,  542.21862348,\n",
       "        546.46558704,  488.48582996,  455.67611336,  471.73279352,\n",
       "        529.90283401,  506.7611336 ,  476.53441296,  518.46963563,\n",
       "        483.60728745,  448.6194332 ,  477.48178138,  631.70850202,\n",
       "        518.28340081,  488.73279352,  526.86234818,  456.75708502,\n",
       "        491.81781377,  549.59109312,  535.22672065,  681.62753036,\n",
       "        650.20242915,  605.76518219,  559.09311741,  611.02024291,\n",
       "        580.10121457,  427.66396761,  451.63562753,  524.65182186,\n",
       "        476.3805668 ,  431.5465587 ,  474.70850202,  407.56275304,\n",
       "        413.25101215,  419.12955466,  413.17004049,  423.44534413,\n",
       "        669.67206478,  617.88259109,  618.56680162,  577.55870445,\n",
       "        547.61133603,  529.44939271,  567.25506073,  551.88663968,\n",
       "        728.52226721,  647.91497976])"
      ]
     },
     "execution_count": 15,
     "metadata": {},
     "output_type": "execute_result"
    }
   ],
   "source": [
    "c_4[0]"
   ]
  },
  {
   "cell_type": "code",
   "execution_count": 16,
   "id": "453a26df",
   "metadata": {},
   "outputs": [
    {
     "data": {
      "text/plain": [
       "array([603.17813765, 599.42105263, 522.36437247, 404.56680162])"
      ]
     },
     "execution_count": 16,
     "metadata": {},
     "output_type": "execute_result"
    }
   ],
   "source": [
    "c_4[0][39:43]"
   ]
  },
  {
   "cell_type": "code",
   "execution_count": 17,
   "id": "411dd8ce",
   "metadata": {},
   "outputs": [],
   "source": [
    "#RECORDAR QUE [incluye:noincluye]\n",
    "\n",
    "#Los primeros 5 los proyecto por 6 h\n",
    "#Del 5 al 9 los proyecto por 4 h\n",
    "#Del 9 al 15 los proyecto por 5 h\n",
    "#Del 15 al 20 los proyecto por 6h\n",
    "#El 21, que corresponde a la carpeta 9, lo proyecto por 6 h\n",
    "#El 40 al 43, carpeta 15, lo proyecto por 3 h\n",
    "\n",
    "\n",
    "gramos1=np.concatenate((gramos(6,c_1[0][0:5]),gramos(4,c_1[0][5:10]),gramos(5,c_1[0][10:16]),gramos(6,c_1[0][16:39]),gramos(3,c_1[0][39:])))\n",
    "gramos2=np.concatenate((gramos(6,c_2[0][0:5]),gramos(4,c_2[0][5:10]),gramos(5,c_2[0][10:16]),gramos(6,c_2[0][16:39]),gramos(3,c_2[0][39:])))\n",
    "gramos3=np.concatenate((gramos(6,c_3[0][0:5]),gramos(4,c_3[0][5:10]),gramos(5,c_3[0][10:16]),gramos(6,c_3[0][16:39]),gramos(3,c_3[0][39:])))\n",
    "gramos4=np.concatenate((gramos(6,c_4[0][0:5]),gramos(4,c_4[0][5:10]),gramos(5,c_4[0][10:16]),gramos(6,c_4[0][16:39]),gramos(3,c_4[0][39:])))"
   ]
  },
  {
   "cell_type": "code",
   "execution_count": 18,
   "id": "bfd2c713",
   "metadata": {},
   "outputs": [],
   "source": [
    "gramos1_ac=np.add.accumulate(gramos1)\n",
    "gramos2_ac=np.add.accumulate(gramos2)\n",
    "gramos3_ac=np.add.accumulate(gramos3)\n",
    "gramos4_ac=np.add.accumulate(gramos4)"
   ]
  },
  {
   "cell_type": "code",
   "execution_count": 19,
   "id": "912c13ad",
   "metadata": {},
   "outputs": [
    {
     "data": {
      "image/png": "[encoded data removed]",
      "text/plain": [
       "<Figure size 432x288 with 1 Axes>"
      ]
     },
     "metadata": {
      "needs_background": "light"
     },
     "output_type": "display_data"
    }
   ],
   "source": [
    "plt.plot(t,gramos2_ac-gramos1_ac,'^',label='Starch',color='green')\n",
    "plt.plot(t,gramos3_ac-gramos1_ac,'.',label='TPS',color='blue')\n",
    "plt.plot(t,gramos4_ac-gramos1_ac,'s',label='TPS-NPTiO$_2$',color='red')\n",
    "\n",
    "plt.legend()\n",
    "\n",
    "#plt.title('CO2 acumulado - sensor- restado')\n",
    "plt.xlabel('Tiempo [Días]')\n",
    "plt.ylabel('Masa [g]')\n",
    "plt.grid(True)\n",
    "plt.savefig(\"co2_acumulado-sensor_segunda-medicion-restado.png\")\n",
    "plt.show()"
   ]
  },
  {
   "cell_type": "code",
   "execution_count": null,
   "id": "135647ba",
   "metadata": {},
   "outputs": [],
   "source": []
  },
  {
   "cell_type": "code",
   "execution_count": null,
   "id": "066b20c8",
   "metadata": {},
   "outputs": [],
   "source": []
  },
  {
   "cell_type": "code",
   "execution_count": null,
   "id": "f52ffc93",
   "metadata": {},
   "outputs": [],
   "source": []
  },
  {
   "cell_type": "code",
   "execution_count": null,
   "id": "0004f3a2",
   "metadata": {},
   "outputs": [],
   "source": []
  },
  {
   "cell_type": "code",
   "execution_count": null,
   "id": "c5a8692d",
   "metadata": {},
   "outputs": [],
   "source": []
  }
 ],
 "metadata": {
  "kernelspec": {
   "display_name": "Python 3",
   "language": "python",
   "name": "python3"
  },
  "language_info": {
   "codemirror_mode": {
    "name": "ipython",
    "version": 3
   },
   "file_extension": ".py",
   "mimetype": "text/x-python",
   "name": "python",
   "nbconvert_exporter": "python",
   "pygments_lexer": "ipython3",
   "version": "3.8.5"
  }
 },
 "nbformat": 4,
 "nbformat_minor": 5
}
