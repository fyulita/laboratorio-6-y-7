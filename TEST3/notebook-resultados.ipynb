{
 "cells": [
  {
   "cell_type": "code",
   "execution_count": 1,
   "id": "a4eb136b",
   "metadata": {},
   "outputs": [],
   "source": [
    "import numpy as np\n",
    "import pandas as pd\n",
    "import matplotlib.pyplot as plt\n",
    "import os"
   ]
  },
  {
   "cell_type": "code",
   "execution_count": 2,
   "id": "59b71905",
   "metadata": {},
   "outputs": [
    {
     "name": "stdout",
     "output_type": "stream",
     "text": [
      "70\n"
     ]
    }
   ],
   "source": [
    "# Contemos la cantidad de csv's  que llenamos\n",
    "n = 0\n",
    "for file in os.listdir():\n",
    "    if file.endswith(\".csv\"):\n",
    "        n += 1\n",
    "\n",
    "print(n)"
   ]
  },
  {
   "cell_type": "code",
   "execution_count": 3,
   "id": "be22700b",
   "metadata": {},
   "outputs": [],
   "source": [
    "#Importo los promedios, que van a ser todos los .csv dividido dos (ya que hay el doble, porque las desviaciones están aparte)\n",
    "data=[]\n",
    "for i in range(int(n/2)):\n",
    "    i=i+1\n",
    "    data.append(pd.read_csv(f\"promedio_{i}.csv\"))\n",
    "\n",
    "data=pd.concat(data)\n",
    "#print(data)"
   ]
  },
  {
   "cell_type": "code",
   "execution_count": 4,
   "id": "a2c97a70",
   "metadata": {},
   "outputs": [
    {
     "name": "stdout",
     "output_type": "stream",
     "text": [
      "224\n"
     ]
    }
   ],
   "source": [
    "#Armo el eje x, el tiempo, en escala de días\n",
    "\n",
    "t_0=np.array([0,11/24,15/24,1+2/24, 1+6.5/24, 1+17/24, 1+21/24, 2 +1/24, 2+5/24]) #hasta la carpeta 6 inclusive\n",
    "\n",
    "t_7=2+ np.array([10.30/24,15.30/24,20.30/24, 1+1.30/24, 1+6.30/24, 1+11.30/24]) #correspondiente a la carpeta 7\n",
    "\n",
    "t_8=3+ np.array([18/24,1,1+6/24,1+12/24,1+18/24])\n",
    "\n",
    "t_9=np.array([5+8/24]) #correspondiente a carpeta 9\n",
    "\n",
    "t_10=5+ np.array([14/24,20/24,1+2/24,1+8/24,1+14/24,1+20/24,2+2/24,2+8/24,2+14/24]) #carpeta 10\n",
    "\n",
    "#FALLA, SE PIERDEN 5 DATOS: 1.25 días\n",
    "#falla=7+np.array([20/24,1+2/24,1+8/24,1+14/24,1+20/24])\n",
    "\n",
    "t_11= t_10[-1] + 5*6/24 + 6/24+ np.arange(0,6*6/24,6/24) #LE SUMO EL FALLO, LAS 5 MEDICIONES\n",
    "\n",
    "t_12=np.array([t_11[-1]+(16.5-8)/24])\n",
    "\n",
    "t_13=t_12+(23.5-16.5)/24\n",
    "\n",
    "t_14=t_13+14/24 #fueron 14 horas después de la última medición\n",
    "\n",
    "t_15=t_14[-1] + (18.30-13.30)/24 + np.array([0,3/24,6/24,9/24]) #archivo 15, 3 mediciones buenas y una maso\n",
    "\n",
    "t_16= t_15[-1] + (12-3)/24 + np.arange(0,11*3/24,3/24) #le sumo el fallo\n",
    "\n",
    "t_17= t_16[-1]+(23.30 - 18.30)/24 + np.arange(0,15*3/24,3/24) \n",
    "\n",
    "t_18 = t_17[-1]+(21.30 - 17.30)/24 + np.arange(0,2*3/24,3/24) \n",
    "\n",
    "t_19= t_18[-1]+(11.30 - 0.30)/24 + np.arange(0,11*3/24,3/24) \n",
    "\n",
    "t_20 = t_19[-1]+(24+3 - 17)/24 + np.arange(0,6*3/24,3/24)\n",
    "\n",
    "t_21=t_20[-1]+(24+7.45-18.3)/24 + np.arange(0,3*3/24,3/24) #3 mediciones\n",
    "\n",
    "t_22=t_21[-1] + (18-13.45)/24 + np.arange(0,1*3/24,3/24) \n",
    "\n",
    "t_23=t_22 + (21.10-18)/24 + np.arange(0,5*3/24,3/24) #5 mediciones - 11 de abril\n",
    "\n",
    "t_24= t_23[-1] + (20.10-09.10)/24+np.arange(0,5*3/24,3/24)\n",
    "\n",
    "t_25=t_24[-1] + (13-8)/24+np.arange(0,3*3/24,3/24)\n",
    "\n",
    "t_26=t_25[-1] + (22.45-19)/24+np.arange(0,5*3/24,3/24) #5 mediciones, 13 de abril\n",
    "\n",
    "t_27=t_26[-1] + (16-10.45)/24+np.arange(0,4*3/24,3/24)\n",
    "\n",
    "t_28=t_27[-1] + (11-1)/24+np.arange(0,21*3/24,3/24) #21 mediciones del 15 de abril,hasta 17/04 a las 20 h.\n",
    "\n",
    "t_29=t_28[-1] + (24+21.30-20)/24+np.arange(0,11*3/24,3/24)\n",
    "\n",
    "t_30=t_29[-1] + (24-06.30)/24+np.arange(0,3*3/24,3/24)\n",
    "\n",
    "t_31=t_30[-1] + (11.40-6)/24+np.arange(0,6*3/24,3/24)\n",
    "\n",
    "t_32=t_31[-1] + (09.20-02.40)/24+np.arange(0,37*3/24,3/24)\n",
    "\n",
    "t_33=t_32[-1] + (24+23.20-21.20)/24+np.arange(0,2*3/24,3/24)\n",
    "\n",
    "t_34=t_33[-1] + (24+1-2.20)/24+np.arange(0,21*3/24,3/24)\n",
    "\n",
    "t_35=t_34[-1] + (24-13)/24+np.arange(0,9*3/24,3/24)\n",
    "\n",
    "t=np.concatenate((t_0,t_7,t_8,t_9,t_10,t_11,t_12,t_13,t_14,t_15,t_16,t_17,t_18,t_19,t_20,t_21,t_22,t_23,t_24,t_25,t_26,t_27,t_28,t_29,t_30,t_31,t_32,t_33,t_34,t_35))#,t_12))\n",
    "print(len(t))"
   ]
  },
  {
   "cell_type": "code",
   "execution_count": 5,
   "id": "c185f084",
   "metadata": {},
   "outputs": [
    {
     "name": "stdout",
     "output_type": "stream",
     "text": [
      "224\n"
     ]
    }
   ],
   "source": [
    "c_1=np.array([data['promedio1']]) #Blanco\n",
    "c_2=np.array([data['promedio2']]) #Starch\n",
    "c_3=np.array([data['promedio3']]) #TPS\n",
    "c_4=np.array([data['promedio4']]) #TPS-NPTiO\n",
    "\n",
    "print(len(c_1[0]))"
   ]
  },
  {
   "cell_type": "markdown",
   "id": "cce4fbfa",
   "metadata": {},
   "source": [
    "La fórmula es \n",
    "m= $\\frac{F CT 44 g/mol}{22414 . 10^6 0.001L/mol}$\n",
    "\n",
    "Con F el flujo (1.5L/min), C la concentración y T el tiempo entre una medición y otra; suponiendo que tal concentración se mantiene constante.\n",
    "\n",
    "Como lo tenemos en segundos:\n",
    "\n",
    "g= $\\frac{F* CT/60 * 44 g/mol}{22414 . 10^6 0.001L/mol}$"
   ]
  },
  {
   "cell_type": "code",
   "execution_count": 6,
   "id": "950161fe",
   "metadata": {},
   "outputs": [],
   "source": [
    "F = 1.5\n",
    "den = 22414 * 0.001 * 10 ** 6\n",
    "\n",
    "def gramos(h,C): #meter el área\n",
    "    return F *C*h*60* 44 / (den)\n",
    "\n",
    "#Se le introduce la cantidad de horas a la cual se va a proyectar (h) y la CONCENTRACIÓN\n",
    "#Se proyecta que eso emite durante 6h, pero como tiene que estar en minutos, se multiplica por 6*60"
   ]
  },
  {
   "cell_type": "code",
   "execution_count": 7,
   "id": "411dd8ce",
   "metadata": {},
   "outputs": [],
   "source": [
    "#RECORDAR QUE [incluye:noincluye]\n",
    "\n",
    "#Los primeros 5 los proyecto por 6 h\n",
    "#Del 5 al 9 los proyecto por 4 h\n",
    "#Del 9 al 15 los proyecto por 5 h\n",
    "#Del 15 al 20 los proyecto por 6h\n",
    "#El 21, que corresponde a la carpeta 9, lo proyecto por 6 h\n",
    "#El 40 al 43, carpeta 15, lo proyecto por 3 h\n",
    "\n",
    "gramos1=np.concatenate((gramos(6,c_1[0][0:5]),gramos(4,c_1[0][5:10]),gramos(5,c_1[0][10:16]),gramos(6,c_1[0][16:39]),gramos(3,c_1[0][39:])))\n",
    "gramos2=np.concatenate((gramos(6,c_2[0][0:5]),gramos(4,c_2[0][5:10]),gramos(5,c_2[0][10:16]),gramos(6,c_2[0][16:39]),gramos(3,c_2[0][39:])))\n",
    "gramos3=np.concatenate((gramos(6,c_3[0][0:5]),gramos(4,c_3[0][5:10]),gramos(5,c_3[0][10:16]),gramos(6,c_3[0][16:39]),gramos(3,c_3[0][39:])))\n",
    "gramos4=np.concatenate((gramos(6,c_4[0][0:5]),gramos(4,c_4[0][5:10]),gramos(5,c_4[0][10:16]),gramos(6,c_4[0][16:39]),gramos(3,c_4[0][39:])))\n",
    "\n",
    "T=np.concatenate((np.full(5,6),np.full(5,4),np.full(6,5),np.full(23,6),np.full(len(c_1[0])-39,3))) #T en la ecuación de g"
   ]
  },
  {
   "cell_type": "code",
   "execution_count": 8,
   "id": "bfd2c713",
   "metadata": {},
   "outputs": [],
   "source": [
    "gramos1_ac=np.add.accumulate(gramos1)\n",
    "gramos2_ac=np.add.accumulate(gramos2)\n",
    "gramos3_ac=np.add.accumulate(gramos3)\n",
    "gramos4_ac=np.add.accumulate(gramos4)"
   ]
  },
  {
   "cell_type": "markdown",
   "id": "22be4d69",
   "metadata": {},
   "source": [
    "Vemos los errores:\n",
    "$m= \\frac{F CT *44}{22414 * 0.001 * 10^6}$\n",
    "\n",
    "$\\sigma_m ^2 = ( \\frac{CT *44}{22414 * 0.001 * 10^6}\\sigma_F )^2 + ( \\frac{F T*44}{22414 * 0.001 * 10^6}\\sigma_{C})^2$\n",
    "\n",
    "con $\\sigma_F=0.1$ , $\\sigma_C$ el error estadístico al hacer el promedio"
   ]
  },
  {
   "cell_type": "code",
   "execution_count": 10,
   "id": "f52ffc93",
   "metadata": {},
   "outputs": [
    {
     "name": "stdout",
     "output_type": "stream",
     "text": [
      "224\n"
     ]
    }
   ],
   "source": [
    "#Importo las desviaciones\n",
    "\n",
    "data_std=[]\n",
    "for i in range(int(n/2)):\n",
    "    i=i+1\n",
    "    data_std.append(pd.read_csv(f\"promedio_std_{i}.csv\"))\n",
    "\n",
    "data_std=pd.concat(data_std)\n",
    "\n",
    "\n",
    "c_1_std=np.array([data_std['promedio_std1']]) #Blanco\n",
    "c_2_std=np.array([data_std['promedio_std2']]) #Starch\n",
    "c_3_std=np.array([data_std['promedio_std3']]) #TPS\n",
    "c_4_std=np.array([data_std['promedio_std4']]) #TPS-NPTiO\n",
    "\n",
    "print(len(c_1_std[0]))"
   ]
  },
  {
   "cell_type": "code",
   "execution_count": 11,
   "id": "28b940cf",
   "metadata": {},
   "outputs": [],
   "source": [
    "def error(C,C_error,T):\n",
    "    #Introducir Concentración, su desviación y el tiempo que se consideró que se mantendría tal concetración\n",
    "    sigma_F=0.1\n",
    "    sigma_C=50+C_error #Considero como error el error estadístico más el sistemático\n",
    "    A=sigma_F*C*T*60*44/den\n",
    "    B=sigma_C*F*T*60*44/den\n",
    "    return (A**2 + B**2)"
   ]
  },
  {
   "cell_type": "code",
   "execution_count": 12,
   "id": "0004f3a2",
   "metadata": {},
   "outputs": [],
   "source": [
    "error_g1=error(c_1[0],c_1_std[0],T) #var\n",
    "error_g2=error(c_2[0],c_2_std[0],T) #var\n",
    "error_g3=error(c_3[0],c_3_std[0],T) #var\n",
    "error_g4=error(c_4[0],c_4_std[0],T) #var"
   ]
  },
  {
   "cell_type": "code",
   "execution_count": 13,
   "id": "bb2de26b",
   "metadata": {},
   "outputs": [],
   "source": [
    "error_g1_ac=np.add.accumulate(error_g1)\n",
    "error_g2_ac=np.add.accumulate(error_g2)\n",
    "error_g3_ac=np.add.accumulate(error_g3)\n",
    "error_g4_ac=np.add.accumulate(error_g4)"
   ]
  },
  {
   "cell_type": "markdown",
   "id": "f95aa318",
   "metadata": {},
   "source": [
    "Al ser acumulado y sumar siempre el anterior, el error será la suma en cuadratura"
   ]
  },
  {
   "cell_type": "code",
   "execution_count": 22,
   "id": "34523874",
   "metadata": {},
   "outputs": [
    {
     "data": {
      "image/png": "[encoded data removed]",
      "text/plain": [
       "<Figure size 432x288 with 1 Axes>"
      ]
     },
     "metadata": {
      "needs_background": "light"
     },
     "output_type": "display_data"
    }
   ],
   "source": [
    "plt.errorbar(t,gramos2_ac-gramos1_ac,yerr=(error_g2_ac+error_g1_ac)**0.5,fmt='.',color='gray',zorder=1)\n",
    "plt.errorbar(t,gramos3_ac-gramos1_ac,yerr=(error_g3_ac+error_g1_ac)**0.5,fmt='.',color='gray',zorder=1)\n",
    "plt.errorbar(t,gramos4_ac-gramos1_ac,yerr=(error_g4_ac+error_g1_ac)**0.5,fmt='.',color='gray',zorder=1)\n",
    "\n",
    "plt.plot(t,gramos4_ac-gramos1_ac,'.',label='TPS-NPTiO$_2$',color='blue',zorder=2)\n",
    "plt.plot(t,gramos3_ac-gramos1_ac,'.',label='TPS',color='red',zorder=2)\n",
    "plt.plot(t,gramos2_ac-gramos1_ac,'.',label='Starch',color='green',zorder=2)\n",
    "\n",
    "plt.legend()\n",
    "\n",
    "#plt.title('CO2 acumulado - sensor- restado')\n",
    "plt.xlabel('Tiempo [Días]')\n",
    "plt.ylabel('Masa [g]')\n",
    "plt.grid(True)\n",
    "plt.savefig(\"co2_acumulado-sensor.png\")\n",
    "plt.show()"
   ]
  },
  {
   "cell_type": "code",
   "execution_count": null,
   "id": "b9979fc1",
   "metadata": {},
   "outputs": [],
   "source": []
  },
  {
   "cell_type": "code",
   "execution_count": null,
   "id": "59151ef6",
   "metadata": {},
   "outputs": [],
   "source": []
  }
 ],
 "metadata": {
  "kernelspec": {
   "display_name": "Python 3",
   "language": "python",
   "name": "python3"
  },
  "language_info": {
   "codemirror_mode": {
    "name": "ipython",
    "version": 3
   },
   "file_extension": ".py",
   "mimetype": "text/x-python",
   "name": "python",
   "nbconvert_exporter": "python",
   "pygments_lexer": "ipython3",
   "version": "3.8.5"
  }
 },
 "nbformat": 4,
 "nbformat_minor": 5
}
