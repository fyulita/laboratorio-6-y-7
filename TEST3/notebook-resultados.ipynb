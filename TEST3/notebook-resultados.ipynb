{
 "cells": [
  {
   "cell_type": "code",
   "execution_count": 1,
   "id": "a4eb136b",
   "metadata": {},
   "outputs": [],
   "source": [
    "import numpy as np\n",
    "import pandas as pd\n",
    "import matplotlib.pyplot as plt\n",
    "import os"
   ]
  },
  {
   "cell_type": "code",
   "execution_count": 2,
   "id": "59b71905",
   "metadata": {},
   "outputs": [
    {
     "name": "stdout",
     "output_type": "stream",
     "text": [
      "20\n"
     ]
    }
   ],
   "source": [
    "# Contemos la cantidad de csv's  que llenamos\n",
    "n = 0\n",
    "for file in os.listdir():\n",
    "    if file.endswith(\".csv\"):\n",
    "        n += 1\n",
    "\n",
    "print(n)"
   ]
  },
  {
   "cell_type": "code",
   "execution_count": 3,
   "id": "be22700b",
   "metadata": {},
   "outputs": [],
   "source": [
    "#Importo los promedios, que van a ser todos los .csv dividido dos (ya que hay el doble, porque las desviaciones están aparte)\n",
    "data=[]\n",
    "for i in range(int(n/2)):\n",
    "    i=i+1\n",
    "    data.append(pd.read_csv(f\"promedio_{i}.csv\"))\n",
    "\n",
    "data=pd.concat(data)\n",
    "#print(data)"
   ]
  },
  {
   "cell_type": "code",
   "execution_count": 12,
   "id": "a2c97a70",
   "metadata": {},
   "outputs": [],
   "source": [
    "#Armo el eje x, el tiempo, en escala de días\n",
    "t1=np.array([0,0.5,0.75,1,1.25,1.75,1.875,2,2.125])\n",
    "t2=2.125 + np.arange(0,21/4,0.25)"
   ]
  },
  {
   "cell_type": "code",
   "execution_count": 13,
   "id": "6e359376",
   "metadata": {},
   "outputs": [],
   "source": [
    "t=np.concatenate([t1,t2])"
   ]
  },
  {
   "cell_type": "code",
   "execution_count": 14,
   "id": "c185f084",
   "metadata": {},
   "outputs": [],
   "source": [
    "c1=np.array([data['promedio1']]) #Blanco\n",
    "c2=np.array([data['promedio2']]) #Starch\n",
    "c3=np.array([data['promedio3']]) #TPS\n",
    "c4=np.array([data['promedio4']]) #TPS-NPTiO"
   ]
  },
  {
   "cell_type": "markdown",
   "id": "cce4fbfa",
   "metadata": {},
   "source": [
    "La fórmula es \n",
    "g= $\\frac{F CT 44 g/mol}{22414 . 10^6 0.001L/mol}$\n",
    "\n",
    "Con F el flujo (1.5L/min), CT el área bajo la curva en MINUTOS, como lo tenemos en segundos:\n",
    "\n",
    "g= $\\frac{F* CT/60 * 44 g/mol}{22414 . 10^6 0.001L/mol}$"
   ]
  },
  {
   "cell_type": "code",
   "execution_count": 18,
   "id": "950161fe",
   "metadata": {},
   "outputs": [],
   "source": [
    "F = 1.5\n",
    "den = 22414 * 0.001 * 10 ** 6\n",
    "\n",
    "def gramos(h,C): #meter el área\n",
    "    return F *C*h*60* 44 / (den)\n",
    "\n",
    "#Se le introduce la cantidad de horas a la cual se va a proyectar (h) y la CONCENTRACIÓN\n",
    "#Se proyecta que eso emite durante 6h, pero como tiene que estar en minutos, se multiplica por 6*60"
   ]
  },
  {
   "cell_type": "code",
   "execution_count": null,
   "id": "fd133a16",
   "metadata": {},
   "outputs": [],
   "source": []
  },
  {
   "cell_type": "code",
   "execution_count": 42,
   "id": "411dd8ce",
   "metadata": {},
   "outputs": [
    {
     "name": "stderr",
     "output_type": "stream",
     "text": [
      "<ipython-input-42-22ada33ba429>:4: VisibleDeprecationWarning: Creating an ndarray from ragged nested sequences (which is a list-or-tuple of lists-or-tuples-or ndarrays with different lengths or shapes) is deprecated. If you meant to do this, you must specify 'dtype=object' when creating the ndarray.\n",
      "  gramos1=np.concatenate(np.array([gramos(6,c1[0][0:5]),gramos(4,c1[0][5:])]))\n",
      "<ipython-input-42-22ada33ba429>:5: VisibleDeprecationWarning: Creating an ndarray from ragged nested sequences (which is a list-or-tuple of lists-or-tuples-or ndarrays with different lengths or shapes) is deprecated. If you meant to do this, you must specify 'dtype=object' when creating the ndarray.\n",
      "  gramos2=np.concatenate(np.array([gramos(6,c2[0][0:5]),gramos(4,c2[0][5:])]))\n",
      "<ipython-input-42-22ada33ba429>:6: VisibleDeprecationWarning: Creating an ndarray from ragged nested sequences (which is a list-or-tuple of lists-or-tuples-or ndarrays with different lengths or shapes) is deprecated. If you meant to do this, you must specify 'dtype=object' when creating the ndarray.\n",
      "  gramos3=np.concatenate(np.array([gramos(6,c3[0][0:5]),gramos(4,c3[0][5:])]))\n",
      "<ipython-input-42-22ada33ba429>:7: VisibleDeprecationWarning: Creating an ndarray from ragged nested sequences (which is a list-or-tuple of lists-or-tuples-or ndarrays with different lengths or shapes) is deprecated. If you meant to do this, you must specify 'dtype=object' when creating the ndarray.\n",
      "  gramos4=np.concatenate(np.array([gramos(6,c4[0][0:5]),gramos(4,c4[0][5:])]))\n"
     ]
    }
   ],
   "source": [
    "#Los primeros 5 los proyecto por 6 h\n",
    "#El 6to, 7mo, 8vo, 9no los proyecto por 4 h\n",
    "\n",
    "gramos1=np.concatenate(np.array([gramos(6,c1[0][0:5]),gramos(4,c1[0][5:])]))\n",
    "gramos2=np.concatenate(np.array([gramos(6,c2[0][0:5]),gramos(4,c2[0][5:])]))\n",
    "gramos3=np.concatenate(np.array([gramos(6,c3[0][0:5]),gramos(4,c3[0][5:])]))\n",
    "gramos4=np.concatenate(np.array([gramos(6,c4[0][0:5]),gramos(4,c4[0][5:])]))"
   ]
  },
  {
   "cell_type": "code",
   "execution_count": 43,
   "id": "769d54f7",
   "metadata": {},
   "outputs": [
    {
     "data": {
      "text/plain": [
       "30"
      ]
     },
     "execution_count": 43,
     "metadata": {},
     "output_type": "execute_result"
    }
   ],
   "source": [
    "len(c1[0][0:])"
   ]
  },
  {
   "cell_type": "code",
   "execution_count": 44,
   "id": "bfd2c713",
   "metadata": {},
   "outputs": [],
   "source": [
    "gramos1_ac=np.add.accumulate(gramos1)\n",
    "gramos2_ac=np.add.accumulate(gramos2)\n",
    "gramos3_ac=np.add.accumulate(gramos3)\n",
    "gramos4_ac=np.add.accumulate(gramos4)"
   ]
  },
  {
   "cell_type": "code",
   "execution_count": 45,
   "id": "912c13ad",
   "metadata": {},
   "outputs": [
    {
     "data": {
      "image/png": "[encoded data removed]",
      "text/plain": [
       "<Figure size 432x288 with 1 Axes>"
      ]
     },
     "metadata": {
      "needs_background": "light"
     },
     "output_type": "display_data"
    }
   ],
   "source": [
    "plt.plot(t,gramos2_ac-gramos1_ac,'^--',label='Starch',color='green')\n",
    "plt.plot(t,gramos3_ac-gramos1_ac,'.--',label='TPS',color='blue')\n",
    "plt.plot(t,gramos4_ac-gramos1_ac,'s--',label='TPS-NPTiO$_2$',color='red')\n",
    "\n",
    "plt.legend()\n",
    "\n",
    "#plt.title('CO2 acumulado - sensor- restado')\n",
    "plt.xlabel('Tiempo [Días]')\n",
    "plt.ylabel('Masa [g]')\n",
    "plt.grid(True)\n",
    "plt.savefig(\"co2_acumulado-sensor_segunda-medicion-restado.png\")\n",
    "plt.show()"
   ]
  },
  {
   "cell_type": "code",
   "execution_count": null,
   "id": "135647ba",
   "metadata": {},
   "outputs": [],
   "source": []
  },
  {
   "cell_type": "code",
   "execution_count": null,
   "id": "066b20c8",
   "metadata": {},
   "outputs": [],
   "source": []
  },
  {
   "cell_type": "code",
   "execution_count": null,
   "id": "f52ffc93",
   "metadata": {},
   "outputs": [],
   "source": []
  },
  {
   "cell_type": "code",
   "execution_count": null,
   "id": "0004f3a2",
   "metadata": {},
   "outputs": [],
   "source": []
  },
  {
   "cell_type": "code",
   "execution_count": null,
   "id": "c5a8692d",
   "metadata": {},
   "outputs": [],
   "source": []
  }
 ],
 "metadata": {
  "kernelspec": {
   "display_name": "Python 3",
   "language": "python",
   "name": "python3"
  },
  "language_info": {
   "codemirror_mode": {
    "name": "ipython",
    "version": 3
   },
   "file_extension": ".py",
   "mimetype": "text/x-python",
   "name": "python",
   "nbconvert_exporter": "python",
   "pygments_lexer": "ipython3",
   "version": "3.8.5"
  }
 },
 "nbformat": 4,
 "nbformat_minor": 5
}
