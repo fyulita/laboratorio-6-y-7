{
 "cells": [
  {
   "cell_type": "code",
   "execution_count": 7,
   "id": "940204ad",
   "metadata": {},
   "outputs": [
    {
     "name": "stdout",
     "output_type": "stream",
     "text": [
      "Warning: Cannot change to a different GUI toolkit: notebook. Using qt instead.\n"
     ]
    }
   ],
   "source": [
    "%matplotlib notebook\n",
    "\n",
    "import numpy as np\n",
    "import pandas as pd\n",
    "import matplotlib.pyplot as plt"
   ]
  },
  {
   "cell_type": "code",
   "execution_count": 8,
   "id": "24063376",
   "metadata": {},
   "outputs": [],
   "source": [
    "#UNIDADES: sec\tºC\tuV\tmg\n",
    "\n",
    "data_TPS = pd.read_csv(\"TPS.txt\",sep='\\t',skiprows=32)\n",
    "data_TPSNP = pd.read_csv(\"TPS-NPTiO2.txt\",sep='\\t',skiprows=32)"
   ]
  },
  {
   "cell_type": "code",
   "execution_count": 9,
   "id": "209273cf",
   "metadata": {},
   "outputs": [],
   "source": [
    "#Normalizamos, para eso vemos la masa correspondiente a los 40ºC\n",
    "#Le pregunto qué valor de 'Temp' es el más cercano a los 40ºC, y esa posición de 'TGA' es la masa inicial\n",
    "\n",
    "m_i_TPS=data_TPS['TGA'][(np.where(data_TPS['Temp']<=40)[0][-1])]\n",
    "m_i_TPSNP=data_TPSNP['TGA'][(np.where(data_TPSNP['Temp']<=40)[0][-1])]"
   ]
  },
  {
   "cell_type": "code",
   "execution_count": 10,
   "id": "e61c814e",
   "metadata": {},
   "outputs": [],
   "source": [
    "plt.figure()\n",
    "plt.plot(data_TPS['Temp'],data_TPS['TGA']/m_i_TPS*100,label='TPS')\n",
    "plt.plot(data_TPSNP['Temp'],data_TPSNP['TGA']/m_i_TPSNP*100,label='TPS NP-TiO$_2$')\n",
    "plt.legend()\n",
    "plt.grid(True)\n",
    "plt.xlabel('Temperatura [ºC]')\n",
    "plt.ylabel('% Masa')\n",
    "#plt.savefig('TGA')\n",
    "plt.show()"
   ]
  },
  {
   "cell_type": "code",
   "execution_count": 6,
   "id": "bd1793e0",
   "metadata": {},
   "outputs": [],
   "source": [
    "plt.figure()\n",
    "plt.plot(data_TPS['Temp'],data_TPS['DTA'],label='TPS')\n",
    "plt.plot(data_TPSNP['Temp'],data_TPSNP['DTA'],label='TPS NP-TiO$_2$')\n",
    "plt.legend()\n",
    "plt.grid(True)\n",
    "plt.xlabel('Temperatura [ºC]')\n",
    "plt.ylabel('-')\n",
    "#plt.savefig('DTA')\n",
    "plt.show()"
   ]
  },
  {
   "cell_type": "code",
   "execution_count": null,
   "id": "bb61dd0c",
   "metadata": {},
   "outputs": [],
   "source": []
  }
 ],
 "metadata": {
  "kernelspec": {
   "display_name": "Python 3",
   "language": "python",
   "name": "python3"
  },
  "language_info": {
   "codemirror_mode": {
    "name": "ipython",
    "version": 3
   },
   "file_extension": ".py",
   "mimetype": "text/x-python",
   "name": "python",
   "nbconvert_exporter": "python",
   "pygments_lexer": "ipython3",
   "version": "3.8.5"
  }
 },
 "nbformat": 4,
 "nbformat_minor": 5
}
