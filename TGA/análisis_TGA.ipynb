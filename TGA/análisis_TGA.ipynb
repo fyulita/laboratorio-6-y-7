{
 "cells": [
  {
   "cell_type": "code",
   "execution_count": 7,
   "id": "1b1da60d",
   "metadata": {},
   "outputs": [
    {
     "name": "stdout",
     "output_type": "stream",
     "text": [
      "Using matplotlib backend: Qt5Agg\n"
     ]
    }
   ],
   "source": [
    "%matplotlib\n",
    "\n",
    "import numpy as np\n",
    "import pandas as pd\n",
    "import matplotlib.pyplot as plt\n"
   ]
  },
  {
   "cell_type": "code",
   "execution_count": 8,
   "id": "16eb54dc",
   "metadata": {},
   "outputs": [],
   "source": [
    "#UNIDADES: sec\tºC\tuV\tmg\n",
    "\n",
    "data_TPS = pd.read_csv(\"TPS.txt\",sep='\\t',skiprows=32)\n",
    "data_TPSNP = pd.read_csv(\"TPS-NPTiO2.txt\",sep='\\t',skiprows=32)"
   ]
  },
  {
   "cell_type": "code",
   "execution_count": 9,
   "id": "adb509b3",
   "metadata": {},
   "outputs": [],
   "source": [
    "#Normalizamos, para eso vemos la masa correspondiente a los 40ºC\n",
    "#Le pregunto qué valor de 'Temp' es el más cercano a los 40ºC, y esa posición de 'TGA' es la masa inicial\n",
    "\n",
    "m_i_TPS=data_TPS['TGA'][(np.where(data_TPS['Temp']<=40)[0][-1])]\n",
    "m_i_TPSNP=data_TPSNP['TGA'][(np.where(data_TPSNP['Temp']<=40)[0][-1])]"
   ]
  },
  {
   "cell_type": "code",
   "execution_count": 10,
   "id": "1bac3317",
   "metadata": {},
   "outputs": [],
   "source": [
    "plt.plot(data_TPS['Temp'],data_TPS['TGA']/m_i_TPS*100,label='TPS')\n",
    "plt.plot(data_TPSNP['Temp'],data_TPSNP['TGA']/m_i_TPSNP*100,label='TPS NP-TiO$_2$')\n",
    "plt.legend()\n",
    "plt.grid(True)\n",
    "plt.xlabel('Temperatura [ºC]')\n",
    "plt.ylabel('% Masa')\n",
    "plt.savefig('TGA')\n",
    "plt.show()"
   ]
  },
  {
   "cell_type": "code",
   "execution_count": null,
   "id": "a9f45b0b",
   "metadata": {},
   "outputs": [],
   "source": []
  },
  {
   "cell_type": "code",
   "execution_count": null,
   "id": "1c692922",
   "metadata": {},
   "outputs": [],
   "source": []
  }
 ],
 "metadata": {
  "kernelspec": {
   "display_name": "Python 3",
   "language": "python",
   "name": "python3"
  },
  "language_info": {
   "codemirror_mode": {
    "name": "ipython",
    "version": 3
   },
   "file_extension": ".py",
   "mimetype": "text/x-python",
   "name": "python",
   "nbconvert_exporter": "python",
   "pygments_lexer": "ipython3",
   "version": "3.8.5"
  }
 },
 "nbformat": 4,
 "nbformat_minor": 5
}
