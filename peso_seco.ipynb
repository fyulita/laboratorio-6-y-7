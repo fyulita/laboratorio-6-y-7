{
 "cells": [
  {
   "cell_type": "code",
   "execution_count": 1,
   "id": "913929e4",
   "metadata": {},
   "outputs": [],
   "source": [
    "import numpy as np"
   ]
  },
  {
   "cell_type": "code",
   "execution_count": 8,
   "id": "d8c3863b",
   "metadata": {},
   "outputs": [],
   "source": [
    "p_vasito= np.array([34.7481,35.2163,33.8463,34.7337])\n",
    "p_vasito_seco = np.array([34.7377,35.2087,33.8387,34.7272])\n",
    "\n",
    "p_film= np.array([0.5046,0.5066,0.5026,0.5053])\n",
    "p_film2=np.array([0.4997,0.5037,0.4983,0.5022]) #medí de nuevo 10 min después y en general disminuyó 0.03g\n",
    "p_vasito_film_seco = np.array([35.1357,35.6093,34.2344,35.1290])\n",
    "\n",
    "\n",
    "p_film_seco=p_vasito_seco+p_film- p_vasito_film_seco"
   ]
  },
  {
   "cell_type": "code",
   "execution_count": null,
   "id": "b1e09256",
   "metadata": {},
   "outputs": [],
   "source": []
  }
 ],
 "metadata": {
  "kernelspec": {
   "display_name": "Python 3",
   "language": "python",
   "name": "python3"
  },
  "language_info": {
   "codemirror_mode": {
    "name": "ipython",
    "version": 3
   },
   "file_extension": ".py",
   "mimetype": "text/x-python",
   "name": "python",
   "nbconvert_exporter": "python",
   "pygments_lexer": "ipython3",
   "version": "3.9.7"
  }
 },
 "nbformat": 4,
 "nbformat_minor": 5
}
