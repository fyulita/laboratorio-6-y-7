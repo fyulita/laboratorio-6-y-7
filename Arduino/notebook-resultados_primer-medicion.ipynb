{
 "cells": [
  {
   "cell_type": "code",
   "execution_count": 1,
   "id": "a4eb136b",
   "metadata": {},
   "outputs": [],
   "source": [
    "import numpy as np\n",
    "import pandas as pd\n",
    "import matplotlib.pyplot as plt"
   ]
  },
  {
   "cell_type": "code",
   "execution_count": 2,
   "id": "c851e184",
   "metadata": {},
   "outputs": [],
   "source": [
    "PATH = \"./measurements/full-x4\""
   ]
  },
  {
   "cell_type": "code",
   "execution_count": 3,
   "id": "08620389",
   "metadata": {},
   "outputs": [],
   "source": [
    "fechas=['2021-11-03_17-49-11','2021-11-05_16-07-41','2021-11-05_18-09-50',]\n",
    "data=[]\n",
    "\n",
    "for i in fechas:\n",
    "    data.append(pd.read_csv(f\"{PATH}/{i}/figuras/area_{i}.csv\"))"
   ]
  },
  {
   "cell_type": "code",
   "execution_count": 4,
   "id": "e9a036b6",
   "metadata": {},
   "outputs": [],
   "source": [
    "#OBSERVACIONES EN EL TIEMPO: x, por el eje. ESTO PARA LA MEDICIÓN ANTERIOR, NO BORRAR\n",
    "\n",
    "#1/4 porque son 4 mediciones en un día, así queda en función de los días\n",
    "dt=1/4\n",
    "x_1= np.arange(0,len(data[0][\"# nro\"])/4,dt) #Primera medición desde el 03/11 hasta el 05/11; son 7 mediciones\n",
    "x_2= np.array([x_1[-1] + dt]) #medición del 05/11 a las 16hs, única medición\n",
    "x_3= x_2 + np.arange(dt,len(data[2][\"# nro\"])/4+dt,dt) #continuación de las mediciones, desde 05/11 a las 18hs hasta 08/11 mediodía, total 11 mediciones\n",
    "#x_4 NO CONTAR LA MEDICION DEL 08/11 AL MEDIODIA\n",
    "\n",
    "args=(x_1,x_2,x_3)\n",
    "x=np.concatenate(args)"
   ]
  },
  {
   "cell_type": "code",
   "execution_count": 5,
   "id": "f47fc093",
   "metadata": {},
   "outputs": [],
   "source": [
    "#AREAS\n",
    "area1=[]\n",
    "area2=[]\n",
    "area3=[]\n",
    "area4=[]\n",
    "\n",
    "for i in range(len(fechas)):\n",
    "    area1.append(np.array(data[i]['Area1']))\n",
    "    area2.append(np.array(data[i]['Area2']))\n",
    "    area3.append(np.array(data[i]['Area3']))\n",
    "    area4.append(np.array(data[i]['Area4']))\n",
    "\n",
    "area1=np.concatenate(area1)\n",
    "area2=np.concatenate(area2)\n",
    "area3=np.concatenate(area3)\n",
    "area4=np.concatenate(area4)"
   ]
  },
  {
   "cell_type": "code",
   "execution_count": 6,
   "id": "d9e8fdcc",
   "metadata": {},
   "outputs": [
    {
     "data": {
      "text/plain": [
       "array([13860.51666667, 16247.35      , 13176.45833333,  4744.31666667,\n",
       "       19291.00833333, 19080.33333333, 21125.225     , 11299.125     ,\n",
       "          65.1       ,    65.35      ,    54.70833333,    66.        ,\n",
       "          66.6       ,    66.9       ,    66.95      ,    67.1       ,\n",
       "          67.25      ,    67.5       ,    67.7       ,    67.8       ,\n",
       "          67.65      ,    56.25      ,    67.75      ,    67.75      ,\n",
       "          67.5       ,    67.25      ,    67.3       ,    67.4       ,\n",
       "          67.3       ,    67.        ,    67.1       ,    67.2       ,\n",
       "          56.33333333,    67.7       ,    67.7       ,    67.75      ,\n",
       "          67.95      ,    67.85      ,    68.25      ,    68.7       ,\n",
       "          69.1       ,    57.83333333,    69.45      ,    58.04166667,\n",
       "          69.9       ,    70.1       ,    70.25      ,    70.25      ,\n",
       "          70.4       ,    70.5       ,    70.5       ,    70.7       ,\n",
       "          58.66666667,    70.15      ,    70.        ,    69.8       ,\n",
       "          70.        ,    70.3       ,    70.        ,    69.7       ,\n",
       "          69.75      ,    69.7       ,    69.7       ,    58.08333333,\n",
       "          69.8       ,    69.65      ,    69.7       ,    69.7       ,\n",
       "          69.45      ])"
      ]
     },
     "execution_count": 6,
     "metadata": {},
     "output_type": "execute_result"
    }
   ],
   "source": [
    "area1/60"
   ]
  },
  {
   "cell_type": "markdown",
   "id": "ff00e685",
   "metadata": {},
   "source": [
    "La fórmula es \n",
    "g= $\\frac{F CT 44 g/mol}{22414 . 10^6 0.001L/mol}$\n",
    "\n",
    "Con F el flujo (1.5L/min), CT el área bajo la curva en MINUTOS, como lo tenemos en segundos:\n",
    "\n",
    "g= $\\frac{F* CT/60 * 44 g/mol}{22414 . 10^6 0.001L/mol}$"
   ]
  },
  {
   "cell_type": "code",
   "execution_count": 7,
   "id": "962006f3",
   "metadata": {},
   "outputs": [],
   "source": [
    "F = 1.5\n",
    "den = 22414 * 0.001 * 10 ** 6\n",
    "\n",
    "def gramos(x): #meter el área\n",
    "    return F * x * 44 / (den*60)\n"
   ]
  },
  {
   "cell_type": "code",
   "execution_count": 8,
   "id": "dd6183d4",
   "metadata": {},
   "outputs": [],
   "source": [
    "gramos1=np.array(gramos(area1))\n",
    "gramos2=np.array(gramos(area2))\n",
    "gramos3=np.array(gramos(area3))\n",
    "gramos4=np.array(gramos(area4))"
   ]
  },
  {
   "cell_type": "code",
   "execution_count": 9,
   "id": "a36b3f9c",
   "metadata": {},
   "outputs": [],
   "source": [
    "#Gramos acumulados, suponiendo que ese valor se produjo durante 6h\n",
    "gramos1_ac=np.add.accumulate(gramos1*6)\n",
    "gramos2_ac=np.add.accumulate(gramos2*6)\n",
    "gramos3_ac=np.add.accumulate(gramos3*6)\n",
    "gramos4_ac=np.add.accumulate(gramos4*6)"
   ]
  },
  {
   "cell_type": "markdown",
   "id": "69bb92bd",
   "metadata": {},
   "source": [
    "Cada área tomada fue de 25 minutos, por tanto, hacemos regla de 3 simples para comparar con el de titulacion (5.5h)\n",
    "\n",
    "25 min ---- area\n",
    "\n",
    "5.5h=330min ----\n",
    "\n",
    "se debe multiplicar al eje Y por 330/25=13.2 ¿¿¿???"
   ]
  },
  {
   "cell_type": "code",
   "execution_count": 10,
   "id": "aa6fb956",
   "metadata": {},
   "outputs": [
    {
     "data": {
      "image/png": "[encoded data removed]",
      "text/plain": [
       "<Figure size 432x288 with 1 Axes>"
      ]
     },
     "metadata": {
      "needs_background": "light"
     },
     "output_type": "display_data"
    }
   ],
   "source": [
    "plt.plot(x,gramos1_ac,'.',label='Almidon')\n",
    "plt.plot(x,gramos3_ac,'.',label='A + NP TiO2')\n",
    "plt.plot(x,gramos4_ac,'.',label='Blanco')\n",
    "plt.plot(x,gramos2_ac,'.',label='Celulosa')\n",
    "plt.legend()\n",
    "plt.title('CO2 acumulado - sensor')\n",
    "plt.xlabel('Tiempo [Días]')\n",
    "plt.ylabel('Masa [g]')\n",
    "plt.grid(True)\n",
    "plt.savefig(\"co2_acumulado-sensor_primer-medicion.png\")\n",
    "plt.show()"
   ]
  },
  {
   "cell_type": "code",
   "execution_count": null,
   "id": "fbbda23a",
   "metadata": {},
   "outputs": [],
   "source": []
  },
  {
   "cell_type": "code",
   "execution_count": null,
   "id": "2d7ab429",
   "metadata": {},
   "outputs": [],
   "source": []
  },
  {
   "cell_type": "markdown",
   "id": "e9895af8",
   "metadata": {},
   "source": [
    "# Segundo intento"
   ]
  },
  {
   "cell_type": "code",
   "execution_count": 124,
   "id": "1c6e75eb",
   "metadata": {},
   "outputs": [],
   "source": [
    "# Voy a hacer uno a la vez"
   ]
  },
  {
   "cell_type": "code",
   "execution_count": 174,
   "id": "d05e985f",
   "metadata": {},
   "outputs": [],
   "source": [
    "c=area3/(25*60) #concentración en un momento dado"
   ]
  },
  {
   "cell_type": "code",
   "execution_count": 175,
   "id": "b05b622c",
   "metadata": {},
   "outputs": [
    {
     "data": {
      "image/png": "[encoded data removed]",
      "text/plain": [
       "<Figure size 432x288 with 1 Axes>"
      ]
     },
     "metadata": {
      "needs_background": "light"
     },
     "output_type": "display_data"
    }
   ],
   "source": [
    "plt.scatter(x,c)\n",
    "plt.title('Concentración de CO2 cada 6h')\n",
    "plt.xlabel('Tiempo [días]')\n",
    "plt.ylabel('Concentración [ppm]')\n",
    "plt.grid(True)\n",
    "plt.show()"
   ]
  },
  {
   "cell_type": "code",
   "execution_count": 176,
   "id": "d24b0c95",
   "metadata": {},
   "outputs": [],
   "source": [
    "#Tomo el valor medio entre un punto y el otro, para calcular la concentración promedio en cada intervalo\n",
    "\n",
    "c_mean=[]\n",
    "for i in range(len(c)-1):\n",
    "    c_mean.append(([c[i]]+c[i+1])/2)"
   ]
  },
  {
   "cell_type": "code",
   "execution_count": 177,
   "id": "a9d007ee",
   "metadata": {},
   "outputs": [
    {
     "data": {
      "image/png": "[encoded data removed]",
      "text/plain": [
       "<Figure size 432x288 with 1 Axes>"
      ]
     },
     "metadata": {
      "needs_background": "light"
     },
     "output_type": "display_data"
    }
   ],
   "source": [
    "plt.scatter(x,c)\n",
    "plt.scatter(x[:-1]+0.25/2,c_mean)\n",
    "plt.title('Concentración de CO2 cada 6h')\n",
    "plt.xlabel('Tiempo [días]')\n",
    "plt.ylabel('Concentración [ppm]')\n",
    "plt.grid(True)\n",
    "plt.show()"
   ]
  },
  {
   "cell_type": "code",
   "execution_count": null,
   "id": "bd999138",
   "metadata": {},
   "outputs": [],
   "source": []
  },
  {
   "cell_type": "code",
   "execution_count": 178,
   "id": "c21a12fa",
   "metadata": {},
   "outputs": [],
   "source": [
    "#Con ese promedio, estimo que ese fue el valor en la ventana de 6h\n",
    "g=1.2*np.array(c_mean)*44*6*60/(22414*0.001*10**6)"
   ]
  },
  {
   "cell_type": "code",
   "execution_count": 179,
   "id": "8fc9003c",
   "metadata": {},
   "outputs": [
    {
     "data": {
      "image/png": "[encoded data removed]",
      "text/plain": [
       "<Figure size 432x288 with 1 Axes>"
      ]
     },
     "metadata": {
      "needs_background": "light"
     },
     "output_type": "display_data"
    }
   ],
   "source": [
    "plt.scatter(x[:-1]+0.25/2,g)\n",
    "plt.title('Masa de CO2 emitido cada 6h')\n",
    "plt.xlabel('Tiempo [días]')\n",
    "plt.ylabel('Masa [g]')\n",
    "plt.grid(True)\n",
    "plt.show()"
   ]
  },
  {
   "cell_type": "code",
   "execution_count": 180,
   "id": "c5c43af1",
   "metadata": {},
   "outputs": [
    {
     "data": {
      "image/png": "[encoded data removed]",
      "text/plain": [
       "<Figure size 432x288 with 1 Axes>"
      ]
     },
     "metadata": {
      "needs_background": "light"
     },
     "output_type": "display_data"
    }
   ],
   "source": [
    "plt.scatter(x[:-1]+0.25/2,np.add.accumulate(g))\n",
    "plt.title('Evolución de CO2 acumulativo')\n",
    "plt.xlabel('Tiempo [días]')\n",
    "plt.ylabel('Masa [g]')\n",
    "plt.grid(True)\n",
    "plt.show()"
   ]
  },
  {
   "cell_type": "code",
   "execution_count": null,
   "id": "29959295",
   "metadata": {},
   "outputs": [],
   "source": []
  },
  {
   "cell_type": "code",
   "execution_count": null,
   "id": "3a89be14",
   "metadata": {},
   "outputs": [],
   "source": []
  },
  {
   "cell_type": "code",
   "execution_count": null,
   "id": "b1b3d1aa",
   "metadata": {},
   "outputs": [],
   "source": []
  },
  {
   "cell_type": "code",
   "execution_count": null,
   "id": "f93a0031",
   "metadata": {},
   "outputs": [],
   "source": []
  },
  {
   "cell_type": "code",
   "execution_count": 12,
   "id": "c0d9137c",
   "metadata": {},
   "outputs": [],
   "source": [
    "#Calculo las concentraciones promedio\n",
    "c_1=area1/(25*60)\n",
    "c_2=area2/(25*60)\n",
    "c_3=area3/(25*60)\n",
    "c_4=area4/(25*60)"
   ]
  },
  {
   "cell_type": "code",
   "execution_count": 13,
   "id": "925f814c",
   "metadata": {},
   "outputs": [
    {
     "data": {
      "image/png": "[encoded data removed]",
      "text/plain": [
       "<Figure size 432x288 with 1 Axes>"
      ]
     },
     "metadata": {
      "needs_background": "light"
     },
     "output_type": "display_data"
    }
   ],
   "source": [
    "plt.title('Concentración promedio')\n",
    "plt.plot(x,c_1,'.')\n",
    "plt.plot(x,c_2,'.')\n",
    "plt.plot(x,c_3,'.')\n",
    "plt.plot(x,c_4,'.')\n",
    "plt.grid(True)\n",
    "plt.show()"
   ]
  },
  {
   "cell_type": "markdown",
   "id": "eae63c84",
   "metadata": {},
   "source": [
    "Según la tesis, toma el valor medio entre un punto y el otro; y ese es el valor para todo ese intervalo de tiempo\n",
    "A= (C[n] + C[n+1] ) * (t[n] - t[n-1]) /2"
   ]
  },
  {
   "cell_type": "code",
   "execution_count": 14,
   "id": "c118bc62",
   "metadata": {},
   "outputs": [],
   "source": [
    "CT_1=[] #en minutos\n",
    "CT_2=[]\n",
    "CT_3=[]\n",
    "CT_4=[]\n",
    "\n",
    "for i in range(len(c_1)-1):\n",
    "    CT_1.append((c_1[i]+c_1[i+1])*6*60/2)\n",
    "    CT_2.append((c_2[i]+c_2[i+1])*6*60/2)\n",
    "    CT_3.append((c_3[i]+c_3[i+1])*6*60/2)\n",
    "    CT_4.append((c_4[i]+c_4[i+1])*6*60/2)"
   ]
  },
  {
   "cell_type": "code",
   "execution_count": 15,
   "id": "e1ed9b7f",
   "metadata": {},
   "outputs": [],
   "source": [
    "gramos1=np.array(gramos(np.array(CT_1)))\n",
    "gramos2=np.array(gramos(np.array(CT_2)))\n",
    "gramos3=np.array(gramos(np.array(CT_3)))\n",
    "gramos4=np.array(gramos(np.array(CT_4)))"
   ]
  },
  {
   "cell_type": "code",
   "execution_count": 16,
   "id": "88e6c5de",
   "metadata": {},
   "outputs": [],
   "source": [
    "gramos1_ac=[gramos1[0]]\n",
    "gramos2_ac=[gramos2[0]]\n",
    "gramos3_ac=[gramos3[0]]\n",
    "gramos4_ac=[gramos4[0]]\n",
    "\n",
    "\n",
    "for i in range(len(gramos1)-1):\n",
    "    gramos1_ac.append(gramos1_ac[i]+gramos1[i+1])\n",
    "    gramos2_ac.append(gramos2_ac[i]+gramos2[i+1])\n",
    "    gramos3_ac.append(gramos3_ac[i]+gramos3[i+1])\n",
    "    gramos4_ac.append(gramos4_ac[i]+gramos4[i+1])"
   ]
  },
  {
   "cell_type": "code",
   "execution_count": 18,
   "id": "7de05504",
   "metadata": {},
   "outputs": [
    {
     "data": {
      "image/png": "[encoded data removed]",
      "text/plain": [
       "<Figure size 432x288 with 1 Axes>"
      ]
     },
     "metadata": {
      "needs_background": "light"
     },
     "output_type": "display_data"
    }
   ],
   "source": [
    "plt.title('Concentración promedio')\n",
    "plt.plot(x[:-1]+0.25/2,gramos1_ac,'.')\n",
    "plt.plot(x[:-1]+0.25/2,gramos2_ac,'.')\n",
    "plt.plot(x[:-1]+0.25/2,gramos3_ac,'.')\n",
    "plt.plot(x[:-1]+0.25/2,gramos4_ac,'.')\n",
    "plt.grid(True)\n",
    "plt.show()"
   ]
  },
  {
   "cell_type": "code",
   "execution_count": null,
   "id": "e63905fc",
   "metadata": {},
   "outputs": [],
   "source": []
  }
 ],
 "metadata": {
  "kernelspec": {
   "display_name": "Python 3",
   "language": "python",
   "name": "python3"
  },
  "language_info": {
   "codemirror_mode": {
    "name": "ipython",
    "version": 3
   },
   "file_extension": ".py",
   "mimetype": "text/x-python",
   "name": "python",
   "nbconvert_exporter": "python",
   "pygments_lexer": "ipython3",
   "version": "3.8.5"
  }
 },
 "nbformat": 4,
 "nbformat_minor": 5
}
