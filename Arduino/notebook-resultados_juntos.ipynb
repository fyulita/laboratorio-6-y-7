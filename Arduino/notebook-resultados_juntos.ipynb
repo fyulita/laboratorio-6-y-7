{
 "cells": [
  {
   "cell_type": "code",
   "execution_count": 1,
   "id": "a4eb136b",
   "metadata": {},
   "outputs": [],
   "source": [
    "import numpy as np\n",
    "import pandas as pd\n",
    "import matplotlib.pyplot as plt"
   ]
  },
  {
   "cell_type": "markdown",
   "id": "af91b92e",
   "metadata": {},
   "source": [
    "# Resultados Primer Medicion"
   ]
  },
  {
   "cell_type": "code",
   "execution_count": 2,
   "id": "c851e184",
   "metadata": {},
   "outputs": [],
   "source": [
    "PATH = \"./measurements/full-x4\""
   ]
  },
  {
   "cell_type": "code",
   "execution_count": 3,
   "id": "08620389",
   "metadata": {},
   "outputs": [],
   "source": [
    "fechas=['2021-11-03_17-49-11','2021-11-05_16-07-41','2021-11-05_18-09-50','2021-11-08_15-57-42','2021-11-08_18-00-42']\n",
    "data=[]\n",
    "\n",
    "for i in fechas:\n",
    "    data.append(pd.read_csv(f\"{PATH}/{i}/figuras/area_{i}.csv\"))"
   ]
  },
  {
   "cell_type": "code",
   "execution_count": 4,
   "id": "43dde406",
   "metadata": {},
   "outputs": [],
   "source": [
    "data=pd.concat(data)"
   ]
  },
  {
   "cell_type": "code",
   "execution_count": 5,
   "id": "2f9e3104",
   "metadata": {},
   "outputs": [
    {
     "data": {
      "text/plain": [
       "26"
      ]
     },
     "execution_count": 5,
     "metadata": {},
     "output_type": "execute_result"
    }
   ],
   "source": [
    "len(data['Area1'])"
   ]
  },
  {
   "cell_type": "code",
   "execution_count": 6,
   "id": "e9a036b6",
   "metadata": {},
   "outputs": [],
   "source": [
    "#OBSERVACIONES EN EL TIEMPO: x, por el eje. ESTO PARA LA MEDICIÓN ANTERIOR, NO BORRAR\n",
    "\n",
    "#1/4 porque son 4 mediciones en un día, así queda en función de los días\n",
    "dt=1/4\n",
    "\n",
    "x= np.arange(0,len(data['Area1'])/4,1/4)"
   ]
  },
  {
   "cell_type": "code",
   "execution_count": 7,
   "id": "f47fc093",
   "metadata": {},
   "outputs": [],
   "source": [
    "#AREAS\n",
    "area1=[]\n",
    "area2=[]\n",
    "area3=[]\n",
    "area4=[]\n",
    "\n",
    "for i in range(len(fechas)):\n",
    "    area1.append(np.array(data['Area1']))\n",
    "    area2.append(np.array(data['Area2']))\n",
    "    area3.append(np.array(data['Area3']))\n",
    "    area4.append(np.array(data['Area4']))\n",
    "\n",
    "area1=np.concatenate(area1)\n",
    "area2=np.concatenate(area2)\n",
    "area3=np.concatenate(area3)\n",
    "area4=np.concatenate(area4)"
   ]
  },
  {
   "cell_type": "code",
   "execution_count": 8,
   "id": "e0395612",
   "metadata": {},
   "outputs": [],
   "source": [
    "#op2\n",
    "c1=np.array([data['Area1']])/(25*60)\n",
    "c2=np.array([data['Area2']])/(25*60)\n",
    "c3=np.array([data['Area3']])/(25*60)\n",
    "c4=np.array([data['Area4']])/(25*60)"
   ]
  },
  {
   "cell_type": "code",
   "execution_count": 9,
   "id": "d9e8fdcc",
   "metadata": {},
   "outputs": [
    {
     "data": {
      "text/plain": [
       "array([ 831631. ,  974841. ,  790587.5,  284659. , 1157460.5, 1144820. ,\n",
       "       1267513.5,  677947.5,  988622. , 1026005.5, 1006854.5, 1093228.5,\n",
       "       2338944. , 1885632.5, 1497286. , 1230042. ,  938509.5,  807984. ,\n",
       "        699564. , 2250000. , 1651300.5, 2301928. , 1620841. , 1332368.5,\n",
       "       1418490. , 1294032.5,  831631. ,  974841. ,  790587.5,  284659. ,\n",
       "       1157460.5, 1144820. , 1267513.5,  677947.5,  988622. , 1026005.5,\n",
       "       1006854.5, 1093228.5, 2338944. , 1885632.5, 1497286. , 1230042. ,\n",
       "        938509.5,  807984. ,  699564. , 2250000. , 1651300.5, 2301928. ,\n",
       "       1620841. , 1332368.5, 1418490. , 1294032.5,  831631. ,  974841. ,\n",
       "        790587.5,  284659. , 1157460.5, 1144820. , 1267513.5,  677947.5,\n",
       "        988622. , 1026005.5, 1006854.5, 1093228.5, 2338944. , 1885632.5,\n",
       "       1497286. , 1230042. ,  938509.5,  807984. ,  699564. , 2250000. ,\n",
       "       1651300.5, 2301928. , 1620841. , 1332368.5, 1418490. , 1294032.5,\n",
       "        831631. ,  974841. ,  790587.5,  284659. , 1157460.5, 1144820. ,\n",
       "       1267513.5,  677947.5,  988622. , 1026005.5, 1006854.5, 1093228.5,\n",
       "       2338944. , 1885632.5, 1497286. , 1230042. ,  938509.5,  807984. ,\n",
       "        699564. , 2250000. , 1651300.5, 2301928. , 1620841. , 1332368.5,\n",
       "       1418490. , 1294032.5,  831631. ,  974841. ,  790587.5,  284659. ,\n",
       "       1157460.5, 1144820. , 1267513.5,  677947.5,  988622. , 1026005.5,\n",
       "       1006854.5, 1093228.5, 2338944. , 1885632.5, 1497286. , 1230042. ,\n",
       "        938509.5,  807984. ,  699564. , 2250000. , 1651300.5, 2301928. ,\n",
       "       1620841. , 1332368.5, 1418490. , 1294032.5])"
      ]
     },
     "execution_count": 9,
     "metadata": {},
     "output_type": "execute_result"
    }
   ],
   "source": [
    "area1"
   ]
  },
  {
   "cell_type": "markdown",
   "id": "ff00e685",
   "metadata": {},
   "source": [
    "La fórmula es \n",
    "g= $\\frac{F CT 44 g/mol}{22414 . 10^6 0.001L/mol}$\n",
    "\n",
    "Con F el flujo (1.5L/min), CT el área bajo la curva en MINUTOS, como lo tenemos en segundos:\n",
    "\n",
    "g= $\\frac{F* CT/60 * 44 g/mol}{22414 . 10^6 0.001L/mol}$"
   ]
  },
  {
   "cell_type": "code",
   "execution_count": 10,
   "id": "962006f3",
   "metadata": {},
   "outputs": [],
   "source": [
    "F = 1.5\n",
    "den = 22414 * 0.001 * 10 ** 6\n",
    "\n",
    "def gramos(x): #meter el área\n",
    "    return F * x *6*60*44 / (den)\n"
   ]
  },
  {
   "cell_type": "code",
   "execution_count": 11,
   "id": "dd6183d4",
   "metadata": {},
   "outputs": [],
   "source": [
    "gramos1=gramos(c1)\n",
    "gramos2=gramos(c2)\n",
    "gramos3=gramos(c3)\n",
    "gramos4=gramos(c4)"
   ]
  },
  {
   "cell_type": "code",
   "execution_count": 12,
   "id": "a36b3f9c",
   "metadata": {},
   "outputs": [],
   "source": [
    "#Gramos acumulados, suponiendo que ese valor se produjo durante 6h\n",
    "gramos1_ac=np.add.accumulate(gramos1[0])\n",
    "gramos2_ac=np.add.accumulate(gramos2[0])\n",
    "gramos3_ac=np.add.accumulate(gramos3[0])\n",
    "gramos4_ac=np.add.accumulate(gramos4[0])"
   ]
  },
  {
   "cell_type": "code",
   "execution_count": 13,
   "id": "55384a03",
   "metadata": {},
   "outputs": [],
   "source": [
    "def error(x): #INTRODUCIR LA CONCENTRACIÓN\n",
    "    sigma_F=0.1\n",
    "    sigma_A=50 + x*0.05\n",
    "    A=sigma_F*x*6*60*44/den\n",
    "    B=sigma_A*F*6*60*44/den\n",
    "    return (A**2 + B**2)"
   ]
  },
  {
   "cell_type": "code",
   "execution_count": 14,
   "id": "817f4220",
   "metadata": {},
   "outputs": [],
   "source": [
    "error_g1=error(c1[0]) #var\n",
    "error_g2=error(c2[0]) #var\n",
    "error_g3=error(c3[0]) #var\n",
    "error_g4=error(c4[0]) #var"
   ]
  },
  {
   "cell_type": "code",
   "execution_count": 15,
   "id": "3730a74d",
   "metadata": {},
   "outputs": [],
   "source": [
    "error_g1_ac=np.add.accumulate(error_g1)\n",
    "error_g2_ac=np.add.accumulate(error_g2)\n",
    "error_g3_ac=np.add.accumulate(error_g3)\n",
    "error_g4_ac=np.add.accumulate(error_g4)"
   ]
  },
  {
   "cell_type": "markdown",
   "id": "69bb92bd",
   "metadata": {},
   "source": [
    "Cada área tomada fue de 25 minutos, por tanto, hacemos regla de 3 simples para comparar con el de titulacion (5.5h)\n",
    "\n",
    "25 min ---- area\n",
    "\n",
    "5.5h=330min ----\n",
    "\n",
    "se debe multiplicar al eje Y por 330/25=13.2 ¿¿¿???"
   ]
  },
  {
   "cell_type": "code",
   "execution_count": 16,
   "id": "aa6fb956",
   "metadata": {},
   "outputs": [
    {
     "data": {
      "image/png": "[encoded data removed]",
      "text/plain": [
       "<Figure size 432x288 with 1 Axes>"
      ]
     },
     "metadata": {
      "needs_background": "light"
     },
     "output_type": "display_data"
    }
   ],
   "source": [
    "#plt.title('CO2 acumulado - sensor')\n",
    "plt.errorbar(x,gramos3_ac,yerr=error_g3_ac**0.5,fmt='*',label='A + NP TiO$_2$',color='green')\n",
    "plt.errorbar(x,gramos1_ac,yerr=error_g1_ac**0.5,fmt='s',label='Almidón',color='red')\n",
    "plt.errorbar(x,gramos4_ac,yerr=error_g4_ac**0.5,fmt='^',label='Blanco',color='orange')\n",
    "plt.errorbar(x,gramos2_ac,yerr=error_g2_ac**0.5,fmt='.',label='Celulosa',color='blue')\n",
    "plt.legend()\n",
    "plt.xlabel('Tiempo [Días]')\n",
    "plt.ylabel('Masa [g]')\n",
    "plt.grid(True)\n",
    "plt.savefig(\"co2_acumulado-sensor_primer-medicion.png\")\n",
    "plt.show()"
   ]
  },
  {
   "cell_type": "code",
   "execution_count": 17,
   "id": "fbbda23a",
   "metadata": {},
   "outputs": [
    {
     "data": {
      "image/png": "[encoded data removed]",
      "text/plain": [
       "<Figure size 432x288 with 1 Axes>"
      ]
     },
     "metadata": {
      "needs_background": "light"
     },
     "output_type": "display_data"
    }
   ],
   "source": [
    "#plt.title('CO2 acumulado - sensor- restado')\n",
    "plt.errorbar(x,gramos3_ac-gramos4_ac,yerr=(error_g3_ac+error_g4_ac)**0.5,fmt='^',label='A + NP TiO$_2$',color='green')\n",
    "plt.errorbar(x,gramos1_ac-gramos4_ac,yerr=(error_g1_ac+error_g4_ac)**0.5,fmt='s',label='Almidón',color='red')\n",
    "plt.errorbar(x,gramos2_ac-gramos4_ac,yerr=(error_g2_ac+error_g4_ac)**0.5,fmt='.',label='Celulosa',color='blue')\n",
    "plt.legend()\n",
    "plt.xlabel('Tiempo [Días]')\n",
    "plt.ylabel('Masa [g]')\n",
    "plt.grid(True)\n",
    "plt.savefig(\"co2_acumulado-sensor_primer-medicion-restado.png\")\n",
    "plt.show()"
   ]
  },
  {
   "cell_type": "markdown",
   "id": "67b5cf4c",
   "metadata": {},
   "source": [
    "# Resultados Segunda Medicion"
   ]
  },
  {
   "cell_type": "code",
   "execution_count": 18,
   "id": "e5f5f02d",
   "metadata": {},
   "outputs": [],
   "source": [
    "fechas=['2021-11-19_17-55-37','2021-11-27_16-16-53']\n",
    "data=[]\n",
    "\n",
    "for i in fechas:\n",
    "    data.append(pd.read_csv(f\"{PATH}/{i}/figuras/area_{i}.csv\"))\n",
    "    \n",
    "data.append(pd.read_csv(f\"{PATH}/areasfinales/areas_0-280.csv\"))\n",
    "data.append(pd.read_csv(f\"{PATH}/areasfinales/areas_280-525.csv\"))\n",
    "data.append(pd.read_csv(f\"{PATH}/areasfinales/areas_525-569.csv\"))\n",
    "data.append(pd.read_csv(f\"{PATH}/areasfinales/areas_570-663.csv\"))\n",
    "\n",
    "#REPITO LOS ÚLTIMOS 4 PUNTOS PARA LLENAR EL BACHE. CORRESPONDE A LOS LUGARES 50,51,52,53\n",
    "data.append(pd.read_csv(f\"{PATH}/areasfinales/areas_525-569.csv\"))\n",
    "data.append(pd.read_csv(f\"{PATH}/areasfinales/areas_570-663.csv\"))\n",
    "\n",
    "data.append(pd.read_csv(f\"{PATH}/areasfinales/areas_955-990.csv\"))\n",
    "data.append(pd.read_csv(f\"{PATH}/areasfinales/areas_991-1134.csv\"))\n",
    "data.append(pd.read_csv(f\"{PATH}/areasfinales/areas_1180-1200.csv\"))\n",
    "data.append(pd.read_csv(f\"{PATH}/areasfinales/areas_1222-1237.csv\"))"
   ]
  },
  {
   "cell_type": "code",
   "execution_count": 19,
   "id": "ebc1e9e4",
   "metadata": {},
   "outputs": [],
   "source": [
    "data=pd.concat(data)"
   ]
  },
  {
   "cell_type": "code",
   "execution_count": 20,
   "id": "3dd3a717",
   "metadata": {},
   "outputs": [],
   "source": [
    "dt=1/4\n",
    "\n",
    "long=39\n",
    "\n",
    "x1= np.arange(0,long/4,dt)\n",
    "x2=(np.array([1,2,3,4,5,6,7,8,9,10,11,12+4,13+4,14+4,15+4,16+4,17+4,18+4]) + long)/4 #,8,9,10,11, 16,17,18,19,20,21,22,23,24])+long)/4\n",
    "x3=(np.arange(1,23,1)+long)/4\n",
    "\n",
    "x_2=np.concatenate([x1,x2])"
   ]
  },
  {
   "cell_type": "code",
   "execution_count": 21,
   "id": "db90f3d5",
   "metadata": {},
   "outputs": [],
   "source": [
    "#LA CONCENTRACION EN 25MIN:\n",
    "\n",
    "#area1=np.array([data['Area1']])/60\n",
    "#area2=np.array([data['Area2']])/60\n",
    "#area3=np.array([data['Area3']])/60\n",
    "#area4=np.array([data['Area4']])/60\n",
    "\n",
    "c1=np.array([data['Area1']])/(25*60)\n",
    "c2=np.array([data['Area2']])/(25*60)\n",
    "c3=np.array([data['Area3']])/(25*60)\n",
    "c4=np.array([data['Area4']])/(25*60)"
   ]
  },
  {
   "cell_type": "code",
   "execution_count": 22,
   "id": "61c61e70",
   "metadata": {},
   "outputs": [],
   "source": [
    "F = 1.5\n",
    "den = 22414 * 0.001 * 10 ** 6\n",
    "\n",
    "def gramos(C): #meter el área\n",
    "    return F *C*6*60* 44 / (den)\n",
    "\n",
    "#Se le introduce la CONCENTRACIÓN\n",
    "#Se proyecta que eso emite durante 6h, pero como tiene que estar en minutos, se multiplica por 6*60"
   ]
  },
  {
   "cell_type": "code",
   "execution_count": 23,
   "id": "6ce4bf70",
   "metadata": {},
   "outputs": [],
   "source": [
    "gramos1=gramos(c1)#area1))#*14.4\n",
    "gramos2=gramos(c2)#area2))#*14.4\n",
    "gramos3=gramos(c3)#area3))#*14.4\n",
    "gramos4=gramos(c4)#area4))#*14.4"
   ]
  },
  {
   "cell_type": "code",
   "execution_count": 24,
   "id": "bb48ed7a",
   "metadata": {},
   "outputs": [],
   "source": [
    "#Gramos acumulados, suponiendo que ese valor se produjo durante 6h\n",
    "gramos1_ac_2=np.add.accumulate(gramos1[0])\n",
    "gramos2_ac_2=np.add.accumulate(gramos2[0])\n",
    "gramos3_ac_2=np.add.accumulate(gramos3[0])\n",
    "gramos4_ac_2=np.add.accumulate(gramos4[0])"
   ]
  },
  {
   "cell_type": "code",
   "execution_count": 25,
   "id": "a87ed698",
   "metadata": {},
   "outputs": [
    {
     "data": {
      "text/plain": [
       "array([39.12845718, 39.75388771, 40.82524598, 41.45200758, 41.96230943,\n",
       "       42.48173479])"
      ]
     },
     "execution_count": 25,
     "metadata": {},
     "output_type": "execute_result"
    }
   ],
   "source": [
    "gramos1_ac_2[49:55]"
   ]
  },
  {
   "cell_type": "code",
   "execution_count": 26,
   "id": "51f49b8e",
   "metadata": {},
   "outputs": [
    {
     "data": {
      "text/plain": [
       "(39.75388771303649, 40.82524597840635, 41.45200758454537, 41.96230943160524)"
      ]
     },
     "execution_count": 26,
     "metadata": {},
     "output_type": "execute_result"
    }
   ],
   "source": [
    "#ELIMINO LOS 4 PUNTOS DEL BACHE, QUE NO SON REALES\n",
    "gramos1_ac_2[50],gramos1_ac_2[51],gramos1_ac_2[52],gramos1_ac_2[53]"
   ]
  },
  {
   "cell_type": "code",
   "execution_count": 27,
   "id": "e39243bd",
   "metadata": {},
   "outputs": [],
   "source": [
    "gramos1_ac_2=np.delete(gramos1_ac_2,[50,51,52,53])\n",
    "gramos2_ac_2=np.delete(gramos2_ac_2,[50,51,52,53])\n",
    "gramos3_ac_2=np.delete(gramos3_ac_2,[50,51,52,53])\n",
    "gramos4_ac_2=np.delete(gramos4_ac_2,[50,51,52,53])"
   ]
  },
  {
   "cell_type": "code",
   "execution_count": 28,
   "id": "389385e5",
   "metadata": {},
   "outputs": [],
   "source": [
    "def error(x): #INTRODUCIR LA CONCENTRACIÓN\n",
    "    sigma_F=0.1\n",
    "    sigma_A=50 + x*0.05\n",
    "    A=sigma_F*x*6*60*44/den\n",
    "    B=sigma_A*F*6*60*44/den\n",
    "    return (A**2 + B**2)"
   ]
  },
  {
   "cell_type": "code",
   "execution_count": 29,
   "id": "ec3f4fb7",
   "metadata": {},
   "outputs": [],
   "source": [
    "error_g1_2=error(c1[0]) #var\n",
    "error_g2_2=error(c2[0]) #var\n",
    "error_g3_2=error(c3[0]) #var\n",
    "error_g4_2=error(c4[0]) #var"
   ]
  },
  {
   "cell_type": "code",
   "execution_count": 30,
   "id": "2cbbffaa",
   "metadata": {},
   "outputs": [],
   "source": [
    "error_g1_ac_2=np.add.accumulate(error_g1_2)\n",
    "error_g2_ac_2=np.add.accumulate(error_g2_2)\n",
    "error_g3_ac_2=np.add.accumulate(error_g3_2)\n",
    "error_g4_ac_2=np.add.accumulate(error_g4_2)"
   ]
  },
  {
   "cell_type": "code",
   "execution_count": 31,
   "id": "b72c8b6d",
   "metadata": {},
   "outputs": [],
   "source": [
    "error_g1_ac_2=np.delete(error_g1_ac_2,[50,51,52,53])\n",
    "error_g2_ac_2=np.delete(error_g2_ac_2,[50,51,52,53])\n",
    "error_g3_ac_2=np.delete(error_g3_ac_2,[50,51,52,53])\n",
    "error_g4_ac_2=np.delete(error_g4_ac_2,[50,51,52,53])"
   ]
  },
  {
   "cell_type": "code",
   "execution_count": 32,
   "id": "7133cafd",
   "metadata": {},
   "outputs": [
    {
     "data": {
      "image/png": "[encoded data removed]",
      "text/plain": [
       "<Figure size 432x288 with 1 Axes>"
      ]
     },
     "metadata": {
      "needs_background": "light"
     },
     "output_type": "display_data"
    }
   ],
   "source": [
    "#plt.title('CO2 acumulado - sensor')\n",
    "plt.errorbar(x_2,gramos3_ac_2,yerr=error_g3_ac_2**0.5,fmt='*',label='A + NP TiO$_2$',color='green')\n",
    "plt.errorbar(x_2,gramos1_ac_2,yerr=error_g1_ac_2**0.5,fmt='s',label='Almidón',color='red')\n",
    "plt.errorbar(x_2,gramos4_ac_2,yerr=error_g4_ac_2**0.5,fmt='^',label='Blanco',color='orange')\n",
    "plt.errorbar(x_2,gramos2_ac_2,yerr=error_g2_ac_2**0.5,fmt='.',label='Celulosa',color='blue')\n",
    "plt.legend()\n",
    "plt.xlabel('Tiempo [Días]')\n",
    "plt.ylabel('Masa [g]')\n",
    "plt.grid(True)\n",
    "plt.savefig(\"co2_acumulado-sensor_segunda-medicion.png\")\n",
    "plt.show()"
   ]
  },
  {
   "cell_type": "code",
   "execution_count": 33,
   "id": "b0db3d5c",
   "metadata": {},
   "outputs": [
    {
     "data": {
      "image/png": "[encoded data removed]",
      "text/plain": [
       "<Figure size 432x288 with 1 Axes>"
      ]
     },
     "metadata": {
      "needs_background": "light"
     },
     "output_type": "display_data"
    }
   ],
   "source": [
    "#plt.title('CO2 acumulado - sensor- restado')\n",
    "plt.errorbar(x_2,gramos3_ac_2-gramos4_ac_2,yerr=(error_g3_ac_2+error_g4_ac_2)**0.5,fmt='.',label='A + NP TiO$_2$',color='green')\n",
    "plt.errorbar(x_2,gramos1_ac_2-gramos4_ac_2,yerr=(error_g1_ac_2+error_g4_ac_2)**0.5,fmt='s',label='Almidón',color='red')\n",
    "plt.errorbar(x_2,gramos2_ac_2-gramos4_ac_2,yerr=(error_g2_ac_2+error_g4_ac_2)**0.5,fmt='^',label='Celulosa',color='blue')\n",
    "plt.legend()\n",
    "plt.xlabel('Tiempo [Días]')\n",
    "plt.ylabel('Masa [g]')\n",
    "plt.grid(True)\n",
    "plt.savefig(\"co2_acumulado-sensor_segunda-medicion-restado.png\")\n",
    "plt.show()"
   ]
  },
  {
   "cell_type": "code",
   "execution_count": 34,
   "id": "dd0163ab",
   "metadata": {},
   "outputs": [
    {
     "data": {
      "text/plain": [
       "23.625244101008306"
      ]
     },
     "execution_count": 34,
     "metadata": {},
     "output_type": "execute_result"
    }
   ],
   "source": [
    "(gramos3_ac_2-gramos4_ac_2)[-1]"
   ]
  },
  {
   "cell_type": "markdown",
   "id": "7f69ab47",
   "metadata": {},
   "source": [
    "# Comparacion"
   ]
  },
  {
   "cell_type": "code",
   "execution_count": 35,
   "id": "949ecb87",
   "metadata": {},
   "outputs": [
    {
     "data": {
      "image/png": "[encoded data removed]",
      "text/plain": [
       "<Figure size 432x288 with 1 Axes>"
      ]
     },
     "metadata": {
      "needs_background": "light"
     },
     "output_type": "display_data"
    }
   ],
   "source": [
    "#plt.title('CO2 acumulado - sensor')\n",
    "plt.errorbar(x,gramos3_ac,yerr=error_g3_ac**0.5,fmt='*',label='A + NP TiO$_2$ 1',color='blue')\n",
    "plt.errorbar(x_2,gramos3_ac_2,yerr=error_g3_ac_2**0.5,fmt='p',label='A + NP TiO$_2$ 2',color='orange')\n",
    "plt.errorbar(x,gramos1_ac,yerr=error_g1_ac**0.5,fmt='s',label='Almidón 1',color='green')\n",
    "plt.errorbar(x_2,gramos1_ac_2,yerr=error_g1_ac_2**0.5,fmt='P',label='Almidón 2',color='red')\n",
    "plt.errorbar(x,gramos4_ac,yerr=error_g4_ac**0.5,fmt='^',label='Blanco 1',color='pink')\n",
    "plt.errorbar(x_2,gramos4_ac_2,yerr=error_g4_ac_2**0.5,fmt='v',label='Blanco 2',color='gray')\n",
    "plt.errorbar(x,gramos2_ac,yerr=error_g2_ac**0.5,fmt='.',label='Celulosa 1',color='purple')\n",
    "plt.errorbar(x_2,gramos2_ac_2,yerr=error_g2_ac_2**0.5,fmt='x',label='Celulosa 2',color='brown')\n",
    "plt.legend()\n",
    "plt.xlabel('Tiempo [Días]')\n",
    "plt.ylabel('Masa [g]')\n",
    "plt.xlim([0,6.4])\n",
    "plt.ylim([0, 30])\n",
    "plt.grid(True)\n",
    "plt.savefig(\"co2_acumulado-sensor_juntos.png\")\n",
    "plt.show()"
   ]
  },
  {
   "cell_type": "code",
   "execution_count": 40,
   "id": "08dfe8b3",
   "metadata": {},
   "outputs": [
    {
     "data": {
      "image/png": "[encoded data removed]",
      "text/plain": [
       "<Figure size 432x288 with 1 Axes>"
      ]
     },
     "metadata": {
      "needs_background": "light"
     },
     "output_type": "display_data"
    }
   ],
   "source": [
    "#plt.title('CO2 acumulado - sensor- restado')\n",
    "plt.errorbar(x,gramos3_ac-gramos4_ac,yerr=(error_g3_ac+error_g4_ac)**0.5,fmt='^',label='A + NP TiO$_2$ 1',color='dodgerblue')\n",
    "plt.errorbar(x_2,gramos3_ac_2-gramos4_ac_2,yerr=(error_g3_ac_2+error_g4_ac_2)**0.5,fmt='.',label='A + NP TiO$_2$ 2',color='blue')\n",
    "plt.errorbar(x,gramos1_ac-gramos4_ac,yerr=(error_g1_ac+error_g4_ac)**0.5,fmt='s',label='Almidón 1',color='lightcoral')\n",
    "plt.errorbar(x_2,gramos1_ac_2-gramos4_ac_2,yerr=(error_g1_ac_2+error_g4_ac_2)**0.5,fmt='s',label='Almidón 2',color='red')\n",
    "plt.errorbar(x,gramos2_ac-gramos4_ac,yerr=(error_g2_ac+error_g4_ac)**0.5,fmt='.',label='Celulosa 1',color='limegreen')\n",
    "plt.errorbar(x_2,gramos2_ac_2-gramos4_ac_2,yerr=(error_g2_ac_2+error_g4_ac_2)**0.5,fmt='^',label='Celulosa 2',color='green')\n",
    "plt.legend()\n",
    "plt.xlabel('Tiempo [Días]')\n",
    "plt.ylabel('Masa [g]')\n",
    "plt.xlim([0,6.4])\n",
    "plt.ylim([-2.5, 15])\n",
    "plt.grid(True)\n",
    "plt.savefig(\"co2_acumulado-sensor_juntos-restado.png\")\n",
    "plt.show()"
   ]
  },
  {
   "cell_type": "code",
   "execution_count": null,
   "id": "161ed598",
   "metadata": {},
   "outputs": [],
   "source": []
  }
 ],
 "metadata": {
  "kernelspec": {
   "display_name": "Python 3",
   "language": "python",
   "name": "python3"
  },
  "language_info": {
   "codemirror_mode": {
    "name": "ipython",
    "version": 3
   },
   "file_extension": ".py",
   "mimetype": "text/x-python",
   "name": "python",
   "nbconvert_exporter": "python",
   "pygments_lexer": "ipython3",
   "version": "3.8.5"
  }
 },
 "nbformat": 4,
 "nbformat_minor": 5
}
