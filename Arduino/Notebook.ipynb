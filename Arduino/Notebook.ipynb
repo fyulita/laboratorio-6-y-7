{
 "cells": [
  {
   "cell_type": "markdown",
   "id": "e9e5a8cd",
   "metadata": {},
   "source": [
    "# Extracción de Datos"
   ]
  },
  {
   "cell_type": "code",
   "execution_count": 1,
   "id": "eaaf096a-7be1-4d2e-be61-97e6170ef011",
   "metadata": {},
   "outputs": [],
   "source": [
    "# Importamos las bibliotecas que vamos a usar\n",
    "import numpy as np\n",
    "import pandas as pd\n",
    "import matplotlib.pyplot as plt"
   ]
  },
  {
   "cell_type": "code",
   "execution_count": 2,
   "id": "628c3b68-f7c0-431b-9707-512368f15ff3",
   "metadata": {},
   "outputs": [],
   "source": [
    "# Definimos los arrays principales que vamos a usar\n",
    "tiempos = np.array([])\n",
    "temp_suncho = np.array([])\n",
    "temp_compost = np.array([])\n",
    "estados = np.array([])    # Apagado: 0, Prendido: 1"
   ]
  },
  {
   "cell_type": "code",
   "execution_count": 3,
   "id": "6022c9a0-6d74-4f9d-b616-ee2fb627c188",
   "metadata": {},
   "outputs": [
    {
     "data": {
      "text/html": [
       "<div>\n",
       "<style scoped>\n",
       "    .dataframe tbody tr th:only-of-type {\n",
       "        vertical-align: middle;\n",
       "    }\n",
       "\n",
       "    .dataframe tbody tr th {\n",
       "        vertical-align: top;\n",
       "    }\n",
       "\n",
       "    .dataframe thead th {\n",
       "        text-align: right;\n",
       "    }\n",
       "</style>\n",
       "<table border=\"1\" class=\"dataframe\">\n",
       "  <thead>\n",
       "    <tr style=\"text-align: right;\">\n",
       "      <th></th>\n",
       "      <th>Date_Time</th>\n",
       "      <th>Temp_Compost</th>\n",
       "      <th>Temp_Suncho</th>\n",
       "      <th>Estado</th>\n",
       "    </tr>\n",
       "  </thead>\n",
       "  <tbody>\n",
       "    <tr>\n",
       "      <th>0</th>\n",
       "      <td>14/06/2021_18:12:22</td>\n",
       "      <td>19.94</td>\n",
       "      <td>32.75</td>\n",
       "      <td>Prendido</td>\n",
       "    </tr>\n",
       "    <tr>\n",
       "      <th>1</th>\n",
       "      <td>14/06/2021_18:12:23</td>\n",
       "      <td>19.94</td>\n",
       "      <td>32.88</td>\n",
       "      <td>Prendido</td>\n",
       "    </tr>\n",
       "    <tr>\n",
       "      <th>2</th>\n",
       "      <td>14/06/2021_18:12:25</td>\n",
       "      <td>19.94</td>\n",
       "      <td>32.88</td>\n",
       "      <td>Prendido</td>\n",
       "    </tr>\n",
       "    <tr>\n",
       "      <th>3</th>\n",
       "      <td>14/06/2021_18:12:27</td>\n",
       "      <td>19.94</td>\n",
       "      <td>33.00</td>\n",
       "      <td>Prendido</td>\n",
       "    </tr>\n",
       "    <tr>\n",
       "      <th>4</th>\n",
       "      <td>14/06/2021_18:12:28</td>\n",
       "      <td>19.94</td>\n",
       "      <td>33.06</td>\n",
       "      <td>Prendido</td>\n",
       "    </tr>\n",
       "    <tr>\n",
       "      <th>...</th>\n",
       "      <td>...</td>\n",
       "      <td>...</td>\n",
       "      <td>...</td>\n",
       "      <td>...</td>\n",
       "    </tr>\n",
       "    <tr>\n",
       "      <th>95</th>\n",
       "      <td>14/06/2021_18:14:54</td>\n",
       "      <td>20.12</td>\n",
       "      <td>46.13</td>\n",
       "      <td>Prendido</td>\n",
       "    </tr>\n",
       "    <tr>\n",
       "      <th>96</th>\n",
       "      <td>14/06/2021_18:14:56</td>\n",
       "      <td>20.12</td>\n",
       "      <td>46.13</td>\n",
       "      <td>Prendido</td>\n",
       "    </tr>\n",
       "    <tr>\n",
       "      <th>97</th>\n",
       "      <td>14/06/2021_18:14:58</td>\n",
       "      <td>20.12</td>\n",
       "      <td>46.06</td>\n",
       "      <td>Prendido</td>\n",
       "    </tr>\n",
       "    <tr>\n",
       "      <th>98</th>\n",
       "      <td>14/06/2021_18:14:59</td>\n",
       "      <td>20.12</td>\n",
       "      <td>46.06</td>\n",
       "      <td>Prendido</td>\n",
       "    </tr>\n",
       "    <tr>\n",
       "      <th>99</th>\n",
       "      <td>14/06/2021_18:15:01</td>\n",
       "      <td>20.12</td>\n",
       "      <td>46.06</td>\n",
       "      <td>Prendido</td>\n",
       "    </tr>\n",
       "  </tbody>\n",
       "</table>\n",
       "<p>100 rows × 4 columns</p>\n",
       "</div>"
      ],
      "text/plain": [
       "              Date_Time  Temp_Compost  Temp_Suncho    Estado\n",
       "0   14/06/2021_18:12:22         19.94        32.75  Prendido\n",
       "1   14/06/2021_18:12:23         19.94        32.88  Prendido\n",
       "2   14/06/2021_18:12:25         19.94        32.88  Prendido\n",
       "3   14/06/2021_18:12:27         19.94        33.00  Prendido\n",
       "4   14/06/2021_18:12:28         19.94        33.06  Prendido\n",
       "..                  ...           ...          ...       ...\n",
       "95  14/06/2021_18:14:54         20.12        46.13  Prendido\n",
       "96  14/06/2021_18:14:56         20.12        46.13  Prendido\n",
       "97  14/06/2021_18:14:58         20.12        46.06  Prendido\n",
       "98  14/06/2021_18:14:59         20.12        46.06  Prendido\n",
       "99  14/06/2021_18:15:01         20.12        46.06  Prendido\n",
       "\n",
       "[100 rows x 4 columns]"
      ]
     },
     "metadata": {},
     "output_type": "display_data"
    }
   ],
   "source": [
    "# Veamos alguno de los archivos csv como ejemplo\n",
    "df_test = pd.read_csv(\"./measurements/data_0.csv\")\n",
    "display(df_test)"
   ]
  },
  {
   "cell_type": "code",
   "execution_count": 4,
   "id": "e706de31-4d40-4d0e-8d70-5ab812c57d0c",
   "metadata": {},
   "outputs": [
    {
     "name": "stdout",
     "output_type": "stream",
     "text": [
      "62878011142\n"
     ]
    }
   ],
   "source": [
    "# Antes de llenar los arrays vamos a necesitar una función que convierta un tiempo en el formato que usamos en tiempo absoluto para poder comparar las mediciones entre sí\n",
    "def convertirTiempo(t_i, t):\n",
    "    dia = int(t[:2])\n",
    "    mes = int(t[3:5])\n",
    "    ano = int(t[6:10])\n",
    "    hora = int(t[11:13])\n",
    "    minuto = int(t[14:16])\n",
    "    segundo = int(t[17:])\n",
    "    \n",
    "    t_abs = segundo + 60 * minuto + (60 ** 2) * hora + 24 * (60 ** 2) * dia + 30 * 24 * (60 ** 2) * mes + 12 * 30 * 24 * (60 ** 2) * ano\n",
    "    return t_abs - t_i\n",
    "\n",
    "\n",
    "# Definamos el tiempo inicial\n",
    "t_i = convertirTiempo(0, \"14/06/2021_18:12:22\")\n",
    "print(t_i)"
   ]
  },
  {
   "cell_type": "code",
   "execution_count": 5,
   "id": "f609cadd-e739-483d-97be-0d2bbfc47517",
   "metadata": {},
   "outputs": [],
   "source": [
    "# Llenemos las listas con los datos\n",
    "n = 210    # Cantidad de csv's que llenamos\n",
    "for i in range(n + 1):\n",
    "    df = pd.read_csv(f\"./measurements/data_{i}.csv\")\n",
    "\n",
    "    # Temperaturas\n",
    "    temp_suncho = np.concatenate((temp_suncho, np.transpose(df[\"Temp_Suncho\"].to_numpy())))\n",
    "    temp_compost = np.concatenate((temp_compost, np.transpose(df[\"Temp_Compost\"].to_numpy())))\n",
    "\n",
    "    # Tiempo\n",
    "    for t in np.transpose(df[\"Date_Time\"].to_numpy()):\n",
    "        tiempos = np.concatenate((tiempos, np.array([convertirTiempo(t_i, t)])))\n",
    "\n",
    "    # Estado\n",
    "    for e in np.transpose(df[\"Estado\"].to_numpy()):\n",
    "        if e == \"Prendido\":\n",
    "            estados = np.concatenate((estados, np.array([1])))\n",
    "        else:\n",
    "            estados = np.concatenate((estados, np.array([0])))"
   ]
  },
  {
   "cell_type": "markdown",
   "id": "4d30c5b6",
   "metadata": {},
   "source": [
    "# Gráficos"
   ]
  },
  {
   "cell_type": "code",
   "execution_count": 6,
   "id": "fb9d2e5d-4acb-403d-9668-30fbc3ddc5b4",
   "metadata": {},
   "outputs": [
    {
     "data": {
      "image/png": "[encoded data removed]",
      "text/plain": [
       "<Figure size 432x288 with 1 Axes>"
      ]
     },
     "metadata": {
      "needs_background": "light"
     },
     "output_type": "display_data"
    }
   ],
   "source": [
    "plt.figure(\"Temperatura del Suncho\")\n",
    "plt.title(\"Tempertura del Suncho\")\n",
    "plt.plot(tiempos, temp_suncho, \"o\")\n",
    "plt.grid()\n",
    "plt.xlabel(\"Tiempo [s]\")\n",
    "plt.ylabel(\"Temperatura [°C]\")\n",
    "plt.ylim([30, 60])\n",
    "plt.savefig(\"./Figuras/Temperatura-del-Suncho.png\")\n",
    "plt.show()"
   ]
  },
  {
   "cell_type": "code",
   "execution_count": 7,
   "id": "1937d60e-f92d-4d91-ab75-86c02ffa25d1",
   "metadata": {},
   "outputs": [
    {
     "data": {
      "image/png": "[encoded data removed]",
      "text/plain": [
       "<Figure size 432x288 with 1 Axes>"
      ]
     },
     "metadata": {
      "needs_background": "light"
     },
     "output_type": "display_data"
    }
   ],
   "source": [
    "plt.figure(\"Temperatura del Compost\")\n",
    "plt.title(\"Tempertura del Compost\")\n",
    "plt.plot(tiempos, temp_compost, \"o\")\n",
    "plt.grid()\n",
    "plt.xlabel(\"Tiempo [s]\")\n",
    "plt.ylabel(\"Temperatura [°C]\")\n",
    "plt.ylim([20, 55])\n",
    "plt.savefig(\"./Figuras/Temperatura-del-Compost.png\")\n",
    "plt.show()"
   ]
  },
  {
   "cell_type": "code",
   "execution_count": 8,
   "id": "37e650db-65fc-41d1-877d-261130845a7b",
   "metadata": {},
   "outputs": [
    {
     "data": {
      "image/png": "[encoded data removed]",
      "text/plain": [
       "<Figure size 432x288 with 1 Axes>"
      ]
     },
     "metadata": {
      "needs_background": "light"
     },
     "output_type": "display_data"
    }
   ],
   "source": [
    "plt.figure(\"Estados\")\n",
    "plt.title(\"Estados\")\n",
    "plt.bar(tiempos, estados, width=2)\n",
    "plt.grid()\n",
    "plt.xlabel(\"Tiempo [s]\")\n",
    "plt.ylabel(\"Estado\")\n",
    "plt.savefig(\"./Figuras/Estados.png\")\n",
    "plt.show()"
   ]
  },
  {
   "cell_type": "code",
   "execution_count": null,
   "id": "70cd10db-d6a0-4c96-a25b-283a7124b95f",
   "metadata": {},
   "outputs": [],
   "source": []
  }
 ],
 "metadata": {
  "kernelspec": {
   "display_name": "Python 3",
   "language": "python",
   "name": "python3"
  },
  "language_info": {
   "codemirror_mode": {
    "name": "ipython",
    "version": 3
   },
   "file_extension": ".py",
   "mimetype": "text/x-python",
   "name": "python",
   "nbconvert_exporter": "python",
   "pygments_lexer": "ipython3",
   "version": "3.9.5"
  }
 },
 "nbformat": 4,
 "nbformat_minor": 5
}
