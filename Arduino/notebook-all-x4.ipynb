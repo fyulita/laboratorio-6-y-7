{
 "cells": [
  {
   "cell_type": "markdown",
   "id": "dbb99e1e",
   "metadata": {},
   "source": [
    "# Extracción de Datos de CO2 y Temperatura"
   ]
  },
  {
   "cell_type": "code",
   "execution_count": 1,
   "id": "4ad499a5",
   "metadata": {},
   "outputs": [],
   "source": [
    "# Importamos las bibliotecas que vamos a usar\n",
    "#%matplotlib notebook\n",
    "import numpy as np\n",
    "import pandas as pd\n",
    "import matplotlib.pyplot as plt\n",
    "from scipy.integrate import trapezoid\n",
    "import os"
   ]
  },
  {
   "cell_type": "code",
   "execution_count": 2,
   "id": "4e023c90",
   "metadata": {},
   "outputs": [],
   "source": [
    "# Definimos los arrays principales que vamos a usar\n",
    "tiempos = np.array([])\n",
    "co2 = np.array([])    # (ppm)\n",
    "\n",
    "estado_valvula_co2_1 =  np.array([])\n",
    "estado_valvula_compost_1 = np.array([])\n",
    "estado_valvula_co2_2 =  np.array([])\n",
    "estado_valvula_compost_2 = np.array([])\n",
    "temp_suncho = np.array([])\n",
    "estado_valvula_co2_3 =  np.array([])\n",
    "estado_valvula_compost_3 = np.array([])\n",
    "temp_suncho = np.array([])\n",
    "estado_valvula_co2_4 =  np.array([])\n",
    "estado_valvula_compost_4 = np.array([])\n",
    "temp_suncho = np.array([])\n",
    "\n",
    "temp_suncho = np.array([])\n",
    "\n",
    "temp_compost_1 = np.array([])\n",
    "temp_compost_2 = np.array([])\n",
    "temp_compost_3 = np.array([])\n",
    "temp_compost_4 = np.array([])\n",
    "\n",
    "estado_suncho = np.array([])    # Apagado: 0, Prendido: 1"
   ]
  },
  {
   "cell_type": "code",
   "execution_count": 3,
   "id": "4d775c92",
   "metadata": {},
   "outputs": [],
   "source": [
    "# Definamos la carpeta con las mediciones como PATH\n",
    "PATH = \"./measurements/full-x4/2021-11-05_18-09-50\"\n",
    "\n",
    "# Creamos una carpeta para las figuras (si es que no existe)\n",
    "if not os.path.isdir(f\"{PATH}/figuras\"):\n",
    "    os.makedirs(f\"{PATH}/figuras\")"
   ]
  },
  {
   "cell_type": "code",
   "execution_count": 4,
   "id": "9bb444d8",
   "metadata": {},
   "outputs": [
    {
     "data": {
      "text/html": [
       "<div>\n",
       "<style scoped>\n",
       "    .dataframe tbody tr th:only-of-type {\n",
       "        vertical-align: middle;\n",
       "    }\n",
       "\n",
       "    .dataframe tbody tr th {\n",
       "        vertical-align: top;\n",
       "    }\n",
       "\n",
       "    .dataframe thead th {\n",
       "        text-align: right;\n",
       "    }\n",
       "</style>\n",
       "<table border=\"1\" class=\"dataframe\">\n",
       "  <thead>\n",
       "    <tr style=\"text-align: right;\">\n",
       "      <th></th>\n",
       "      <th>Date_Time</th>\n",
       "      <th>CO2</th>\n",
       "      <th>Estado_Valvula_CO2_1</th>\n",
       "      <th>Estado_Valvula_Compost_1</th>\n",
       "      <th>Estado_Valvula_CO2_2</th>\n",
       "      <th>Estado_Valvula_Compost_2</th>\n",
       "      <th>Estado_Valvula_CO2_3</th>\n",
       "      <th>Estado_Valvula_Compost_3</th>\n",
       "      <th>Estado_Valvula_CO2_4</th>\n",
       "      <th>Estado_Valvula_Compost_4</th>\n",
       "      <th>Temp_Compost_1</th>\n",
       "      <th>Temp_Compost_2</th>\n",
       "      <th>Temp_Compost_3</th>\n",
       "      <th>Temp_Compost_4</th>\n",
       "      <th>Temp_Suncho</th>\n",
       "      <th>Estado_Suncho</th>\n",
       "    </tr>\n",
       "  </thead>\n",
       "  <tbody>\n",
       "    <tr>\n",
       "      <th>0</th>\n",
       "      <td>05/11/2021_18:09:53</td>\n",
       "      <td>599</td>\n",
       "      <td>Apagado</td>\n",
       "      <td>Prendido</td>\n",
       "      <td>Apagado</td>\n",
       "      <td>Prendido</td>\n",
       "      <td>Apagado</td>\n",
       "      <td>Prendido</td>\n",
       "      <td>Apagado</td>\n",
       "      <td>Prendido</td>\n",
       "      <td>41.81</td>\n",
       "      <td>34.31</td>\n",
       "      <td>40.38</td>\n",
       "      <td>59.56</td>\n",
       "      <td>39.88</td>\n",
       "      <td>Prendido</td>\n",
       "    </tr>\n",
       "    <tr>\n",
       "      <th>1</th>\n",
       "      <td>05/11/2021_18:09:59</td>\n",
       "      <td>599</td>\n",
       "      <td>Apagado</td>\n",
       "      <td>Prendido</td>\n",
       "      <td>Apagado</td>\n",
       "      <td>Prendido</td>\n",
       "      <td>Apagado</td>\n",
       "      <td>Prendido</td>\n",
       "      <td>Apagado</td>\n",
       "      <td>Prendido</td>\n",
       "      <td>41.81</td>\n",
       "      <td>34.25</td>\n",
       "      <td>40.38</td>\n",
       "      <td>59.44</td>\n",
       "      <td>39.88</td>\n",
       "      <td>Prendido</td>\n",
       "    </tr>\n",
       "    <tr>\n",
       "      <th>2</th>\n",
       "      <td>05/11/2021_18:10:05</td>\n",
       "      <td>602</td>\n",
       "      <td>Apagado</td>\n",
       "      <td>Prendido</td>\n",
       "      <td>Apagado</td>\n",
       "      <td>Prendido</td>\n",
       "      <td>Apagado</td>\n",
       "      <td>Prendido</td>\n",
       "      <td>Apagado</td>\n",
       "      <td>Prendido</td>\n",
       "      <td>41.81</td>\n",
       "      <td>34.25</td>\n",
       "      <td>40.38</td>\n",
       "      <td>59.56</td>\n",
       "      <td>39.81</td>\n",
       "      <td>Prendido</td>\n",
       "    </tr>\n",
       "    <tr>\n",
       "      <th>3</th>\n",
       "      <td>05/11/2021_18:10:10</td>\n",
       "      <td>601</td>\n",
       "      <td>Apagado</td>\n",
       "      <td>Prendido</td>\n",
       "      <td>Apagado</td>\n",
       "      <td>Prendido</td>\n",
       "      <td>Apagado</td>\n",
       "      <td>Prendido</td>\n",
       "      <td>Apagado</td>\n",
       "      <td>Prendido</td>\n",
       "      <td>41.81</td>\n",
       "      <td>34.31</td>\n",
       "      <td>40.38</td>\n",
       "      <td>59.56</td>\n",
       "      <td>39.81</td>\n",
       "      <td>Prendido</td>\n",
       "    </tr>\n",
       "    <tr>\n",
       "      <th>4</th>\n",
       "      <td>05/11/2021_18:10:16</td>\n",
       "      <td>603</td>\n",
       "      <td>Apagado</td>\n",
       "      <td>Prendido</td>\n",
       "      <td>Apagado</td>\n",
       "      <td>Prendido</td>\n",
       "      <td>Apagado</td>\n",
       "      <td>Prendido</td>\n",
       "      <td>Apagado</td>\n",
       "      <td>Prendido</td>\n",
       "      <td>41.81</td>\n",
       "      <td>34.25</td>\n",
       "      <td>40.38</td>\n",
       "      <td>59.69</td>\n",
       "      <td>39.88</td>\n",
       "      <td>Prendido</td>\n",
       "    </tr>\n",
       "    <tr>\n",
       "      <th>...</th>\n",
       "      <td>...</td>\n",
       "      <td>...</td>\n",
       "      <td>...</td>\n",
       "      <td>...</td>\n",
       "      <td>...</td>\n",
       "      <td>...</td>\n",
       "      <td>...</td>\n",
       "      <td>...</td>\n",
       "      <td>...</td>\n",
       "      <td>...</td>\n",
       "      <td>...</td>\n",
       "      <td>...</td>\n",
       "      <td>...</td>\n",
       "      <td>...</td>\n",
       "      <td>...</td>\n",
       "      <td>...</td>\n",
       "    </tr>\n",
       "    <tr>\n",
       "      <th>95</th>\n",
       "      <td>05/11/2021_18:19:10</td>\n",
       "      <td>641</td>\n",
       "      <td>Apagado</td>\n",
       "      <td>Prendido</td>\n",
       "      <td>Apagado</td>\n",
       "      <td>Prendido</td>\n",
       "      <td>Apagado</td>\n",
       "      <td>Prendido</td>\n",
       "      <td>Apagado</td>\n",
       "      <td>Prendido</td>\n",
       "      <td>41.94</td>\n",
       "      <td>34.56</td>\n",
       "      <td>40.31</td>\n",
       "      <td>60.31</td>\n",
       "      <td>40.13</td>\n",
       "      <td>Apagado</td>\n",
       "    </tr>\n",
       "    <tr>\n",
       "      <th>96</th>\n",
       "      <td>05/11/2021_18:19:16</td>\n",
       "      <td>640</td>\n",
       "      <td>Apagado</td>\n",
       "      <td>Prendido</td>\n",
       "      <td>Apagado</td>\n",
       "      <td>Prendido</td>\n",
       "      <td>Apagado</td>\n",
       "      <td>Prendido</td>\n",
       "      <td>Apagado</td>\n",
       "      <td>Prendido</td>\n",
       "      <td>41.94</td>\n",
       "      <td>34.56</td>\n",
       "      <td>40.31</td>\n",
       "      <td>60.19</td>\n",
       "      <td>40.13</td>\n",
       "      <td>Apagado</td>\n",
       "    </tr>\n",
       "    <tr>\n",
       "      <th>97</th>\n",
       "      <td>05/11/2021_18:19:22</td>\n",
       "      <td>641</td>\n",
       "      <td>Apagado</td>\n",
       "      <td>Prendido</td>\n",
       "      <td>Apagado</td>\n",
       "      <td>Prendido</td>\n",
       "      <td>Apagado</td>\n",
       "      <td>Prendido</td>\n",
       "      <td>Apagado</td>\n",
       "      <td>Prendido</td>\n",
       "      <td>41.94</td>\n",
       "      <td>34.56</td>\n",
       "      <td>40.31</td>\n",
       "      <td>60.06</td>\n",
       "      <td>40.06</td>\n",
       "      <td>Apagado</td>\n",
       "    </tr>\n",
       "    <tr>\n",
       "      <th>98</th>\n",
       "      <td>05/11/2021_18:19:27</td>\n",
       "      <td>640</td>\n",
       "      <td>Apagado</td>\n",
       "      <td>Prendido</td>\n",
       "      <td>Apagado</td>\n",
       "      <td>Prendido</td>\n",
       "      <td>Apagado</td>\n",
       "      <td>Prendido</td>\n",
       "      <td>Apagado</td>\n",
       "      <td>Prendido</td>\n",
       "      <td>42.00</td>\n",
       "      <td>34.56</td>\n",
       "      <td>40.31</td>\n",
       "      <td>59.88</td>\n",
       "      <td>40.13</td>\n",
       "      <td>Prendido</td>\n",
       "    </tr>\n",
       "    <tr>\n",
       "      <th>99</th>\n",
       "      <td>05/11/2021_18:19:33</td>\n",
       "      <td>640</td>\n",
       "      <td>Apagado</td>\n",
       "      <td>Prendido</td>\n",
       "      <td>Apagado</td>\n",
       "      <td>Prendido</td>\n",
       "      <td>Apagado</td>\n",
       "      <td>Prendido</td>\n",
       "      <td>Apagado</td>\n",
       "      <td>Prendido</td>\n",
       "      <td>41.94</td>\n",
       "      <td>34.50</td>\n",
       "      <td>40.31</td>\n",
       "      <td>59.69</td>\n",
       "      <td>40.13</td>\n",
       "      <td>Prendido</td>\n",
       "    </tr>\n",
       "  </tbody>\n",
       "</table>\n",
       "<p>100 rows × 16 columns</p>\n",
       "</div>"
      ],
      "text/plain": [
       "              Date_Time  CO2 Estado_Valvula_CO2_1 Estado_Valvula_Compost_1  \\\n",
       "0   05/11/2021_18:09:53  599              Apagado                 Prendido   \n",
       "1   05/11/2021_18:09:59  599              Apagado                 Prendido   \n",
       "2   05/11/2021_18:10:05  602              Apagado                 Prendido   \n",
       "3   05/11/2021_18:10:10  601              Apagado                 Prendido   \n",
       "4   05/11/2021_18:10:16  603              Apagado                 Prendido   \n",
       "..                  ...  ...                  ...                      ...   \n",
       "95  05/11/2021_18:19:10  641              Apagado                 Prendido   \n",
       "96  05/11/2021_18:19:16  640              Apagado                 Prendido   \n",
       "97  05/11/2021_18:19:22  641              Apagado                 Prendido   \n",
       "98  05/11/2021_18:19:27  640              Apagado                 Prendido   \n",
       "99  05/11/2021_18:19:33  640              Apagado                 Prendido   \n",
       "\n",
       "   Estado_Valvula_CO2_2 Estado_Valvula_Compost_2 Estado_Valvula_CO2_3  \\\n",
       "0               Apagado                 Prendido              Apagado   \n",
       "1               Apagado                 Prendido              Apagado   \n",
       "2               Apagado                 Prendido              Apagado   \n",
       "3               Apagado                 Prendido              Apagado   \n",
       "4               Apagado                 Prendido              Apagado   \n",
       "..                  ...                      ...                  ...   \n",
       "95              Apagado                 Prendido              Apagado   \n",
       "96              Apagado                 Prendido              Apagado   \n",
       "97              Apagado                 Prendido              Apagado   \n",
       "98              Apagado                 Prendido              Apagado   \n",
       "99              Apagado                 Prendido              Apagado   \n",
       "\n",
       "   Estado_Valvula_Compost_3 Estado_Valvula_CO2_4 Estado_Valvula_Compost_4  \\\n",
       "0                  Prendido              Apagado                 Prendido   \n",
       "1                  Prendido              Apagado                 Prendido   \n",
       "2                  Prendido              Apagado                 Prendido   \n",
       "3                  Prendido              Apagado                 Prendido   \n",
       "4                  Prendido              Apagado                 Prendido   \n",
       "..                      ...                  ...                      ...   \n",
       "95                 Prendido              Apagado                 Prendido   \n",
       "96                 Prendido              Apagado                 Prendido   \n",
       "97                 Prendido              Apagado                 Prendido   \n",
       "98                 Prendido              Apagado                 Prendido   \n",
       "99                 Prendido              Apagado                 Prendido   \n",
       "\n",
       "    Temp_Compost_1  Temp_Compost_2  Temp_Compost_3  Temp_Compost_4  \\\n",
       "0            41.81           34.31           40.38           59.56   \n",
       "1            41.81           34.25           40.38           59.44   \n",
       "2            41.81           34.25           40.38           59.56   \n",
       "3            41.81           34.31           40.38           59.56   \n",
       "4            41.81           34.25           40.38           59.69   \n",
       "..             ...             ...             ...             ...   \n",
       "95           41.94           34.56           40.31           60.31   \n",
       "96           41.94           34.56           40.31           60.19   \n",
       "97           41.94           34.56           40.31           60.06   \n",
       "98           42.00           34.56           40.31           59.88   \n",
       "99           41.94           34.50           40.31           59.69   \n",
       "\n",
       "    Temp_Suncho Estado_Suncho  \n",
       "0         39.88      Prendido  \n",
       "1         39.88      Prendido  \n",
       "2         39.81      Prendido  \n",
       "3         39.81      Prendido  \n",
       "4         39.88      Prendido  \n",
       "..          ...           ...  \n",
       "95        40.13       Apagado  \n",
       "96        40.13       Apagado  \n",
       "97        40.06       Apagado  \n",
       "98        40.13      Prendido  \n",
       "99        40.13      Prendido  \n",
       "\n",
       "[100 rows x 16 columns]"
      ]
     },
     "metadata": {},
     "output_type": "display_data"
    }
   ],
   "source": [
    "# Veamos el primer archivo csv como ejemplo\n",
    "df0 = pd.read_csv(f\"{PATH}/data_0.csv\")\n",
    "display(df0)"
   ]
  },
  {
   "cell_type": "code",
   "execution_count": 5,
   "id": "3548aa4c",
   "metadata": {},
   "outputs": [
    {
     "data": {
      "text/plain": [
       "0     599\n",
       "1     599\n",
       "2     602\n",
       "3     601\n",
       "4     603\n",
       "     ... \n",
       "95    641\n",
       "96    640\n",
       "97    641\n",
       "98    640\n",
       "99    640\n",
       "Name: CO2, Length: 100, dtype: int64"
      ]
     },
     "execution_count": 5,
     "metadata": {},
     "output_type": "execute_result"
    }
   ],
   "source": [
    "df0['CO2']"
   ]
  },
  {
   "cell_type": "code",
   "execution_count": 6,
   "id": "a6e12ae1",
   "metadata": {},
   "outputs": [
    {
     "name": "stdout",
     "output_type": "stream",
     "text": [
      "05/11/2021_18:09:53\n"
     ]
    }
   ],
   "source": [
    "# Antes de llenar los arrays vamos a necesitar una función que convierta un tiempo en el formato que usamos en tiempo absoluto para poder comparar las mediciones entre sí\n",
    "def convertirTiempo(t_i, t):\n",
    "    dia = int(t[:2])\n",
    "    mes = int(t[3:5])\n",
    "    ano = int(t[6:10])\n",
    "    hora = int(t[11:13])\n",
    "    minuto = int(t[14:16])\n",
    "    segundo = int(t[17:])\n",
    "    \n",
    "    t_abs = segundo + 60 * minuto + (60 ** 2) * hora + 24 * (60 ** 2) * dia + 30 * 24 * (60 ** 2) * mes + 12 * 30 * 24 * (60 ** 2) * ano\n",
    "    return t_abs - t_i\n",
    "\n",
    "\n",
    "# Definamos el tiempo inicial\n",
    "datetime0 = np.transpose(df0[\"Date_Time\"].to_numpy())[0]\n",
    "t_i = convertirTiempo(0, datetime0)\n",
    "print(datetime0)"
   ]
  },
  {
   "cell_type": "code",
   "execution_count": 7,
   "id": "9da7e037",
   "metadata": {},
   "outputs": [
    {
     "name": "stdout",
     "output_type": "stream",
     "text": [
      "313\n"
     ]
    }
   ],
   "source": [
    "# Contemos la cantidad de csv's  que llenamos\n",
    "n = 0\n",
    "for file in os.listdir(PATH):\n",
    "    if file.endswith(\".csv\"):\n",
    "        n += 1\n",
    "\n",
    "print(n)"
   ]
  },
  {
   "cell_type": "code",
   "execution_count": 8,
   "id": "dfe59ad3",
   "metadata": {},
   "outputs": [],
   "source": [
    "# Llenemos las listas con los datos\n",
    "for i in range(n-1):\n",
    "    df = pd.read_csv(f\"{PATH}/data_{i}.csv\")\n",
    "\n",
    "    # CO2\n",
    "    co2 = np.concatenate((co2, np.transpose(df[\"CO2\"].to_numpy())))\n",
    "\n",
    "    # Tiempo\n",
    "    for t in np.transpose(df[\"Date_Time\"].to_numpy()):\n",
    "        tiempos = np.concatenate((tiempos, np.array([convertirTiempo(t_i, t)])))\n",
    "        \n",
    "    # Temperaturas\n",
    "    temp_suncho = np.concatenate((temp_suncho, np.transpose(df[\"Temp_Suncho\"].to_numpy())))\n",
    "    temp_compost_1 = np.concatenate((temp_compost_1, np.transpose(df[\"Temp_Compost_1\"].to_numpy())))\n",
    "    temp_compost_2 = np.concatenate((temp_compost_2, np.transpose(df[\"Temp_Compost_2\"].to_numpy())))\n",
    "    temp_compost_3 = np.concatenate((temp_compost_3, np.transpose(df[\"Temp_Compost_3\"].to_numpy())))\n",
    "    temp_compost_4 = np.concatenate((temp_compost_4, np.transpose(df[\"Temp_Compost_4\"].to_numpy())))\n",
    "    \n",
    "    \n",
    "    # Estados\n",
    "    for e in np.transpose(df[\"Estado_Valvula_CO2_1\"].to_numpy()):\n",
    "        if e == \"Prendido\":\n",
    "            estado_valvula_co2_1 = np.concatenate((estado_valvula_co2_1, np.array([1])))\n",
    "        else:\n",
    "            estado_valvula_co2_1 = np.concatenate((estado_valvula_co2_1, np.array([0])))\n",
    "    \n",
    "    for e in np.transpose(df[\"Estado_Valvula_Compost_1\"].to_numpy()):\n",
    "        if e == \"Prendido\":\n",
    "            estado_valvula_compost_1 = np.concatenate((estado_valvula_compost_1, np.array([1])))\n",
    "        else:\n",
    "            estado_valvula_compost_1 = np.concatenate((estado_valvula_compost_1, np.array([0])))\n",
    "    \n",
    "    for e in np.transpose(df[\"Estado_Valvula_CO2_2\"].to_numpy()):\n",
    "        if e == \"Prendido\":\n",
    "            estado_valvula_co2_2 = np.concatenate((estado_valvula_co2_2, np.array([1])))\n",
    "        else:\n",
    "            estado_valvula_co2_2 = np.concatenate((estado_valvula_co2_2, np.array([0])))\n",
    "    \n",
    "    for e in np.transpose(df[\"Estado_Valvula_Compost_2\"].to_numpy()):\n",
    "        if e == \"Prendido\":\n",
    "            estado_valvula_compost_2 = np.concatenate((estado_valvula_compost_2, np.array([1])))\n",
    "        else:\n",
    "            estado_valvula_compost_2 = np.concatenate((estado_valvula_compost_2, np.array([0])))\n",
    "\n",
    "    for e in np.transpose(df[\"Estado_Valvula_CO2_3\"].to_numpy()):\n",
    "        if e == \"Prendido\":\n",
    "            estado_valvula_co2_3 = np.concatenate((estado_valvula_co2_3, np.array([1])))\n",
    "        else:\n",
    "            estado_valvula_co2_3 = np.concatenate((estado_valvula_co2_3, np.array([0])))\n",
    "    \n",
    "    for e in np.transpose(df[\"Estado_Valvula_Compost_3\"].to_numpy()):\n",
    "        if e == \"Prendido\":\n",
    "            estado_valvula_compost_3 = np.concatenate((estado_valvula_compost_3, np.array([1])))\n",
    "        else:\n",
    "            estado_valvula_compost_3 = np.concatenate((estado_valvula_compost_3, np.array([0])))\n",
    "       \n",
    "    for e in np.transpose(df[\"Estado_Valvula_CO2_4\"].to_numpy()):\n",
    "        if e == \"Prendido\":\n",
    "            estado_valvula_co2_4 = np.concatenate((estado_valvula_co2_4, np.array([1])))\n",
    "        else:\n",
    "            estado_valvula_co2_4 = np.concatenate((estado_valvula_co2_4, np.array([0])))\n",
    "    \n",
    "    for e in np.transpose(df[\"Estado_Valvula_Compost_4\"].to_numpy()):\n",
    "        if e == \"Prendido\":\n",
    "            estado_valvula_compost_4 = np.concatenate((estado_valvula_compost_4, np.array([1])))\n",
    "        else:\n",
    "            estado_valvula_compost_4 = np.concatenate((estado_valvula_compost_4, np.array([0])))   \n",
    "    \n",
    "    \n",
    "    for e in np.transpose(df[\"Estado_Suncho\"].to_numpy()):\n",
    "        if e == \"Prendido\":\n",
    "            estado_suncho = np.concatenate((estado_suncho, np.array([1])))\n",
    "        else:\n",
    "            estado_suncho = np.concatenate((estado_suncho, np.array([0])))"
   ]
  },
  {
   "cell_type": "code",
   "execution_count": 9,
   "id": "a0f23b10",
   "metadata": {},
   "outputs": [],
   "source": [
    "#co2[np.where(co2=='!Warning: Clearing Byte: 154')[0][0]]=-1\n",
    "#co2[np.where(co2=='!Warning: Clearing Byte: 49')[0][0]]=-1\n",
    "#co2[np.where(co2=='!Warning: Clearing Byte: 49')[0][0]]=-1"
   ]
  },
  {
   "cell_type": "code",
   "execution_count": 10,
   "id": "680a3fc3",
   "metadata": {},
   "outputs": [],
   "source": [
    "#Encuentro dónde se hace la danza de las válvulas, para hacerle una marca en los gráficos\n",
    "\n",
    "#Parece hincha pelotas así como está ahora, pero después lo voy a necesitar así que me conviene definirlo así\n",
    "\n",
    "pos1=np.where(np.diff(estado_valvula_co2_1)==1) #encuentro el número de posición del primer momento de la danza\n",
    "pos2=np.where(np.diff(estado_valvula_co2_2)==1) #y así con los demás\n",
    "pos3=np.where(np.diff(estado_valvula_co2_3)==1)\n",
    "pos4=np.where(np.diff(estado_valvula_co2_4)==1)\n",
    "pos5=np.where(np.diff(estado_valvula_compost_4)==1)\n",
    "\n",
    "pos=[] #los guardo ordenados\n",
    "for i in range(len(pos1[0])):\n",
    "    pos.append(int(pos1[0][i]))\n",
    "    pos.append(int(pos2[0][i]))\n",
    "    pos.append(int(pos3[0][i]))\n",
    "    pos.append(int(pos4[0][i]))\n",
    "    pos.append(int(pos5[0][i]))\n",
    "  \n",
    "\n",
    "danza=[] #guardo los tiempos para graficarlos y visualizarlos rápidamente\n",
    "for i in range(len(pos)):\n",
    "    danza.append(tiempos[pos[i]])"
   ]
  },
  {
   "cell_type": "markdown",
   "id": "3ba4a718",
   "metadata": {},
   "source": [
    "# Gráficos"
   ]
  },
  {
   "cell_type": "code",
   "execution_count": 11,
   "id": "4e7a7cb4",
   "metadata": {},
   "outputs": [
    {
     "data": {
      "image/png": "[encoded data removed]",
      "text/plain": [
       "<Figure size 432x288 with 1 Axes>"
      ]
     },
     "metadata": {
      "needs_background": "light"
     },
     "output_type": "display_data"
    }
   ],
   "source": [
    "plt.figure(\"Temperaturas\")\n",
    "plt.title(\"Temperturas\")\n",
    "plt.plot(tiempos, temp_suncho,'.-',markersize=1, label='compost2')\n",
    "plt.plot(tiempos, temp_compost_1,'-',markersize=1, label='compost1')\n",
    "plt.plot(tiempos, temp_compost_2,'-',markersize=1, label='compost4')\n",
    "plt.plot(tiempos, temp_compost_3,'-',markersize=1, label='compost3')\n",
    "plt.plot(tiempos, temp_compost_4,'-',markersize=1, label='suncho')\n",
    "plt.legend()\n",
    "plt.grid()\n",
    "plt.ylim(0,60)\n",
    "plt.xlabel(\"Tiempo [s]\")\n",
    "plt.ylabel(\"Temperatura [°C]\")\n",
    "plt.savefig(f\"{PATH}/figuras/Temperatura.png\")\n",
    "plt.show()"
   ]
  },
  {
   "cell_type": "code",
   "execution_count": 12,
   "id": "a639897b",
   "metadata": {},
   "outputs": [
    {
     "data": {
      "image/png": "[encoded data removed]",
      "text/plain": [
       "<Figure size 432x288 with 1 Axes>"
      ]
     },
     "metadata": {
      "needs_background": "light"
     },
     "output_type": "display_data"
    }
   ],
   "source": [
    "plt.figure(\"CO2\")\n",
    "plt.title(\"CO2\")\n",
    "plt.plot(tiempos, co2, \".\",markersize=4)\n",
    "for i in range(len(danza)):\n",
    "    plt.vlines(x=danza[i], ymin=0, ymax=1000,color='r')\n",
    "plt.grid()\n",
    "#plt.ylim(20,1500)\n",
    "#plt.xlim(115000,175000)\n",
    "plt.xlabel(\"Tiempo [s]\")\n",
    "plt.ylabel(\"CO2 [ppm]\")\n",
    "#plt.savefig(f\"{PATH}/figuras/CO2_completo.png\")\n",
    "plt.show()"
   ]
  },
  {
   "cell_type": "code",
   "execution_count": 13,
   "id": "e7189c2f",
   "metadata": {},
   "outputs": [
    {
     "name": "stderr",
     "output_type": "stream",
     "text": [
      "<ipython-input-13-5cf3614ab437>:1: FutureWarning: elementwise comparison failed; returning scalar instead, but in the future will perform elementwise comparison\n",
      "  np.where(co2=='!Warning: Clearing Byte: 49')\n"
     ]
    },
    {
     "data": {
      "text/plain": [
       "(array([], dtype=int64),)"
      ]
     },
     "execution_count": 13,
     "metadata": {},
     "output_type": "execute_result"
    }
   ],
   "source": [
    "np.where(co2=='!Warning: Clearing Byte: 49')"
   ]
  },
  {
   "cell_type": "code",
   "execution_count": null,
   "id": "9089eb54",
   "metadata": {},
   "outputs": [],
   "source": []
  },
  {
   "cell_type": "markdown",
   "id": "c78dc05c",
   "metadata": {},
   "source": [
    "# Integración"
   ]
  },
  {
   "cell_type": "code",
   "execution_count": 14,
   "id": "d1d0ab01",
   "metadata": {},
   "outputs": [],
   "source": [
    "#Primero definimos los límites de integración, con \"inicio\" y \"fin\". SOLO VISUALIZACIÓN\n",
    "\n",
    "#No hay que manejarse con segundos, porque a veces difieren en 5seg y a veces en 6seg; eso trae problemas\n",
    "#Manejarse con posiciones\n",
    "\n",
    "#Evitamos los primeros 5 minutos de cada danza de válvula, para dar lugar a la estabilización\n",
    "\n",
    "\n",
    "inicio_x=[] #posición desde que medimos\n",
    "inicio_y=[]\n",
    "for i in range(len(pos)):\n",
    "    inicio_x.append(tiempos[pos[i]+60]) #dejamos 60 posiciones (5 minutos aprox) de espera\n",
    "    inicio_y.append(co2[pos[i]+60]) #dejamos 60 posiciones (5 minutos aprox) de espera\n",
    "    \n",
    "fin_x=[]\n",
    "fin_y=[]\n",
    "for i in range(len(pos)-1):\n",
    "    fin_x.append(tiempos[pos[i+1]])\n",
    "    fin_y.append(co2[pos[i+1]])\n",
    "\n",
    "#Remuevo los multiplos de 4, porque estarían de más\n",
    "for i in range(len(pos1[0])-1):\n",
    "    inicio_x.pop(4*(i+1))\n",
    "    inicio_y.pop(4*(i+1))    \n",
    "    fin_x.pop(4*(i+1))\n",
    "    fin_y.pop(4*(i+1))"
   ]
  },
  {
   "cell_type": "code",
   "execution_count": 15,
   "id": "e14817e9",
   "metadata": {},
   "outputs": [
    {
     "data": {
      "image/png": "[encoded data removed]",
      "text/plain": [
       "<Figure size 432x288 with 1 Axes>"
      ]
     },
     "metadata": {
      "needs_background": "light"
     },
     "output_type": "display_data"
    }
   ],
   "source": [
    "plt.figure(\"CO2\")\n",
    "plt.title(\"CO2\")\n",
    "plt.plot(tiempos, co2, \".\",markersize=4)\n",
    "for i in range(len(danza)):\n",
    "    plt.vlines(x=danza[i], ymin=0, ymax=1000,color='r')\n",
    "plt.grid()\n",
    "plt.ylim(200,1500)\n",
    "plt.xlim(140000,180000)\n",
    "plt.xlabel(\"Tiempo [s]\")\n",
    "plt.ylabel(\"CO2 [ppm]\")\n",
    "plt.scatter(inicio_x,inicio_y,color='m',zorder=4) #marco el inicio de cada área en color magenta\n",
    "plt.scatter(fin_x,fin_y,color='k',zorder=5) #marco el fin de cada área en color negro\n",
    "\n",
    "#plt.scatter(tiempos[pos[38]+60:pos[38+1]],co2[pos[38]+60:pos[38+1]],color='c',zorder=5)  #prueba\n",
    "plt.show()"
   ]
  },
  {
   "cell_type": "code",
   "execution_count": 16,
   "id": "9b323f37",
   "metadata": {},
   "outputs": [
    {
     "name": "stdout",
     "output_type": "stream",
     "text": [
      "[988622.0, 588057.0, 972611.0, 637989.5, 1026005.5, 582982.5, 1286449.5, 603635.0, 1006854.5, 564848.0, 1602333.5, 585495.0, 1093228.5, 924567.5, 1522171.5, 1059540.5, 2338944.0, 932278.5, 3925049.5, 905805.5, 1885632.5, 825351.5, 3323029.5, 868526.5, 1497286.0, 719544.5, 2353336.0, 758893.5, 1230042.0, 621363.5, 1809345.0, 618836.0]\n"
     ]
    }
   ],
   "source": [
    "#Ahora si, calculo el área:\n",
    "\n",
    "area=[]\n",
    "for i in range(len(pos)-1):\n",
    "    area.append(trapezoid(co2[pos[i]+60:pos[i+1]],tiempos[pos[i]+60:pos[i+1]]))\n",
    "\n",
    "for i in range(len(pos1[0])-1):\n",
    "    area.pop(4*(i+1)) #remuevo el bache del medio\n",
    "    \n",
    "print(area)"
   ]
  },
  {
   "cell_type": "code",
   "execution_count": 30,
   "id": "24d9f5c7",
   "metadata": {},
   "outputs": [
    {
     "name": "stdout",
     "output_type": "stream",
     "text": [
      "1\n",
      "5\n",
      "9\n",
      "13\n",
      "17\n",
      "21\n",
      "25\n",
      "29\n"
     ]
    }
   ],
   "source": [
    "#Reordeno\n",
    "\n",
    "area1=[]\n",
    "area2=[]\n",
    "area3=[]\n",
    "area4=[]\n",
    "\n",
    "for i in range(int(len(area)/4)):\n",
    "    area1.append(area[4*i])\n",
    "    area2.append(area[4*i+1])\n",
    "    area3.append(area[4*i+2])\n",
    "    area4.append(area[4*i+3])"
   ]
  },
  {
   "cell_type": "code",
   "execution_count": 31,
   "id": "eef3aa9f",
   "metadata": {},
   "outputs": [
    {
     "data": {
      "text/plain": [
       "[588057.0,\n",
       " 582982.5,\n",
       " 564848.0,\n",
       " 924567.5,\n",
       " 932278.5,\n",
       " 825351.5,\n",
       " 719544.5,\n",
       " 621363.5]"
      ]
     },
     "execution_count": 31,
     "metadata": {},
     "output_type": "execute_result"
    }
   ],
   "source": [
    "area2"
   ]
  },
  {
   "cell_type": "markdown",
   "id": "448cc7af",
   "metadata": {},
   "source": [
    "La fórmula es \n",
    "g= $\\frac{F CT 44 g/mol}{22414 . 10^6 0.001L/mol}$\n",
    "\n",
    "Con F el flujo (1.5L/min), CT el área bajo la curva en MINUTOS, como lo tenemos en segundos:\n",
    "\n",
    "g= $\\frac{F* CT/60 * 44 g/mol}{22414 . 10^6 0.001L/mol}$"
   ]
  },
  {
   "cell_type": "code",
   "execution_count": 44,
   "id": "1f23025a",
   "metadata": {},
   "outputs": [],
   "source": [
    "F=1.5\n",
    "den=22414*0.001*10**6\n",
    "\n",
    "def gramos(x): #meter el área\n",
    "    return F*x*44/(den*60)"
   ]
  },
  {
   "cell_type": "code",
   "execution_count": 53,
   "id": "e5929dcc",
   "metadata": {},
   "outputs": [
    {
     "data": {
      "text/plain": [
       "array([0.04851808, 0.05035273, 0.04941286, 0.0536518 , 0.11478712,\n",
       "       0.09254019, 0.07348151, 0.06036612])"
      ]
     },
     "execution_count": 53,
     "metadata": {},
     "output_type": "execute_result"
    }
   ],
   "source": [
    "gramos(np.array(area1))"
   ]
  },
  {
   "cell_type": "code",
   "execution_count": null,
   "id": "7c454e3c",
   "metadata": {},
   "outputs": [],
   "source": []
  }
 ],
 "metadata": {
  "kernelspec": {
   "display_name": "Python 3",
   "language": "python",
   "name": "python3"
  },
  "language_info": {
   "codemirror_mode": {
    "name": "ipython",
    "version": 3
   },
   "file_extension": ".py",
   "mimetype": "text/x-python",
   "name": "python",
   "nbconvert_exporter": "python",
   "pygments_lexer": "ipython3",
   "version": "3.8.5"
  }
 },
 "nbformat": 4,
 "nbformat_minor": 5
}
