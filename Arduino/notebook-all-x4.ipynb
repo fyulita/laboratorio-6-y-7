{
 "cells": [
  {
   "cell_type": "markdown",
   "id": "dbb99e1e",
   "metadata": {},
   "source": [
    "# Extracción de Datos de CO2 y Temperatura"
   ]
  },
  {
   "cell_type": "code",
   "execution_count": 1,
   "id": "4ad499a5",
   "metadata": {},
   "outputs": [],
   "source": [
    "# Importamos las bibliotecas que vamos a usar\n",
    "#%matplotlib notebook\n",
    "import numpy as np\n",
    "import pandas as pd\n",
    "import matplotlib.pyplot as plt\n",
    "from scipy.integrate import trapezoid\n",
    "import os"
   ]
  },
  {
   "cell_type": "code",
   "execution_count": 2,
   "id": "4e023c90",
   "metadata": {},
   "outputs": [],
   "source": [
    "# Definimos los arrays principales que vamos a usar\n",
    "tiempos = np.array([])\n",
    "co2 = np.array([])    # (ppm)\n",
    "\n",
    "estado_valvula_co2_1 =  np.array([])\n",
    "estado_valvula_compost_1 = np.array([])\n",
    "estado_valvula_co2_2 =  np.array([])\n",
    "estado_valvula_compost_2 = np.array([])\n",
    "temp_suncho = np.array([])\n",
    "estado_valvula_co2_3 =  np.array([])\n",
    "estado_valvula_compost_3 = np.array([])\n",
    "temp_suncho = np.array([])\n",
    "estado_valvula_co2_4 =  np.array([])\n",
    "estado_valvula_compost_4 = np.array([])\n",
    "temp_suncho = np.array([])\n",
    "\n",
    "temp_suncho = np.array([])\n",
    "\n",
    "temp_compost_1 = np.array([])\n",
    "temp_compost_2 = np.array([])\n",
    "temp_compost_3 = np.array([])\n",
    "temp_compost_4 = np.array([])\n",
    "\n",
    "estado_suncho = np.array([])    # Apagado: 0, Prendido: 1"
   ]
  },
  {
   "cell_type": "code",
   "execution_count": 3,
   "id": "4d775c92",
   "metadata": {},
   "outputs": [],
   "source": [
    "# Definamos la carpeta con las mediciones como PATH\n",
    "PATH = f\"./measurements/full-x4/PROVISORIO_24-03_15-05\"\n",
    "\n",
    "# Creamos una carpeta para las figuras (si es que no existe)\n",
    "if not os.path.isdir(f\"{PATH}/figuras\"):\n",
    "    os.makedirs(f\"{PATH}/figuras\")"
   ]
  },
  {
   "cell_type": "code",
   "execution_count": 5,
   "id": "9bb444d8",
   "metadata": {},
   "outputs": [
    {
     "data": {
      "text/html": [
       "<div>\n",
       "<style scoped>\n",
       "    .dataframe tbody tr th:only-of-type {\n",
       "        vertical-align: middle;\n",
       "    }\n",
       "\n",
       "    .dataframe tbody tr th {\n",
       "        vertical-align: top;\n",
       "    }\n",
       "\n",
       "    .dataframe thead th {\n",
       "        text-align: right;\n",
       "    }\n",
       "</style>\n",
       "<table border=\"1\" class=\"dataframe\">\n",
       "  <thead>\n",
       "    <tr style=\"text-align: right;\">\n",
       "      <th></th>\n",
       "      <th>Date_Time</th>\n",
       "      <th>CO2</th>\n",
       "      <th>Estado_Valvula_CO2_1</th>\n",
       "      <th>Estado_Valvula_Compost_1</th>\n",
       "      <th>Estado_Valvula_CO2_2</th>\n",
       "      <th>Estado_Valvula_Compost_2</th>\n",
       "      <th>Estado_Valvula_CO2_3</th>\n",
       "      <th>Estado_Valvula_Compost_3</th>\n",
       "      <th>Estado_Valvula_CO2_4</th>\n",
       "      <th>Estado_Valvula_Compost_4</th>\n",
       "      <th>Temp_Compost_1</th>\n",
       "      <th>Temp_Compost_2</th>\n",
       "      <th>Temp_Compost_3</th>\n",
       "      <th>Temp_Compost_4</th>\n",
       "      <th>Temp_Suncho</th>\n",
       "      <th>Estado_Suncho</th>\n",
       "    </tr>\n",
       "  </thead>\n",
       "  <tbody>\n",
       "    <tr>\n",
       "      <th>0</th>\n",
       "      <td>24/03/2022_15:05:29</td>\n",
       "      <td>636</td>\n",
       "      <td>Apagado</td>\n",
       "      <td>Prendido</td>\n",
       "      <td>Apagado</td>\n",
       "      <td>Prendido</td>\n",
       "      <td>Apagado</td>\n",
       "      <td>Prendido</td>\n",
       "      <td>Apagado</td>\n",
       "      <td>Prendido</td>\n",
       "      <td>49.63</td>\n",
       "      <td>48.25</td>\n",
       "      <td>48.38</td>\n",
       "      <td>37.94</td>\n",
       "      <td>36.06</td>\n",
       "      <td>Prendido</td>\n",
       "    </tr>\n",
       "    <tr>\n",
       "      <th>1</th>\n",
       "      <td>24/03/2022_15:05:35</td>\n",
       "      <td>643</td>\n",
       "      <td>Apagado</td>\n",
       "      <td>Prendido</td>\n",
       "      <td>Apagado</td>\n",
       "      <td>Prendido</td>\n",
       "      <td>Apagado</td>\n",
       "      <td>Prendido</td>\n",
       "      <td>Apagado</td>\n",
       "      <td>Prendido</td>\n",
       "      <td>49.69</td>\n",
       "      <td>48.25</td>\n",
       "      <td>48.31</td>\n",
       "      <td>38.00</td>\n",
       "      <td>36.06</td>\n",
       "      <td>Prendido</td>\n",
       "    </tr>\n",
       "    <tr>\n",
       "      <th>2</th>\n",
       "      <td>24/03/2022_15:05:41</td>\n",
       "      <td>645</td>\n",
       "      <td>Apagado</td>\n",
       "      <td>Prendido</td>\n",
       "      <td>Apagado</td>\n",
       "      <td>Prendido</td>\n",
       "      <td>Apagado</td>\n",
       "      <td>Prendido</td>\n",
       "      <td>Apagado</td>\n",
       "      <td>Prendido</td>\n",
       "      <td>49.63</td>\n",
       "      <td>48.25</td>\n",
       "      <td>48.31</td>\n",
       "      <td>38.13</td>\n",
       "      <td>36.00</td>\n",
       "      <td>Prendido</td>\n",
       "    </tr>\n",
       "    <tr>\n",
       "      <th>3</th>\n",
       "      <td>24/03/2022_15:05:47</td>\n",
       "      <td>652</td>\n",
       "      <td>Apagado</td>\n",
       "      <td>Prendido</td>\n",
       "      <td>Apagado</td>\n",
       "      <td>Prendido</td>\n",
       "      <td>Apagado</td>\n",
       "      <td>Prendido</td>\n",
       "      <td>Apagado</td>\n",
       "      <td>Prendido</td>\n",
       "      <td>49.63</td>\n",
       "      <td>48.19</td>\n",
       "      <td>48.31</td>\n",
       "      <td>38.25</td>\n",
       "      <td>36.00</td>\n",
       "      <td>Prendido</td>\n",
       "    </tr>\n",
       "    <tr>\n",
       "      <th>4</th>\n",
       "      <td>24/03/2022_15:05:53</td>\n",
       "      <td>658</td>\n",
       "      <td>Apagado</td>\n",
       "      <td>Prendido</td>\n",
       "      <td>Apagado</td>\n",
       "      <td>Prendido</td>\n",
       "      <td>Apagado</td>\n",
       "      <td>Prendido</td>\n",
       "      <td>Apagado</td>\n",
       "      <td>Prendido</td>\n",
       "      <td>49.63</td>\n",
       "      <td>48.19</td>\n",
       "      <td>48.25</td>\n",
       "      <td>38.38</td>\n",
       "      <td>35.94</td>\n",
       "      <td>Prendido</td>\n",
       "    </tr>\n",
       "    <tr>\n",
       "      <th>...</th>\n",
       "      <td>...</td>\n",
       "      <td>...</td>\n",
       "      <td>...</td>\n",
       "      <td>...</td>\n",
       "      <td>...</td>\n",
       "      <td>...</td>\n",
       "      <td>...</td>\n",
       "      <td>...</td>\n",
       "      <td>...</td>\n",
       "      <td>...</td>\n",
       "      <td>...</td>\n",
       "      <td>...</td>\n",
       "      <td>...</td>\n",
       "      <td>...</td>\n",
       "      <td>...</td>\n",
       "      <td>...</td>\n",
       "    </tr>\n",
       "    <tr>\n",
       "      <th>94</th>\n",
       "      <td>24/03/2022_15:14:41</td>\n",
       "      <td>727</td>\n",
       "      <td>Apagado</td>\n",
       "      <td>Prendido</td>\n",
       "      <td>Apagado</td>\n",
       "      <td>Prendido</td>\n",
       "      <td>Apagado</td>\n",
       "      <td>Prendido</td>\n",
       "      <td>Apagado</td>\n",
       "      <td>Prendido</td>\n",
       "      <td>52.13</td>\n",
       "      <td>46.81</td>\n",
       "      <td>46.88</td>\n",
       "      <td>43.81</td>\n",
       "      <td>34.88</td>\n",
       "      <td>Prendido</td>\n",
       "    </tr>\n",
       "    <tr>\n",
       "      <th>95</th>\n",
       "      <td>24/03/2022_15:14:46</td>\n",
       "      <td>727</td>\n",
       "      <td>Apagado</td>\n",
       "      <td>Prendido</td>\n",
       "      <td>Apagado</td>\n",
       "      <td>Prendido</td>\n",
       "      <td>Apagado</td>\n",
       "      <td>Prendido</td>\n",
       "      <td>Apagado</td>\n",
       "      <td>Prendido</td>\n",
       "      <td>52.13</td>\n",
       "      <td>46.81</td>\n",
       "      <td>46.88</td>\n",
       "      <td>43.81</td>\n",
       "      <td>34.88</td>\n",
       "      <td>Prendido</td>\n",
       "    </tr>\n",
       "    <tr>\n",
       "      <th>96</th>\n",
       "      <td>24/03/2022_15:14:52</td>\n",
       "      <td>728</td>\n",
       "      <td>Apagado</td>\n",
       "      <td>Prendido</td>\n",
       "      <td>Apagado</td>\n",
       "      <td>Prendido</td>\n",
       "      <td>Apagado</td>\n",
       "      <td>Prendido</td>\n",
       "      <td>Apagado</td>\n",
       "      <td>Prendido</td>\n",
       "      <td>52.19</td>\n",
       "      <td>46.75</td>\n",
       "      <td>46.88</td>\n",
       "      <td>43.81</td>\n",
       "      <td>34.88</td>\n",
       "      <td>Prendido</td>\n",
       "    </tr>\n",
       "    <tr>\n",
       "      <th>97</th>\n",
       "      <td>24/03/2022_15:14:58</td>\n",
       "      <td>727</td>\n",
       "      <td>Apagado</td>\n",
       "      <td>Prendido</td>\n",
       "      <td>Apagado</td>\n",
       "      <td>Prendido</td>\n",
       "      <td>Apagado</td>\n",
       "      <td>Prendido</td>\n",
       "      <td>Apagado</td>\n",
       "      <td>Prendido</td>\n",
       "      <td>52.19</td>\n",
       "      <td>46.81</td>\n",
       "      <td>46.81</td>\n",
       "      <td>43.88</td>\n",
       "      <td>34.94</td>\n",
       "      <td>Prendido</td>\n",
       "    </tr>\n",
       "    <tr>\n",
       "      <th>98</th>\n",
       "      <td>24/03/2022_15:15:04</td>\n",
       "      <td>725</td>\n",
       "      <td>Apagado</td>\n",
       "      <td>Prendido</td>\n",
       "      <td>Apagado</td>\n",
       "      <td>Prendido</td>\n",
       "      <td>Apagado</td>\n",
       "      <td>Prendido</td>\n",
       "      <td>Apagado</td>\n",
       "      <td>Prendido</td>\n",
       "      <td>52.25</td>\n",
       "      <td>46.81</td>\n",
       "      <td>46.88</td>\n",
       "      <td>43.94</td>\n",
       "      <td>34.94</td>\n",
       "      <td>Prendido</td>\n",
       "    </tr>\n",
       "  </tbody>\n",
       "</table>\n",
       "<p>99 rows × 16 columns</p>\n",
       "</div>"
      ],
      "text/plain": [
       "              Date_Time  CO2 Estado_Valvula_CO2_1 Estado_Valvula_Compost_1  \\\n",
       "0   24/03/2022_15:05:29  636              Apagado                 Prendido   \n",
       "1   24/03/2022_15:05:35  643              Apagado                 Prendido   \n",
       "2   24/03/2022_15:05:41  645              Apagado                 Prendido   \n",
       "3   24/03/2022_15:05:47  652              Apagado                 Prendido   \n",
       "4   24/03/2022_15:05:53  658              Apagado                 Prendido   \n",
       "..                  ...  ...                  ...                      ...   \n",
       "94  24/03/2022_15:14:41  727              Apagado                 Prendido   \n",
       "95  24/03/2022_15:14:46  727              Apagado                 Prendido   \n",
       "96  24/03/2022_15:14:52  728              Apagado                 Prendido   \n",
       "97  24/03/2022_15:14:58  727              Apagado                 Prendido   \n",
       "98  24/03/2022_15:15:04  725              Apagado                 Prendido   \n",
       "\n",
       "   Estado_Valvula_CO2_2 Estado_Valvula_Compost_2 Estado_Valvula_CO2_3  \\\n",
       "0               Apagado                 Prendido              Apagado   \n",
       "1               Apagado                 Prendido              Apagado   \n",
       "2               Apagado                 Prendido              Apagado   \n",
       "3               Apagado                 Prendido              Apagado   \n",
       "4               Apagado                 Prendido              Apagado   \n",
       "..                  ...                      ...                  ...   \n",
       "94              Apagado                 Prendido              Apagado   \n",
       "95              Apagado                 Prendido              Apagado   \n",
       "96              Apagado                 Prendido              Apagado   \n",
       "97              Apagado                 Prendido              Apagado   \n",
       "98              Apagado                 Prendido              Apagado   \n",
       "\n",
       "   Estado_Valvula_Compost_3 Estado_Valvula_CO2_4 Estado_Valvula_Compost_4  \\\n",
       "0                  Prendido              Apagado                 Prendido   \n",
       "1                  Prendido              Apagado                 Prendido   \n",
       "2                  Prendido              Apagado                 Prendido   \n",
       "3                  Prendido              Apagado                 Prendido   \n",
       "4                  Prendido              Apagado                 Prendido   \n",
       "..                      ...                  ...                      ...   \n",
       "94                 Prendido              Apagado                 Prendido   \n",
       "95                 Prendido              Apagado                 Prendido   \n",
       "96                 Prendido              Apagado                 Prendido   \n",
       "97                 Prendido              Apagado                 Prendido   \n",
       "98                 Prendido              Apagado                 Prendido   \n",
       "\n",
       "    Temp_Compost_1  Temp_Compost_2  Temp_Compost_3  Temp_Compost_4  \\\n",
       "0            49.63           48.25           48.38           37.94   \n",
       "1            49.69           48.25           48.31           38.00   \n",
       "2            49.63           48.25           48.31           38.13   \n",
       "3            49.63           48.19           48.31           38.25   \n",
       "4            49.63           48.19           48.25           38.38   \n",
       "..             ...             ...             ...             ...   \n",
       "94           52.13           46.81           46.88           43.81   \n",
       "95           52.13           46.81           46.88           43.81   \n",
       "96           52.19           46.75           46.88           43.81   \n",
       "97           52.19           46.81           46.81           43.88   \n",
       "98           52.25           46.81           46.88           43.94   \n",
       "\n",
       "    Temp_Suncho Estado_Suncho  \n",
       "0         36.06      Prendido  \n",
       "1         36.06      Prendido  \n",
       "2         36.00      Prendido  \n",
       "3         36.00      Prendido  \n",
       "4         35.94      Prendido  \n",
       "..          ...           ...  \n",
       "94        34.88      Prendido  \n",
       "95        34.88      Prendido  \n",
       "96        34.88      Prendido  \n",
       "97        34.94      Prendido  \n",
       "98        34.94      Prendido  \n",
       "\n",
       "[99 rows x 16 columns]"
      ]
     },
     "metadata": {},
     "output_type": "display_data"
    }
   ],
   "source": [
    "# Veamos el primer archivo csv como ejemplo\n",
    "df0 = pd.read_csv(f\"{PATH}/data_0.csv\")\n",
    "display(df0)"
   ]
  },
  {
   "cell_type": "code",
   "execution_count": 6,
   "id": "f5d75e03",
   "metadata": {},
   "outputs": [
    {
     "data": {
      "text/plain": [
       "99"
      ]
     },
     "execution_count": 6,
     "metadata": {},
     "output_type": "execute_result"
    }
   ],
   "source": [
    "len(df0)"
   ]
  },
  {
   "cell_type": "code",
   "execution_count": 7,
   "id": "a6e12ae1",
   "metadata": {},
   "outputs": [
    {
     "name": "stdout",
     "output_type": "stream",
     "text": [
      "24/03/2022_15:05:29\n"
     ]
    }
   ],
   "source": [
    "# Antes de llenar los arrays vamos a necesitar una función que convierta un tiempo en el formato que usamos en tiempo absoluto para poder comparar las mediciones entre sí\n",
    "def convertirTiempo(t_i, t):\n",
    "    dia = int(t[:2])\n",
    "    mes = int(t[3:5])\n",
    "    ano = int(t[6:10])\n",
    "    hora = int(t[11:13])\n",
    "    minuto = int(t[14:16])\n",
    "    segundo = int(t[17:])\n",
    "    \n",
    "    t_abs = segundo + 60 * minuto + (60 ** 2) * hora + 24 * (60 ** 2) * dia + 30 * 24 * (60 ** 2) * mes + 12 * 30 * 24 * (60 ** 2) * ano\n",
    "    return t_abs - t_i\n",
    "\n",
    "\n",
    "# Definamos el tiempo inicial\n",
    "datetime0 = np.transpose(df0[\"Date_Time\"].to_numpy())[0]\n",
    "t_i = convertirTiempo(0, datetime0)\n",
    "print(datetime0)"
   ]
  },
  {
   "cell_type": "code",
   "execution_count": 8,
   "id": "9da7e037",
   "metadata": {},
   "outputs": [
    {
     "name": "stdout",
     "output_type": "stream",
     "text": [
      "28\n"
     ]
    }
   ],
   "source": [
    "# Contemos la cantidad de csv's  que llenamos\n",
    "n = 0\n",
    "for file in os.listdir(PATH):\n",
    "    if file.endswith(\".csv\"):\n",
    "        n += 1\n",
    "\n",
    "print(n)"
   ]
  },
  {
   "cell_type": "code",
   "execution_count": 9,
   "id": "dfe59ad3",
   "metadata": {},
   "outputs": [],
   "source": [
    "# Llenemos las listas con los datos\n",
    "for i in range(n):\n",
    "    df = pd.read_csv(f\"{PATH}/data_{i}.csv\")\n",
    "\n",
    "    # CO2\n",
    "    co2 = np.concatenate((co2, np.transpose(df[\"CO2\"].to_numpy())))\n",
    "\n",
    "    # Tiempo\n",
    "    for t in np.transpose(df[\"Date_Time\"].to_numpy()):\n",
    "        tiempos = np.concatenate((tiempos, np.array([convertirTiempo(t_i, t)])))\n",
    "        \n",
    "    # Temperaturas\n",
    "    temp_suncho = np.concatenate((temp_suncho, np.transpose(df[\"Temp_Suncho\"].to_numpy())))\n",
    "    temp_compost_1 = np.concatenate((temp_compost_1, np.transpose(df[\"Temp_Compost_1\"].to_numpy())))\n",
    "    temp_compost_2 = np.concatenate((temp_compost_2, np.transpose(df[\"Temp_Compost_2\"].to_numpy())))\n",
    "    temp_compost_3 = np.concatenate((temp_compost_3, np.transpose(df[\"Temp_Compost_3\"].to_numpy())))\n",
    "    temp_compost_4 = np.concatenate((temp_compost_4, np.transpose(df[\"Temp_Compost_4\"].to_numpy())))\n",
    "    \n",
    "    \n",
    "    # Estados\n",
    "    for e in np.transpose(df[\"Estado_Valvula_CO2_1\"].to_numpy()):\n",
    "        if e == \"Prendido\":\n",
    "            estado_valvula_co2_1 = np.concatenate((estado_valvula_co2_1, np.array([1])))\n",
    "        else:\n",
    "            estado_valvula_co2_1 = np.concatenate((estado_valvula_co2_1, np.array([0])))\n",
    "    \n",
    "    for e in np.transpose(df[\"Estado_Valvula_Compost_1\"].to_numpy()):\n",
    "        if e == \"Prendido\":\n",
    "            estado_valvula_compost_1 = np.concatenate((estado_valvula_compost_1, np.array([1])))\n",
    "        else:\n",
    "            estado_valvula_compost_1 = np.concatenate((estado_valvula_compost_1, np.array([0])))\n",
    "    \n",
    "    for e in np.transpose(df[\"Estado_Valvula_CO2_2\"].to_numpy()):\n",
    "        if e == \"Prendido\":\n",
    "            estado_valvula_co2_2 = np.concatenate((estado_valvula_co2_2, np.array([1])))\n",
    "        else:\n",
    "            estado_valvula_co2_2 = np.concatenate((estado_valvula_co2_2, np.array([0])))\n",
    "    \n",
    "    for e in np.transpose(df[\"Estado_Valvula_Compost_2\"].to_numpy()):\n",
    "        if e == \"Prendido\":\n",
    "            estado_valvula_compost_2 = np.concatenate((estado_valvula_compost_2, np.array([1])))\n",
    "        else:\n",
    "            estado_valvula_compost_2 = np.concatenate((estado_valvula_compost_2, np.array([0])))\n",
    "\n",
    "    for e in np.transpose(df[\"Estado_Valvula_CO2_3\"].to_numpy()):\n",
    "        if e == \"Prendido\":\n",
    "            estado_valvula_co2_3 = np.concatenate((estado_valvula_co2_3, np.array([1])))\n",
    "        else:\n",
    "            estado_valvula_co2_3 = np.concatenate((estado_valvula_co2_3, np.array([0])))\n",
    "    \n",
    "    for e in np.transpose(df[\"Estado_Valvula_Compost_3\"].to_numpy()):\n",
    "        if e == \"Prendido\":\n",
    "            estado_valvula_compost_3 = np.concatenate((estado_valvula_compost_3, np.array([1])))\n",
    "        else:\n",
    "            estado_valvula_compost_3 = np.concatenate((estado_valvula_compost_3, np.array([0])))\n",
    "       \n",
    "    for e in np.transpose(df[\"Estado_Valvula_CO2_4\"].to_numpy()):\n",
    "        if e == \"Prendido\":\n",
    "            estado_valvula_co2_4 = np.concatenate((estado_valvula_co2_4, np.array([1])))\n",
    "        else:\n",
    "            estado_valvula_co2_4 = np.concatenate((estado_valvula_co2_4, np.array([0])))\n",
    "    \n",
    "    for e in np.transpose(df[\"Estado_Valvula_Compost_4\"].to_numpy()):\n",
    "        if e == \"Prendido\":\n",
    "            estado_valvula_compost_4 = np.concatenate((estado_valvula_compost_4, np.array([1])))\n",
    "        else:\n",
    "            estado_valvula_compost_4 = np.concatenate((estado_valvula_compost_4, np.array([0])))   \n",
    "    \n",
    "    \n",
    "    for e in np.transpose(df[\"Estado_Suncho\"].to_numpy()):\n",
    "        if e == \"Prendido\":\n",
    "            estado_suncho = np.concatenate((estado_suncho, np.array([1])))\n",
    "        else:\n",
    "            estado_suncho = np.concatenate((estado_suncho, np.array([0])))"
   ]
  },
  {
   "cell_type": "code",
   "execution_count": 10,
   "id": "126d4b18",
   "metadata": {},
   "outputs": [
    {
     "data": {
      "text/plain": [
       "array([0.0000e+00, 6.0000e+00, 1.2000e+01, ..., 1.6406e+04, 1.6412e+04,\n",
       "       1.6418e+04])"
      ]
     },
     "execution_count": 10,
     "metadata": {},
     "output_type": "execute_result"
    }
   ],
   "source": [
    "tiempos"
   ]
  },
  {
   "cell_type": "code",
   "execution_count": 11,
   "id": "4466af0c",
   "metadata": {},
   "outputs": [
    {
     "data": {
      "text/plain": [
       "1705"
      ]
     },
     "execution_count": 11,
     "metadata": {},
     "output_type": "execute_result"
    }
   ],
   "source": [
    "341*5"
   ]
  },
  {
   "cell_type": "code",
   "execution_count": 12,
   "id": "a0f23b10",
   "metadata": {},
   "outputs": [],
   "source": [
    "#co2[np.where(co2 == \"!Warning: Clearing Byte: 154\")[0][0]] = -1\n",
    "#co2[np.where(co2 == \"!Warning: Clearing Byte: 49\")[0][0]] = -1"
   ]
  },
  {
   "cell_type": "code",
   "execution_count": 13,
   "id": "680a3fc3",
   "metadata": {},
   "outputs": [],
   "source": [
    "# Encuentro dónde se hace la danza de las válvulas, para hacerle una marca en los gráficos\n",
    "# Parece hincha pelotas así como está ahora, pero después lo voy a necesitar así que me conviene definirlo así\n",
    "\n",
    "pos1 = np.where(np.diff(estado_valvula_co2_1) == 1)[0].tolist() # encuentro el número de posición del primer momento de la danza\n",
    "pos2 = np.where(np.diff(estado_valvula_co2_2) == 1)[0].tolist() # y así con los demás\n",
    "pos3 = np.where(np.diff(estado_valvula_co2_3) == 1)[0].tolist()\n",
    "pos4 = np.where(np.diff(estado_valvula_co2_4) == 1)[0].tolist()\n",
    "pos5 = np.where(np.diff(estado_valvula_compost_4) == 1)[0].tolist()\n",
    "\n",
    "pos = pos1 + pos2 + pos3 + pos4 + pos5 # los guardo ordenados\n",
    "pos.sort()\n",
    "\n",
    "danza = [] # guardo los tiempos para graficarlos y visualizarlos rápidamente\n",
    "for i in range(len(pos)):\n",
    "    danza.append(tiempos[pos[i]])"
   ]
  },
  {
   "cell_type": "markdown",
   "id": "3ba4a718",
   "metadata": {},
   "source": [
    "# Gráficos"
   ]
  },
  {
   "cell_type": "code",
   "execution_count": 14,
   "id": "4e7a7cb4",
   "metadata": {
    "scrolled": true
   },
   "outputs": [
    {
     "data": {
      "image/png": "[encoded data removed]",
      "text/plain": [
       "<Figure size 432x288 with 1 Axes>"
      ]
     },
     "metadata": {
      "needs_background": "light"
     },
     "output_type": "display_data"
    }
   ],
   "source": [
    "plt.figure(\"Temperaturas\")\n",
    "plt.title(\"Temperturas\")\n",
    "plt.plot(tiempos, temp_suncho, '-', markersize=1, label='compost2')\n",
    "plt.plot(tiempos, temp_compost_1, '-', markersize=1, label='compost1')\n",
    "plt.plot(tiempos, temp_compost_2, '-', markersize=1, label='compost4')\n",
    "plt.plot(tiempos, temp_compost_3, '-', markersize=1, label='compost3')\n",
    "plt.plot(tiempos, temp_compost_4, '-', markersize=1, label='suncho')\n",
    "plt.legend()\n",
    "plt.grid()\n",
    "plt.ylim(0,70)\n",
    "plt.xlabel(\"Tiempo [s]\")\n",
    "plt.ylabel(\"Temperatura [°C]\")\n",
    "plt.savefig(f\"{PATH}/figuras/Temperatura.png\")\n",
    "plt.show()"
   ]
  },
  {
   "cell_type": "code",
   "execution_count": 15,
   "id": "cf819fc4",
   "metadata": {},
   "outputs": [
    {
     "name": "stderr",
     "output_type": "stream",
     "text": [
      "<ipython-input-15-b7e233292bc8>:1: FutureWarning: elementwise comparison failed; returning scalar instead, but in the future will perform elementwise comparison\n",
      "  np.where(temp_suncho=='Prendido')\n"
     ]
    },
    {
     "data": {
      "text/plain": [
       "(array([], dtype=int64),)"
      ]
     },
     "execution_count": 15,
     "metadata": {},
     "output_type": "execute_result"
    }
   ],
   "source": [
    "np.where(temp_suncho=='Prendido')"
   ]
  },
  {
   "cell_type": "code",
   "execution_count": 16,
   "id": "617d7b33",
   "metadata": {},
   "outputs": [
    {
     "data": {
      "text/plain": [
       "28.416666666666668"
      ]
     },
     "execution_count": 16,
     "metadata": {},
     "output_type": "execute_result"
    }
   ],
   "source": [
    "(341*5)/60"
   ]
  },
  {
   "cell_type": "code",
   "execution_count": 17,
   "id": "d98672cb",
   "metadata": {},
   "outputs": [
    {
     "data": {
      "text/plain": [
       "400.0"
      ]
     },
     "execution_count": 17,
     "metadata": {},
     "output_type": "execute_result"
    }
   ],
   "source": [
    "2000/5"
   ]
  },
  {
   "cell_type": "code",
   "execution_count": 18,
   "id": "bcaee6ba",
   "metadata": {},
   "outputs": [],
   "source": [
    "# 200 - 1800\n",
    "serie1 = co2[60:600]\n",
    "# 2100 - 3600\n",
    "#serie2 = \n",
    "# 3900 - 5400\n",
    "#serie3 = \n",
    "# 5600 - 7200\n",
    "#serie4 = "
   ]
  },
  {
   "cell_type": "code",
   "execution_count": 19,
   "id": "a639897b",
   "metadata": {},
   "outputs": [
    {
     "name": "stderr",
     "output_type": "stream",
     "text": [
      "No handles with labels found to put in legend.\n"
     ]
    },
    {
     "data": {
      "image/png": "[encoded data removed]",
      "text/plain": [
       "<Figure size 432x288 with 1 Axes>"
      ]
     },
     "metadata": {
      "needs_background": "light"
     },
     "output_type": "display_data"
    }
   ],
   "source": [
    "plt.figure(\"CO2\")\n",
    "#plt.title(\"CO2\")\n",
    "plt.plot(tiempos, co2, \".\", color=\"grey\", markersize=4)\n",
    "#plt.plot(tiempos, co2, \"o\", color=\"blue\", label=\"TPS\")\n",
    "#plt.plot(tiempos, co2, \"o\", color=\"orange\", label=\"Celulosa\")\n",
    "#plt.plot(tiempos, co2, \"o\", color=\"green\", label=r\"TPS/NP-$\\mathrm{TiO_2}$\")\n",
    "#plt.plot(tiempos, co2, \"o\", color=\"red\", label=\"Blanco\")\n",
    "for i in range(len(danza)):\n",
    "    plt.vlines(x=danza[i], ymin=0, ymax=5000, color=\"red\")\n",
    "plt.grid()\n",
    "plt.legend()\n",
    "plt.xlabel(\"Tiempo [s]\")\n",
    "plt.ylabel(r\"$\\mathrm{CO_2}$ [ppm]\")\n",
    "#plt.ylim(-50,1000)\n",
    "plt.savefig(f\"{PATH}/figuras/CO2_completo.png\")\n",
    "plt.show()"
   ]
  },
  {
   "cell_type": "markdown",
   "id": "c78dc05c",
   "metadata": {},
   "source": [
    "# Integración"
   ]
  },
  {
   "cell_type": "code",
   "execution_count": 20,
   "id": "fb93548c",
   "metadata": {},
   "outputs": [],
   "source": [
    "inicio = [] # Posición para empezar a medir el área\n",
    "fin = []\n",
    "for i in range(len(pos) - 1):\n",
    "    if pos[i + 1] - pos[i] < 500:\n",
    "        inicio.append(pos[i] + 60) # Dejamos 60 posiciones (5 minutos aprox) de espera\n",
    "        fin.append(pos[i + 1])"
   ]
  },
  {
   "cell_type": "code",
   "execution_count": 21,
   "id": "e14817e9",
   "metadata": {},
   "outputs": [
    {
     "data": {
      "image/png": "[encoded data removed]",
      "text/plain": [
       "<Figure size 432x288 with 1 Axes>"
      ]
     },
     "metadata": {
      "needs_background": "light"
     },
     "output_type": "display_data"
    }
   ],
   "source": [
    "plt.figure(\"CO2\")\n",
    "plt.title(\"CO2\")\n",
    "plt.plot(tiempos, co2, \".\", markersize=4)\n",
    "for i in range(len(danza)):\n",
    "    plt.vlines(x=danza[i], ymin=0, ymax=3000, color=\"r\")\n",
    "plt.grid()\n",
    "plt.xlabel(\"Tiempo [s]\")\n",
    "plt.ylabel(\"CO2 [ppm]\")\n",
    "\n",
    "plt.ylim(300,2500)\n",
    "\n",
    "plt.scatter(tiempos[inicio], co2[inicio], color=\"m\", zorder=4) #marco el inicio de cada área en color magenta\n",
    "plt.scatter(tiempos[fin], co2[fin], color=\"k\", zorder=5) #marco el fin de cada área en color negro\n",
    "for i in range(len(inicio)):\n",
    "    plt.scatter(tiempos[inicio[i]:fin[i]], co2[inicio[i]:fin[i]], color=\"g\", zorder=3)\n",
    "    \n",
    "plt.savefig(f\"{PATH}/figuras/areas_pintadas.png\")\n",
    "plt.show()"
   ]
  },
  {
   "cell_type": "code",
   "execution_count": 22,
   "id": "9b323f37",
   "metadata": {},
   "outputs": [],
   "source": [
    "#CALCULO UN VALOR PROMEDIO, Y SU ERROR\n",
    "promedio=[]\n",
    "promedio_std=[]\n",
    "for i in range(len(inicio)):\n",
    "    promedio.append(np.mean(co2[inicio[i]:fin[i]]))\n",
    "    promedio_std.append(np.std(co2[inicio[i]:fin[i]]))"
   ]
  },
  {
   "cell_type": "code",
   "execution_count": 23,
   "id": "549c9732",
   "metadata": {},
   "outputs": [],
   "source": [
    "promedio1 = []\n",
    "promedio2 = []\n",
    "promedio3 = []\n",
    "promedio4 = []\n",
    "\n",
    "promedio_std1 = []\n",
    "promedio_std2 = []\n",
    "promedio_std3 = []\n",
    "promedio_std4 = []\n",
    "\n",
    "for i in range(int(len(promedio) / 4)):\n",
    "    promedio1.append(promedio[4 * i])\n",
    "    promedio2.append(promedio[4 * i + 1])\n",
    "    promedio3.append(promedio[4 * i + 2])\n",
    "    promedio4.append(promedio[4 * i + 3])\n",
    "    \n",
    "    promedio_std1.append(promedio_std[4 * i])\n",
    "    promedio_std2.append(promedio_std[4 * i + 1])\n",
    "    promedio_std3.append(promedio_std[4 * i + 2])\n",
    "    promedio_std4.append(promedio_std[4 * i + 3])\n",
    "\n",
    "a=np.transpose(np.array([np.arange(1,(int(len(promedio1)))+1,1),promedio1,promedio2,promedio3,promedio4]))\n",
    "np.savetxt(f'{PATH}/figuras/promedio.csv', a, delimiter=', ', newline='\\n', header='nro,promedio1,promedio2,promedio3,promedio4')\n",
    "\n",
    "b=np.transpose(np.array([np.arange(1,(int(len(promedio_std1)))+1,1),promedio_std1,promedio_std2,promedio_std3,promedio_std4]))\n",
    "np.savetxt(f'{PATH}/figuras/promedio_std.csv', b, delimiter=', ', newline='\\n', header='nro,promedio_std1,promedio_std2,promedio_std3,promedio_std4')\n"
   ]
  },
  {
   "cell_type": "code",
   "execution_count": 24,
   "id": "5fb22ef1",
   "metadata": {},
   "outputs": [
    {
     "data": {
      "text/plain": [
       "[613.5991902834008, 873.3441295546559, 1147.753036437247, 1644.5506072874493]"
      ]
     },
     "execution_count": 24,
     "metadata": {},
     "output_type": "execute_result"
    }
   ],
   "source": [
    "promedio"
   ]
  },
  {
   "cell_type": "code",
   "execution_count": null,
   "id": "d3125304",
   "metadata": {},
   "outputs": [],
   "source": []
  },
  {
   "cell_type": "markdown",
   "id": "448cc7af",
   "metadata": {},
   "source": [
    "La fórmula es \n",
    "g= $\\frac{F CT 44 g/mol}{22414 . 10^6 0.001L/mol}$\n",
    "\n",
    "Con F el flujo (1.5L/min), CT el área bajo la curva en MINUTOS, como lo tenemos en segundos:\n",
    "\n",
    "g= $\\frac{F* CT/60 * 44 g/mol}{22414 . 10^6 0.001L/mol}$"
   ]
  },
  {
   "cell_type": "code",
   "execution_count": 17,
   "id": "1f23025a",
   "metadata": {},
   "outputs": [],
   "source": [
    "F = 1.5\n",
    "den = 22414 * 0.001 * 10 ** 6\n",
    "\n",
    "def gramos(x): # Meter el área\n",
    "    return F * x * 44 / (den * 60)"
   ]
  },
  {
   "cell_type": "code",
   "execution_count": 18,
   "id": "e5929dcc",
   "metadata": {},
   "outputs": [
    {
     "data": {
      "text/plain": [
       "array([0.00020848, 0.00020921, 0.00020995, 0.00021039, 0.00017569,\n",
       "       0.00021127, 0.00021142, 0.00021201, 0.00021363, 0.0002151 ,\n",
       "       0.00021584, 0.00021643, 0.0001806 , 0.00021775, 0.00021908,\n",
       "       0.00021981, 0.0002204 , 0.00022084, 0.00022114, 0.00022173,\n",
       "       0.00018551, 0.0002232 , 0.00022349, 0.00022364, 0.00022408,\n",
       "       0.00022438, 0.00022541, 0.00018907, 0.00022762, 0.00022791,\n",
       "       0.00022806, 0.00022821, 0.0002285 , 0.00022894, 0.00022924,\n",
       "       0.00019164, 0.00023086, 0.0002313 , 0.00023159, 0.00023203,\n",
       "       0.00023233, 0.00023248, 0.00019397, 0.00023321, 0.00023351,\n",
       "       0.00023351, 0.00023336, 0.00023336, 0.00023351, 0.0002338 ,\n",
       "       0.0001952 , 0.00023439, 0.00023439, 0.00023439, 0.00023409,\n",
       "       0.00023365, 0.00023336, 0.00019434, 0.00023321, 0.00023321,\n",
       "       0.00023336, 0.00023351, 0.00023351, 0.00023351, 0.00023351,\n",
       "       0.00019459, 0.00023351, 0.00023351, 0.00023321, 0.00023277,\n",
       "       0.00023248, 0.00023248, 0.00019385, 0.00023277, 0.00023306,\n",
       "       0.00023336, 0.00023351, 0.0002338 , 0.00023424, 0.00023454,\n",
       "       0.00019569, 0.00023498, 0.00023527, 0.00023557, 0.00023557,\n",
       "       0.00023542, 0.00023513, 0.00019569, 0.00023454, 0.00023454,\n",
       "       0.00023498, 0.00023513, 0.00023483, 0.00023498, 0.00023527,\n",
       "       0.00019618, 0.00023586, 0.00023616, 0.00023645, 0.00023674,\n",
       "       0.00023704, 0.00023733, 0.00019802, 0.00023763, 0.00023704,\n",
       "       0.00023674, 0.00023674, 0.00023674, 0.00023674, 0.0002366 ,\n",
       "       0.00019704, 0.00023645, 0.00023645, 0.00023645, 0.0002363 ,\n",
       "       0.0002363 , 0.00023616, 0.00019643, 0.00023557, 0.00023557,\n",
       "       0.00023557, 0.00023571, 0.00023586, 0.00023616, 0.00023674,\n",
       "       0.00019766, 0.00023733, 0.00023733, 0.00023748, 0.00023778,\n",
       "       0.00023778, 0.00023763, 0.00023822, 0.00019925, 0.00023954,\n",
       "       0.00023954, 0.0002394 , 0.00023969, 0.00023998, 0.00023969,\n",
       "       0.0001995 , 0.0002394 , 0.0002394 , 0.0002394 , 0.0002394 ,\n",
       "       0.0002394 , 0.00023954, 0.00023984, 0.00020011, 0.00024057,\n",
       "       0.00024072, 0.00024057, 0.00024057, 0.00024072, 0.00024116,\n",
       "       0.00020121, 0.00024146, 0.0002416 , 0.00024175, 0.0002419 ,\n",
       "       0.00024219, 0.00024249, 0.00024278, 0.00020256, 0.00024322,\n",
       "       0.00024337, 0.00024381, 0.0002444 , 0.00024484, 0.00024514,\n",
       "       0.00020453, 0.00024573, 0.00024602, 0.00024631, 0.00024646,\n",
       "       0.00024661, 0.00024705, 0.00024749, 0.00020624, 0.00024749,\n",
       "       0.00024779, 0.00024823, 0.00024896, 0.00024941, 0.00024955,\n",
       "       0.00020821, 0.00025   , 0.00025014, 0.00025044, 0.00025088,\n",
       "       0.00025117, 0.00025132, 0.00025206, 0.00021091, 0.00025353,\n",
       "       0.00025353, 0.00025353, 0.00025397, 0.00025441, 0.00025427,\n",
       "       0.00021189, 0.00025456, 0.000255  , 0.00025544, 0.00025559,\n",
       "       0.00025574, 0.00025559, 0.0002553 , 0.0002125 , 0.00025471,\n",
       "       0.00025485, 0.00025515, 0.00025559, 0.00025618, 0.00025662,\n",
       "       0.0002141 , 0.00025706, 0.00025706, 0.00025706, 0.00025721,\n",
       "       0.00025736, 0.00025736, 0.00025692, 0.00021348, 0.00025588,\n",
       "       0.00025603, 0.00025618, 0.00025633, 0.00025647, 0.00025662,\n",
       "       0.0002141 , 0.00025721, 0.0002575 , 0.0002578 , 0.00025839,\n",
       "       0.00025883, 0.00025868, 0.00025868, 0.00021581, 0.00025927,\n",
       "       0.00025971, 0.00026015, 0.00026045, 0.00026074, 0.00026074,\n",
       "       0.00021704, 0.00025986])"
      ]
     },
     "execution_count": 18,
     "metadata": {},
     "output_type": "execute_result"
    }
   ],
   "source": [
    "gramos(np.array(area1))"
   ]
  },
  {
   "cell_type": "code",
   "execution_count": null,
   "id": "5e07aa4c",
   "metadata": {},
   "outputs": [],
   "source": []
  }
 ],
 "metadata": {
  "kernelspec": {
   "display_name": "Python 3",
   "language": "python",
   "name": "python3"
  },
  "language_info": {
   "codemirror_mode": {
    "name": "ipython",
    "version": 3
   },
   "file_extension": ".py",
   "mimetype": "text/x-python",
   "name": "python",
   "nbconvert_exporter": "python",
   "pygments_lexer": "ipython3",
   "version": "3.8.5"
  }
 },
 "nbformat": 4,
 "nbformat_minor": 5
}
