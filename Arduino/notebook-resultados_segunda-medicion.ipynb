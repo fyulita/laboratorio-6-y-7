{
 "cells": [
  {
   "cell_type": "code",
   "execution_count": 1,
   "id": "a4eb136b",
   "metadata": {},
   "outputs": [],
   "source": [
    "import numpy as np\n",
    "import pandas as pd\n",
    "import matplotlib.pyplot as plt"
   ]
  },
  {
   "cell_type": "code",
   "execution_count": 2,
   "id": "c851e184",
   "metadata": {},
   "outputs": [],
   "source": [
    "PATH = \"./measurements/full-x4\""
   ]
  },
  {
   "cell_type": "code",
   "execution_count": 3,
   "id": "08620389",
   "metadata": {},
   "outputs": [],
   "source": [
    "fechas=['2021-11-19_17-55-37','2021-11-27_16-16-53']\n",
    "data=[]\n",
    "\n",
    "for i in fechas:\n",
    "    data.append(pd.read_csv(f\"{PATH}/{i}/figuras/area_{i}.csv\"))\n",
    "    \n",
    "data.append(pd.read_csv(f\"{PATH}/areasfinales/areas_0-280.csv\"))\n",
    "data.append(pd.read_csv(f\"{PATH}/areasfinales/areas_280-525.csv\"))\n",
    "data.append(pd.read_csv(f\"{PATH}/areasfinales/areas_525-569.csv\"))\n",
    "data.append(pd.read_csv(f\"{PATH}/areasfinales/areas_570-663.csv\"))\n",
    "\n",
    "#REPITO LOS ÚLTIMOS 4 PUNTOS PARA LLENAR EL BACHE. CORRESPONDE A LOS LUGARES 50,51,52,53\n",
    "data.append(pd.read_csv(f\"{PATH}/areasfinales/areas_525-569.csv\"))\n",
    "data.append(pd.read_csv(f\"{PATH}/areasfinales/areas_570-663.csv\"))\n",
    "\n",
    "data.append(pd.read_csv(f\"{PATH}/areasfinales/areas_955-990.csv\"))\n",
    "data.append(pd.read_csv(f\"{PATH}/areasfinales/areas_991-1134.csv\"))\n",
    "data.append(pd.read_csv(f\"{PATH}/areasfinales/areas_1180-1200.csv\"))\n",
    "data.append(pd.read_csv(f\"{PATH}/areasfinales/areas_1222-1237.csv\"))"
   ]
  },
  {
   "cell_type": "code",
   "execution_count": 4,
   "id": "d792eb95",
   "metadata": {},
   "outputs": [],
   "source": [
    "data=pd.concat(data)"
   ]
  },
  {
   "cell_type": "code",
   "execution_count": 5,
   "id": "fe154f6a",
   "metadata": {},
   "outputs": [],
   "source": [
    "dt=1/4\n",
    "\n",
    "long=39\n",
    "\n",
    "x1= np.arange(0,long/4,dt)\n",
    "x2=(np.array([1,2,3,4,5,6,7,8,9,10,11,12+4,13+4,14+4,15+4,16+4,17+4,18+4]) + long)/4 #,8,9,10,11, 16,17,18,19,20,21,22,23,24])+long)/4\n",
    "x3=(np.arange(1,23,1)+long)/4\n",
    "\n",
    "x=np.concatenate([x1,x2])"
   ]
  },
  {
   "cell_type": "code",
   "execution_count": null,
   "id": "c5a8692d",
   "metadata": {},
   "outputs": [],
   "source": []
  },
  {
   "cell_type": "code",
   "execution_count": 6,
   "id": "6b9bf0f5",
   "metadata": {},
   "outputs": [
    {
     "data": {
      "text/plain": [
       "57"
      ]
     },
     "execution_count": 6,
     "metadata": {},
     "output_type": "execute_result"
    }
   ],
   "source": [
    "len(x)"
   ]
  },
  {
   "cell_type": "code",
   "execution_count": 7,
   "id": "4d6e1f05",
   "metadata": {},
   "outputs": [
    {
     "data": {
      "text/plain": [
       "61"
      ]
     },
     "execution_count": 7,
     "metadata": {},
     "output_type": "execute_result"
    }
   ],
   "source": [
    "len(data)"
   ]
  },
  {
   "cell_type": "code",
   "execution_count": 8,
   "id": "f47fc093",
   "metadata": {},
   "outputs": [],
   "source": [
    "#LA CONCENTRACION EN 25MIN:\n",
    "\n",
    "#area1=np.array([data['Area1']])/60\n",
    "#area2=np.array([data['Area2']])/60\n",
    "#area3=np.array([data['Area3']])/60\n",
    "#area4=np.array([data['Area4']])/60\n",
    "\n",
    "c1=np.array([data['Area1']])/(25*60)\n",
    "c2=np.array([data['Area2']])/(25*60)\n",
    "c3=np.array([data['Area3']])/(25*60)\n",
    "c4=np.array([data['Area4']])/(25*60)"
   ]
  },
  {
   "cell_type": "markdown",
   "id": "ff00e685",
   "metadata": {},
   "source": [
    "La fórmula es \n",
    "g= $\\frac{F CT 44 g/mol}{22414 . 10^6 0.001L/mol}$\n",
    "\n",
    "Con F el flujo (1.5L/min), CT el área bajo la curva en MINUTOS, como lo tenemos en segundos:\n",
    "\n",
    "g= $\\frac{F* CT/60 * 44 g/mol}{22414 . 10^6 0.001L/mol}$"
   ]
  },
  {
   "cell_type": "code",
   "execution_count": 9,
   "id": "962006f3",
   "metadata": {},
   "outputs": [],
   "source": [
    "F = 1.5\n",
    "den = 22414 * 0.001 * 10 ** 6\n",
    "\n",
    "def gramos(C): #meter el área\n",
    "    return F *C*6*60* 44 / (den)\n",
    "\n",
    "#Se le introduce la CONCENTRACIÓN\n",
    "#Se proyecta que eso emite durante 6h, pero como tiene que estar en minutos, se multiplica por 6*60"
   ]
  },
  {
   "cell_type": "code",
   "execution_count": 10,
   "id": "dd6183d4",
   "metadata": {},
   "outputs": [],
   "source": [
    "gramos1=gramos(c1)#area1))#*14.4\n",
    "gramos2=gramos(c2)#area2))#*14.4\n",
    "gramos3=gramos(c3)#area3))#*14.4\n",
    "gramos4=gramos(c4)#area4))#*14.4"
   ]
  },
  {
   "cell_type": "code",
   "execution_count": 11,
   "id": "a36b3f9c",
   "metadata": {},
   "outputs": [],
   "source": [
    "#Gramos acumulados, suponiendo que ese valor se produjo durante 6h\n",
    "gramos1_ac=np.add.accumulate(gramos1[0])\n",
    "gramos2_ac=np.add.accumulate(gramos2[0])\n",
    "gramos3_ac=np.add.accumulate(gramos3[0])\n",
    "gramos4_ac=np.add.accumulate(gramos4[0])"
   ]
  },
  {
   "cell_type": "code",
   "execution_count": 12,
   "id": "5560de3f",
   "metadata": {},
   "outputs": [
    {
     "data": {
      "text/plain": [
       "array([39.12845718, 39.75388771, 40.82524598, 41.45200758, 41.96230943,\n",
       "       42.48173479])"
      ]
     },
     "execution_count": 12,
     "metadata": {},
     "output_type": "execute_result"
    }
   ],
   "source": [
    "gramos1_ac[49:55]"
   ]
  },
  {
   "cell_type": "code",
   "execution_count": 13,
   "id": "dea55829",
   "metadata": {},
   "outputs": [
    {
     "data": {
      "text/plain": [
       "(39.75388771303649, 40.82524597840635, 41.45200758454537, 41.96230943160524)"
      ]
     },
     "execution_count": 13,
     "metadata": {},
     "output_type": "execute_result"
    }
   ],
   "source": [
    "#ELIMINO LOS 4 PUNTOS DEL BACHE, QUE NO SON REALES\n",
    "gramos1_ac[50],gramos1_ac[51],gramos1_ac[52],gramos1_ac[53]"
   ]
  },
  {
   "cell_type": "code",
   "execution_count": 14,
   "id": "f08d32f5",
   "metadata": {},
   "outputs": [],
   "source": [
    "gramos1_ac=np.delete(gramos1_ac,[50,51,52,53])\n",
    "gramos2_ac=np.delete(gramos2_ac,[50,51,52,53])\n",
    "gramos3_ac=np.delete(gramos3_ac,[50,51,52,53])\n",
    "gramos4_ac=np.delete(gramos4_ac,[50,51,52,53])"
   ]
  },
  {
   "cell_type": "markdown",
   "id": "8f099763",
   "metadata": {},
   "source": [
    "Vemos los errores:\n",
    "$g= \\frac{F CT *44}{22414 * 0.001 * 10^6}$\n",
    "\n",
    "$\\sigma_g ^2 = ( \\frac{CT *44}{22414 * 0.001 * 10^6}\\sigma_F )^2 + ( \\frac{F *44}{22414 * 0.001 * 10^6}\\sigma_{CT})^2$"
   ]
  },
  {
   "cell_type": "code",
   "execution_count": 15,
   "id": "63080553",
   "metadata": {},
   "outputs": [],
   "source": [
    "def error(x): #INTRODUCIR LA CONCENTRACIÓN\n",
    "    sigma_F=0.1\n",
    "    sigma_A=50 + x*0.05\n",
    "    A=sigma_F*x*6*60*44/den\n",
    "    B=sigma_A*F*6*60*44/den\n",
    "    return (A**2 + B**2)"
   ]
  },
  {
   "cell_type": "code",
   "execution_count": 16,
   "id": "de3538bf",
   "metadata": {},
   "outputs": [],
   "source": [
    "error_g1=error(c1[0]) #var\n",
    "error_g2=error(c2[0]) #var\n",
    "error_g3=error(c3[0]) #var\n",
    "error_g4=error(c4[0]) #var"
   ]
  },
  {
   "cell_type": "code",
   "execution_count": 17,
   "id": "26cbac7d",
   "metadata": {},
   "outputs": [],
   "source": [
    "error_g1_ac=np.add.accumulate(error_g1)\n",
    "error_g2_ac=np.add.accumulate(error_g2)\n",
    "error_g3_ac=np.add.accumulate(error_g3)\n",
    "error_g4_ac=np.add.accumulate(error_g4)"
   ]
  },
  {
   "cell_type": "code",
   "execution_count": 18,
   "id": "65fab57d",
   "metadata": {},
   "outputs": [],
   "source": [
    "error_g1_ac=np.delete(error_g1_ac,[50,51,52,53])\n",
    "error_g2_ac=np.delete(error_g2_ac,[50,51,52,53])\n",
    "error_g3_ac=np.delete(error_g3_ac,[50,51,52,53])\n",
    "error_g4_ac=np.delete(error_g4_ac,[50,51,52,53])"
   ]
  },
  {
   "cell_type": "markdown",
   "id": "402b6861",
   "metadata": {},
   "source": [
    "Al ser acumulado y sumar siempre el anterior, el error será la suma en cuadratura"
   ]
  },
  {
   "cell_type": "code",
   "execution_count": 19,
   "id": "aa6fb956",
   "metadata": {},
   "outputs": [
    {
     "data": {
      "image/png": "[encoded data removed]",
      "text/plain": [
       "<Figure size 432x288 with 1 Axes>"
      ]
     },
     "metadata": {
      "needs_background": "light"
     },
     "output_type": "display_data"
    }
   ],
   "source": [
    "plt.plot(x,gramos1_ac,'s',label='Almidón',color='red')\n",
    "plt.plot(x,gramos3_ac,'.',label='A + NP TiO$_2$',color='blue')\n",
    "plt.plot(x,gramos4_ac,'*',label='Blanco',color='orange')\n",
    "plt.plot(x,gramos2_ac,'^',label='Celulosa',color='green')\n",
    "\n",
    "plt.legend()\n",
    "\n",
    "plt.errorbar(x,gramos1_ac,yerr=error_g1_ac**0.5,fmt='.',color='red')\n",
    "plt.errorbar(x,gramos2_ac,yerr=error_g2_ac**0.5,fmt='.',color='green')\n",
    "plt.errorbar(x,gramos3_ac,yerr=error_g3_ac**0.5,fmt='.',color='blue')\n",
    "plt.errorbar(x,gramos4_ac,yerr=error_g4_ac**0.5,fmt='.',color='orange')\n",
    "\n",
    "#plt.title('CO2 acumulado - sensor')\n",
    "plt.xlabel('Tiempo [Días]')\n",
    "plt.ylabel('Masa [g]')\n",
    "plt.grid(True)\n",
    "plt.savefig(\"co2_acumulado-sensor_segunda-medicion.png\")\n",
    "plt.show()"
   ]
  },
  {
   "cell_type": "code",
   "execution_count": 20,
   "id": "76db08a2",
   "metadata": {
    "scrolled": true
   },
   "outputs": [
    {
     "data": {
      "image/png": "[encoded data removed]",
      "text/plain": [
       "<Figure size 432x288 with 1 Axes>"
      ]
     },
     "metadata": {
      "needs_background": "light"
     },
     "output_type": "display_data"
    }
   ],
   "source": [
    "plt.errorbar(x,gramos1_ac-gramos4_ac,yerr=(error_g1_ac+error_g4_ac)**0.5,fmt='.',color='red')\n",
    "plt.errorbar(x,gramos2_ac-gramos4_ac,yerr=(error_g2_ac+error_g4_ac)**0.5,fmt='^',color='green')\n",
    "plt.errorbar(x,gramos3_ac-gramos4_ac,yerr=(error_g3_ac+error_g4_ac)**0.5,fmt='.',color='blue')\n",
    "\n",
    "plt.plot(x,gramos1_ac-gramos4_ac,'s',label='Almidón',color='red')\n",
    "plt.plot(x,gramos3_ac-gramos4_ac,'.',label='A + NP TiO$_2$',color='blue')\n",
    "plt.plot(x,gramos2_ac-gramos4_ac,'^',label='Celulosa',color='green')\n",
    "\n",
    "plt.legend()\n",
    "\n",
    "#plt.title('CO2 acumulado - sensor- restado')\n",
    "plt.xlabel('Tiempo [Días]')\n",
    "plt.ylabel('Masa [g]')\n",
    "plt.grid(True)\n",
    "plt.savefig(\"co2_acumulado-sensor_segunda-medicion-restado.png\")\n",
    "plt.show()"
   ]
  },
  {
   "cell_type": "code",
   "execution_count": 21,
   "id": "ba8b8ff9",
   "metadata": {},
   "outputs": [
    {
     "data": {
      "text/plain": [
       "23.625244101008306"
      ]
     },
     "execution_count": 21,
     "metadata": {},
     "output_type": "execute_result"
    }
   ],
   "source": [
    "(gramos3_ac-gramos4_ac)[-1]"
   ]
  },
  {
   "cell_type": "markdown",
   "id": "b3bd1663",
   "metadata": {},
   "source": [
    "### Porcentaje de biodeg\n",
    "\n",
    "La fórmula del almidón es $C_6H_{10}O_5$, que tiene un peso de 162g/mol, de los cuales 6xC=6x12=72 gramos son potenciales gramos de carbono que se van a convertir a CO2. ¿cuánto hay en nuestra muestra de 20g? (en verdad, 16.67g, porque son secos)\n",
    "\n",
    "162g.... 72g C\n",
    "\n",
    "16.67g...X=7.409g\n",
    "\n",
    "Por tanto, esperamos que hayan 7.409g de Carbono en nuestra muestra.\n",
    "\n",
    "¿cuánto CO2 esperamos que sea convertido? Si cada carbono se transforma en CO2:\n",
    "\n",
    "12g C ...... 44g CO2\n",
    "\n",
    "7.409g C mtra...... X="
   ]
  },
  {
   "cell_type": "code",
   "execution_count": 22,
   "id": "14ce2638",
   "metadata": {},
   "outputs": [],
   "source": [
    "#C6H10O5\n",
    "g_almidon_teo=6*12 + 10*1 + 5*16\n",
    "\n",
    "#cada esa cantidad de almidón, hay 6*C=6*12=72 gramos de carbono\n",
    "#entonces cuánto hay en 20g de muestra:\n",
    "\n",
    "g_C_mtra=16.67*72/g_almidon_teo\n",
    "\n",
    "g_CO2_teo=g_C_mtra*44/12"
   ]
  },
  {
   "cell_type": "code",
   "execution_count": 23,
   "id": "4f5c64e7",
   "metadata": {},
   "outputs": [
    {
     "data": {
      "text/plain": [
       "27.165925925925933"
      ]
     },
     "execution_count": 23,
     "metadata": {},
     "output_type": "execute_result"
    }
   ],
   "source": [
    "g_CO2_teo"
   ]
  },
  {
   "cell_type": "code",
   "execution_count": 25,
   "id": "fb5c1f20",
   "metadata": {},
   "outputs": [
    {
     "data": {
      "image/png": "[encoded data removed]",
      "text/plain": [
       "<Figure size 432x288 with 1 Axes>"
      ]
     },
     "metadata": {
      "needs_background": "light"
     },
     "output_type": "display_data"
    }
   ],
   "source": [
    "#Grafico el porcentaje de biodeg\n",
    "\n",
    "plt.errorbar(x,(gramos3_ac-gramos4_ac)*100/g_CO2_teo,yerr=100*(error_g3_ac+error_g4_ac)**0.5 / g_CO2_teo,fmt='^', label='TPS/NP-TiO$_2$', color='blue')\n",
    "plt.errorbar(x,(gramos1_ac-gramos4_ac)*100/g_CO2_teo,yerr=100*(error_g1_ac+error_g4_ac)**0.5 / g_CO2_teo,fmt='s', label='TPS' ,color='red')\n",
    "#plt.errorbar(x,gramos2_ac-gramos4_ac,yerr=(error_g2_ac+error_g4_ac)**0.5,fmt='^',color='green')\n",
    "\n",
    "#plt.plot(x,(gramos1_ac-gramos4_ac)*100/g_CO2_teo,'s',label='TPS',color='red')\n",
    "#plt.plot(x,(gramos3_ac-gramos4_ac)*100/g_CO2_teo,'^',label='TPS/NP-TiO$_2$',color='blue')\n",
    "#plt.plot(x,(gramos2_ac-gramos4_ac)*100/g_CO2_teo,'^',label='Celulosa',color='green')\n",
    "\n",
    "plt.legend()\n",
    "\n",
    "#plt.title('CO2 acumulado - sensor- restado')\n",
    "plt.xlabel('Tiempo [días]')\n",
    "plt.ylabel('% Mineralización')\n",
    "plt.grid(True)\n",
    "plt.savefig(\"biodeg_sensor_segunda-medicion-restado.png\")\n",
    "plt.show()"
   ]
  },
  {
   "cell_type": "code",
   "execution_count": null,
   "id": "787c030a",
   "metadata": {},
   "outputs": [],
   "source": []
  }
 ],
 "metadata": {
  "kernelspec": {
   "display_name": "Python 3 (ipykernel)",
   "language": "python",
   "name": "python3"
  },
  "language_info": {
   "codemirror_mode": {
    "name": "ipython",
    "version": 3
   },
   "file_extension": ".py",
   "mimetype": "text/x-python",
   "name": "python",
   "nbconvert_exporter": "python",
   "pygments_lexer": "ipython3",
   "version": "3.10.1"
  }
 },
 "nbformat": 4,
 "nbformat_minor": 5
}
