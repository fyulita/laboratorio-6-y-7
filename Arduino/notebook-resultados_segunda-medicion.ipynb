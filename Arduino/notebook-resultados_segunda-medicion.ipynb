{
 "cells": [
  {
   "cell_type": "code",
   "execution_count": 1,
   "id": "a4eb136b",
   "metadata": {},
   "outputs": [],
   "source": [
    "import numpy as np\n",
    "import pandas as pd\n",
    "import matplotlib.pyplot as plt"
   ]
  },
  {
   "cell_type": "code",
   "execution_count": 2,
   "id": "c851e184",
   "metadata": {},
   "outputs": [],
   "source": [
    "PATH = \"./measurements/full-x4\""
   ]
  },
  {
   "cell_type": "code",
   "execution_count": 3,
   "id": "08620389",
   "metadata": {},
   "outputs": [],
   "source": [
    "fechas=['2021-11-19_17-55-37']\n",
    "data=[]\n",
    "\n",
    "for i in fechas:\n",
    "    data.append(pd.read_csv(f\"{PATH}/{i}/figuras/area_{i}.csv\"))"
   ]
  },
  {
   "cell_type": "code",
   "execution_count": 5,
   "id": "fe154f6a",
   "metadata": {},
   "outputs": [],
   "source": [
    "dt=1/4\n",
    "x=np.arange(0,len(data[0][\"# nro\"])/4,dt) "
   ]
  },
  {
   "cell_type": "code",
   "execution_count": 6,
   "id": "f47fc093",
   "metadata": {},
   "outputs": [],
   "source": [
    "#AREAS\n",
    "area1=[]\n",
    "area2=[]\n",
    "area3=[]\n",
    "area4=[]\n",
    "\n",
    "for i in range(len(fechas)):\n",
    "    area1.append(np.array(data[i]['Area1']))\n",
    "    area2.append(np.array(data[i]['Area2']))\n",
    "    area3.append(np.array(data[i]['Area3']))\n",
    "    area4.append(np.array(data[i]['Area4']))\n",
    "\n",
    "area1=np.concatenate(area1)\n",
    "area2=np.concatenate(area2)\n",
    "area3=np.concatenate(area3)\n",
    "area4=np.concatenate(area4)"
   ]
  },
  {
   "cell_type": "code",
   "execution_count": 14,
   "id": "d9e8fdcc",
   "metadata": {},
   "outputs": [
    {
     "data": {
      "text/plain": [
       "array([14359.625     , 12962.74166667, 11032.31666667,  8238.275     ,\n",
       "       16798.28333333, 18173.075     , 17247.04166667, 16384.4       ,\n",
       "       15552.84166667, 14243.81666667, 13088.53333333, 17865.79166667,\n",
       "       25912.18333333, 20272.79166667, 17400.73333333, 39200.45      ,\n",
       "       32189.95      , 21705.85833333, 17096.475     , 19767.95      ])"
      ]
     },
     "execution_count": 14,
     "metadata": {},
     "output_type": "execute_result"
    }
   ],
   "source": [
    "area1/60"
   ]
  },
  {
   "cell_type": "markdown",
   "id": "ff00e685",
   "metadata": {},
   "source": [
    "La fórmula es \n",
    "g= $\\frac{F CT 44 g/mol}{22414 . 10^6 0.001L/mol}$\n",
    "\n",
    "Con F el flujo (1.5L/min), CT el área bajo la curva en MINUTOS, como lo tenemos en segundos:\n",
    "\n",
    "g= $\\frac{F* CT/60 * 44 g/mol}{22414 . 10^6 0.001L/mol}$"
   ]
  },
  {
   "cell_type": "code",
   "execution_count": 8,
   "id": "962006f3",
   "metadata": {},
   "outputs": [],
   "source": [
    "F = 1.5\n",
    "den = 22414 * 0.001 * 10 ** 6\n",
    "\n",
    "def gramos(x): #meter el área\n",
    "    return F * x * 44 / (den*60)\n"
   ]
  },
  {
   "cell_type": "code",
   "execution_count": 9,
   "id": "dd6183d4",
   "metadata": {},
   "outputs": [],
   "source": [
    "gramos1=np.array(gramos(area1))\n",
    "gramos2=np.array(gramos(area2))\n",
    "gramos3=np.array(gramos(area3))\n",
    "gramos4=np.array(gramos(area4))"
   ]
  },
  {
   "cell_type": "code",
   "execution_count": 10,
   "id": "a36b3f9c",
   "metadata": {},
   "outputs": [],
   "source": [
    "#Gramos acumulados, suponiendo que ese valor se produjo durante 6h\n",
    "gramos1_ac=np.add.accumulate(gramos1*6)\n",
    "gramos2_ac=np.add.accumulate(gramos2*6)\n",
    "gramos3_ac=np.add.accumulate(gramos3*6)\n",
    "gramos4_ac=np.add.accumulate(gramos4*6)"
   ]
  },
  {
   "cell_type": "markdown",
   "id": "69bb92bd",
   "metadata": {},
   "source": [
    "Cada área tomada fue de 25 minutos, por tanto, hacemos regla de 3 simples para comparar con el de titulacion (5.5h)\n",
    "\n",
    "25 min ---- area\n",
    "\n",
    "5.5h=330min ----\n",
    "\n",
    "se debe multiplicar al eje Y por 330/25=13.2 ¿¿¿???"
   ]
  },
  {
   "cell_type": "code",
   "execution_count": 11,
   "id": "aa6fb956",
   "metadata": {},
   "outputs": [
    {
     "data": {
      "image/png": "[encoded data removed]",
      "text/plain": [
       "<Figure size 432x288 with 1 Axes>"
      ]
     },
     "metadata": {
      "needs_background": "light"
     },
     "output_type": "display_data"
    }
   ],
   "source": [
    "plt.plot(x,gramos1_ac,'.',label='Almidon')\n",
    "plt.plot(x,gramos3_ac,'.',label='A + NP TiO2')\n",
    "plt.plot(x,gramos4_ac,'.',label='Blanco')\n",
    "plt.plot(x,gramos2_ac,'.',label='Celulosa')\n",
    "plt.legend()\n",
    "plt.title('CO2 acumulado - sensor')\n",
    "plt.xlabel('Tiempo [Días]')\n",
    "plt.ylabel('Masa [g]')\n",
    "plt.grid(True)\n",
    "plt.savefig(\"co2_acumulado-sensor_segunda-medicion.png\")\n",
    "plt.show()"
   ]
  },
  {
   "cell_type": "code",
   "execution_count": null,
   "id": "fbbda23a",
   "metadata": {},
   "outputs": [],
   "source": []
  },
  {
   "cell_type": "code",
   "execution_count": null,
   "id": "2d7ab429",
   "metadata": {},
   "outputs": [],
   "source": []
  },
  {
   "cell_type": "markdown",
   "id": "e9895af8",
   "metadata": {},
   "source": [
    "# Segundo intento"
   ]
  },
  {
   "cell_type": "code",
   "execution_count": null,
   "id": "1c6e75eb",
   "metadata": {},
   "outputs": [],
   "source": [
    "# Voy a hacer uno a la vez"
   ]
  },
  {
   "cell_type": "code",
   "execution_count": null,
   "id": "d05e985f",
   "metadata": {},
   "outputs": [],
   "source": [
    "c=area3/(25*60) #concentración en un momento dado"
   ]
  },
  {
   "cell_type": "code",
   "execution_count": null,
   "id": "b05b622c",
   "metadata": {},
   "outputs": [],
   "source": [
    "plt.scatter(x,c)\n",
    "plt.title('Concentración de CO2 cada 6h')\n",
    "plt.xlabel('Tiempo [días]')\n",
    "plt.ylabel('Concentración [ppm]')\n",
    "plt.grid(True)\n",
    "plt.show()"
   ]
  },
  {
   "cell_type": "code",
   "execution_count": null,
   "id": "d24b0c95",
   "metadata": {},
   "outputs": [],
   "source": [
    "#Tomo el valor medio entre un punto y el otro, para calcular la concentración promedio en cada intervalo\n",
    "\n",
    "c_mean=[]\n",
    "for i in range(len(c)-1):\n",
    "    c_mean.append(([c[i]]+c[i+1])/2)"
   ]
  },
  {
   "cell_type": "code",
   "execution_count": null,
   "id": "a9d007ee",
   "metadata": {},
   "outputs": [],
   "source": [
    "plt.scatter(x,c)\n",
    "plt.scatter(x[:-1]+0.25/2,c_mean)\n",
    "plt.title('Concentración de CO2 cada 6h')\n",
    "plt.xlabel('Tiempo [días]')\n",
    "plt.ylabel('Concentración [ppm]')\n",
    "plt.grid(True)\n",
    "plt.show()"
   ]
  },
  {
   "cell_type": "code",
   "execution_count": null,
   "id": "bd999138",
   "metadata": {},
   "outputs": [],
   "source": []
  },
  {
   "cell_type": "code",
   "execution_count": null,
   "id": "c21a12fa",
   "metadata": {},
   "outputs": [],
   "source": [
    "#Con ese promedio, estimo que ese fue el valor en la ventana de 6h\n",
    "g=1.2*np.array(c_mean)*44*6*60/(22414*0.001*10**6)"
   ]
  },
  {
   "cell_type": "code",
   "execution_count": null,
   "id": "8fc9003c",
   "metadata": {},
   "outputs": [],
   "source": [
    "plt.scatter(x[:-1]+0.25/2,g)\n",
    "plt.title('Masa de CO2 emitido cada 6h')\n",
    "plt.xlabel('Tiempo [días]')\n",
    "plt.ylabel('Masa [g]')\n",
    "plt.grid(True)\n",
    "plt.show()"
   ]
  },
  {
   "cell_type": "code",
   "execution_count": null,
   "id": "c5c43af1",
   "metadata": {},
   "outputs": [],
   "source": [
    "plt.scatter(x[:-1]+0.25/2,np.add.accumulate(g))\n",
    "plt.title('Evolución de CO2 acumulativo')\n",
    "plt.xlabel('Tiempo [días]')\n",
    "plt.ylabel('Masa [g]')\n",
    "plt.grid(True)\n",
    "plt.show()"
   ]
  },
  {
   "cell_type": "code",
   "execution_count": null,
   "id": "29959295",
   "metadata": {},
   "outputs": [],
   "source": []
  },
  {
   "cell_type": "code",
   "execution_count": null,
   "id": "3a89be14",
   "metadata": {},
   "outputs": [],
   "source": []
  },
  {
   "cell_type": "code",
   "execution_count": null,
   "id": "b1b3d1aa",
   "metadata": {},
   "outputs": [],
   "source": []
  },
  {
   "cell_type": "code",
   "execution_count": null,
   "id": "f93a0031",
   "metadata": {},
   "outputs": [],
   "source": []
  },
  {
   "cell_type": "code",
   "execution_count": null,
   "id": "c0d9137c",
   "metadata": {},
   "outputs": [],
   "source": [
    "#Calculo las concentraciones promedio\n",
    "c_1=area1/(25*60)\n",
    "c_2=area2/(25*60)\n",
    "c_3=area3/(25*60)\n",
    "c_4=area4/(25*60)"
   ]
  },
  {
   "cell_type": "code",
   "execution_count": null,
   "id": "925f814c",
   "metadata": {},
   "outputs": [],
   "source": [
    "plt.title('Concentración promedio')\n",
    "plt.plot(x,c_1,'.')\n",
    "plt.plot(x,c_2,'.')\n",
    "plt.plot(x,c_3,'.')\n",
    "plt.plot(x,c_4,'.')\n",
    "plt.grid(True)\n",
    "plt.show()"
   ]
  },
  {
   "cell_type": "markdown",
   "id": "eae63c84",
   "metadata": {},
   "source": [
    "Según la tesis, toma el valor medio entre un punto y el otro; y ese es el valor para todo ese intervalo de tiempo\n",
    "A= (C[n] + C[n+1] ) * (t[n] - t[n-1]) /2"
   ]
  },
  {
   "cell_type": "code",
   "execution_count": null,
   "id": "c118bc62",
   "metadata": {},
   "outputs": [],
   "source": [
    "CT_1=[] #en minutos\n",
    "CT_2=[]\n",
    "CT_3=[]\n",
    "CT_4=[]\n",
    "\n",
    "for i in range(len(c_1)-1):\n",
    "    CT_1.append((c_1[i]+c_1[i+1])*6*60/2)\n",
    "    CT_2.append((c_2[i]+c_2[i+1])*6*60/2)\n",
    "    CT_3.append((c_3[i]+c_3[i+1])*6*60/2)\n",
    "    CT_4.append((c_4[i]+c_4[i+1])*6*60/2)"
   ]
  },
  {
   "cell_type": "code",
   "execution_count": null,
   "id": "e1ed9b7f",
   "metadata": {},
   "outputs": [],
   "source": [
    "gramos1=np.array(gramos(np.array(CT_1)))\n",
    "gramos2=np.array(gramos(np.array(CT_2)))\n",
    "gramos3=np.array(gramos(np.array(CT_3)))\n",
    "gramos4=np.array(gramos(np.array(CT_4)))"
   ]
  },
  {
   "cell_type": "code",
   "execution_count": null,
   "id": "88e6c5de",
   "metadata": {},
   "outputs": [],
   "source": [
    "gramos1_ac=[gramos1[0]]\n",
    "gramos2_ac=[gramos2[0]]\n",
    "gramos3_ac=[gramos3[0]]\n",
    "gramos4_ac=[gramos4[0]]\n",
    "\n",
    "\n",
    "for i in range(len(gramos1)-1):\n",
    "    gramos1_ac.append(gramos1_ac[i]+gramos1[i+1])\n",
    "    gramos2_ac.append(gramos2_ac[i]+gramos2[i+1])\n",
    "    gramos3_ac.append(gramos3_ac[i]+gramos3[i+1])\n",
    "    gramos4_ac.append(gramos4_ac[i]+gramos4[i+1])"
   ]
  },
  {
   "cell_type": "code",
   "execution_count": null,
   "id": "7de05504",
   "metadata": {},
   "outputs": [],
   "source": [
    "plt.title('Concentración promedio')\n",
    "plt.plot(x[:-1]+0.25/2,gramos1_ac,'.')\n",
    "plt.plot(x[:-1]+0.25/2,gramos2_ac,'.')\n",
    "plt.plot(x[:-1]+0.25/2,gramos3_ac,'.')\n",
    "plt.plot(x[:-1]+0.25/2,gramos4_ac,'.')\n",
    "plt.grid(True)\n",
    "plt.show()"
   ]
  },
  {
   "cell_type": "code",
   "execution_count": null,
   "id": "e63905fc",
   "metadata": {},
   "outputs": [],
   "source": []
  }
 ],
 "metadata": {
  "kernelspec": {
   "display_name": "Python 3",
   "language": "python",
   "name": "python3"
  },
  "language_info": {
   "codemirror_mode": {
    "name": "ipython",
    "version": 3
   },
   "file_extension": ".py",
   "mimetype": "text/x-python",
   "name": "python",
   "nbconvert_exporter": "python",
   "pygments_lexer": "ipython3",
   "version": "3.8.5"
  }
 },
 "nbformat": 4,
 "nbformat_minor": 5
}
