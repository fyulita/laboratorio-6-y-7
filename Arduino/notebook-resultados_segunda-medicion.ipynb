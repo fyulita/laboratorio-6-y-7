{
 "cells": [
  {
   "cell_type": "code",
   "execution_count": 1,
   "id": "a4eb136b",
   "metadata": {},
   "outputs": [],
   "source": [
    "import numpy as np\n",
    "import pandas as pd\n",
    "import matplotlib.pyplot as plt"
   ]
  },
  {
   "cell_type": "code",
   "execution_count": 2,
   "id": "c851e184",
   "metadata": {},
   "outputs": [],
   "source": [
    "PATH = \"./measurements/full-x4\""
   ]
  },
  {
   "cell_type": "code",
   "execution_count": 3,
   "id": "08620389",
   "metadata": {},
   "outputs": [],
   "source": [
    "fechas=['2021-11-19_17-55-37','2021-11-27_16-16-53','2021-11-27_18-22-19']\n",
    "data=[]\n",
    "\n",
    "for i in fechas:\n",
    "    data.append(pd.read_csv(f\"{PATH}/{i}/figuras/area_{i}.csv\"))"
   ]
  },
  {
   "cell_type": "code",
   "execution_count": 4,
   "id": "d792eb95",
   "metadata": {},
   "outputs": [],
   "source": [
    "data=pd.concat(data)"
   ]
  },
  {
   "cell_type": "code",
   "execution_count": 5,
   "id": "ef19117c",
   "metadata": {},
   "outputs": [
    {
     "data": {
      "text/html": [
       "<div>\n",
       "<style scoped>\n",
       "    .dataframe tbody tr th:only-of-type {\n",
       "        vertical-align: middle;\n",
       "    }\n",
       "\n",
       "    .dataframe tbody tr th {\n",
       "        vertical-align: top;\n",
       "    }\n",
       "\n",
       "    .dataframe thead th {\n",
       "        text-align: right;\n",
       "    }\n",
       "</style>\n",
       "<table border=\"1\" class=\"dataframe\">\n",
       "  <thead>\n",
       "    <tr style=\"text-align: right;\">\n",
       "      <th></th>\n",
       "      <th># nro</th>\n",
       "      <th>Area1</th>\n",
       "      <th>Area2</th>\n",
       "      <th>Area3</th>\n",
       "      <th>Area4</th>\n",
       "    </tr>\n",
       "  </thead>\n",
       "  <tbody>\n",
       "    <tr>\n",
       "      <th>0</th>\n",
       "      <td>1.0</td>\n",
       "      <td>861577.5</td>\n",
       "      <td>680407.0</td>\n",
       "      <td>999943.0</td>\n",
       "      <td>373595.5</td>\n",
       "    </tr>\n",
       "    <tr>\n",
       "      <th>1</th>\n",
       "      <td>2.0</td>\n",
       "      <td>777764.5</td>\n",
       "      <td>680266.5</td>\n",
       "      <td>1013391.5</td>\n",
       "      <td>417690.5</td>\n",
       "    </tr>\n",
       "    <tr>\n",
       "      <th>2</th>\n",
       "      <td>3.0</td>\n",
       "      <td>661939.0</td>\n",
       "      <td>633581.0</td>\n",
       "      <td>1001593.5</td>\n",
       "      <td>437191.5</td>\n",
       "    </tr>\n",
       "    <tr>\n",
       "      <th>3</th>\n",
       "      <td>4.0</td>\n",
       "      <td>494296.5</td>\n",
       "      <td>354747.5</td>\n",
       "      <td>593983.0</td>\n",
       "      <td>690197.0</td>\n",
       "    </tr>\n",
       "    <tr>\n",
       "      <th>4</th>\n",
       "      <td>5.0</td>\n",
       "      <td>1007897.0</td>\n",
       "      <td>743866.5</td>\n",
       "      <td>1160173.0</td>\n",
       "      <td>766309.0</td>\n",
       "    </tr>\n",
       "    <tr>\n",
       "      <th>5</th>\n",
       "      <td>6.0</td>\n",
       "      <td>1090384.5</td>\n",
       "      <td>575843.0</td>\n",
       "      <td>1297863.0</td>\n",
       "      <td>734609.0</td>\n",
       "    </tr>\n",
       "    <tr>\n",
       "      <th>6</th>\n",
       "      <td>7.0</td>\n",
       "      <td>1034822.5</td>\n",
       "      <td>574966.0</td>\n",
       "      <td>1721639.0</td>\n",
       "      <td>730399.0</td>\n",
       "    </tr>\n",
       "    <tr>\n",
       "      <th>7</th>\n",
       "      <td>8.0</td>\n",
       "      <td>983064.0</td>\n",
       "      <td>542898.5</td>\n",
       "      <td>2161321.0</td>\n",
       "      <td>703354.5</td>\n",
       "    </tr>\n",
       "    <tr>\n",
       "      <th>8</th>\n",
       "      <td>9.0</td>\n",
       "      <td>933170.5</td>\n",
       "      <td>481938.5</td>\n",
       "      <td>2209964.0</td>\n",
       "      <td>678543.5</td>\n",
       "    </tr>\n",
       "    <tr>\n",
       "      <th>9</th>\n",
       "      <td>10.0</td>\n",
       "      <td>854629.0</td>\n",
       "      <td>480621.5</td>\n",
       "      <td>1924268.0</td>\n",
       "      <td>693415.0</td>\n",
       "    </tr>\n",
       "    <tr>\n",
       "      <th>10</th>\n",
       "      <td>11.0</td>\n",
       "      <td>785312.0</td>\n",
       "      <td>460160.0</td>\n",
       "      <td>1586859.0</td>\n",
       "      <td>681727.5</td>\n",
       "    </tr>\n",
       "    <tr>\n",
       "      <th>11</th>\n",
       "      <td>12.0</td>\n",
       "      <td>1071947.5</td>\n",
       "      <td>761931.5</td>\n",
       "      <td>1931548.0</td>\n",
       "      <td>1117951.0</td>\n",
       "    </tr>\n",
       "    <tr>\n",
       "      <th>12</th>\n",
       "      <td>13.0</td>\n",
       "      <td>1554731.0</td>\n",
       "      <td>819412.0</td>\n",
       "      <td>2408561.0</td>\n",
       "      <td>913280.0</td>\n",
       "    </tr>\n",
       "    <tr>\n",
       "      <th>13</th>\n",
       "      <td>14.0</td>\n",
       "      <td>1216367.5</td>\n",
       "      <td>774628.5</td>\n",
       "      <td>1529538.0</td>\n",
       "      <td>869515.0</td>\n",
       "    </tr>\n",
       "    <tr>\n",
       "      <th>14</th>\n",
       "      <td>15.0</td>\n",
       "      <td>1044044.0</td>\n",
       "      <td>720184.0</td>\n",
       "      <td>1224833.5</td>\n",
       "      <td>887967.5</td>\n",
       "    </tr>\n",
       "    <tr>\n",
       "      <th>15</th>\n",
       "      <td>16.0</td>\n",
       "      <td>2352027.0</td>\n",
       "      <td>972553.5</td>\n",
       "      <td>2170592.0</td>\n",
       "      <td>844872.0</td>\n",
       "    </tr>\n",
       "    <tr>\n",
       "      <th>16</th>\n",
       "      <td>17.0</td>\n",
       "      <td>1931397.0</td>\n",
       "      <td>608293.0</td>\n",
       "      <td>1550203.0</td>\n",
       "      <td>690711.5</td>\n",
       "    </tr>\n",
       "    <tr>\n",
       "      <th>17</th>\n",
       "      <td>18.0</td>\n",
       "      <td>1302351.5</td>\n",
       "      <td>557193.0</td>\n",
       "      <td>1114940.0</td>\n",
       "      <td>608542.0</td>\n",
       "    </tr>\n",
       "    <tr>\n",
       "      <th>18</th>\n",
       "      <td>19.0</td>\n",
       "      <td>1025788.5</td>\n",
       "      <td>548870.5</td>\n",
       "      <td>967518.0</td>\n",
       "      <td>639765.0</td>\n",
       "    </tr>\n",
       "    <tr>\n",
       "      <th>19</th>\n",
       "      <td>20.0</td>\n",
       "      <td>1186077.0</td>\n",
       "      <td>571497.0</td>\n",
       "      <td>849569.5</td>\n",
       "      <td>624061.0</td>\n",
       "    </tr>\n",
       "    <tr>\n",
       "      <th>20</th>\n",
       "      <td>21.0</td>\n",
       "      <td>836218.5</td>\n",
       "      <td>484087.0</td>\n",
       "      <td>809817.5</td>\n",
       "      <td>523515.0</td>\n",
       "    </tr>\n",
       "    <tr>\n",
       "      <th>21</th>\n",
       "      <td>22.0</td>\n",
       "      <td>679337.5</td>\n",
       "      <td>460230.5</td>\n",
       "      <td>823365.0</td>\n",
       "      <td>567305.0</td>\n",
       "    </tr>\n",
       "    <tr>\n",
       "      <th>22</th>\n",
       "      <td>23.0</td>\n",
       "      <td>626335.5</td>\n",
       "      <td>495730.0</td>\n",
       "      <td>783290.5</td>\n",
       "      <td>592876.5</td>\n",
       "    </tr>\n",
       "    <tr>\n",
       "      <th>23</th>\n",
       "      <td>24.0</td>\n",
       "      <td>1246787.0</td>\n",
       "      <td>886193.0</td>\n",
       "      <td>2273288.5</td>\n",
       "      <td>1173736.5</td>\n",
       "    </tr>\n",
       "    <tr>\n",
       "      <th>24</th>\n",
       "      <td>25.0</td>\n",
       "      <td>3043327.5</td>\n",
       "      <td>737100.5</td>\n",
       "      <td>2219639.5</td>\n",
       "      <td>961902.0</td>\n",
       "    </tr>\n",
       "    <tr>\n",
       "      <th>25</th>\n",
       "      <td>26.0</td>\n",
       "      <td>2556294.5</td>\n",
       "      <td>735693.5</td>\n",
       "      <td>1784450.0</td>\n",
       "      <td>873778.5</td>\n",
       "    </tr>\n",
       "    <tr>\n",
       "      <th>26</th>\n",
       "      <td>27.0</td>\n",
       "      <td>1669271.5</td>\n",
       "      <td>674479.5</td>\n",
       "      <td>1219757.0</td>\n",
       "      <td>825214.5</td>\n",
       "    </tr>\n",
       "    <tr>\n",
       "      <th>27</th>\n",
       "      <td>28.0</td>\n",
       "      <td>1172498.5</td>\n",
       "      <td>601580.5</td>\n",
       "      <td>1209676.0</td>\n",
       "      <td>484379.0</td>\n",
       "    </tr>\n",
       "    <tr>\n",
       "      <th>28</th>\n",
       "      <td>29.0</td>\n",
       "      <td>772999.0</td>\n",
       "      <td>442393.5</td>\n",
       "      <td>578027.5</td>\n",
       "      <td>553166.5</td>\n",
       "    </tr>\n",
       "    <tr>\n",
       "      <th>29</th>\n",
       "      <td>30.0</td>\n",
       "      <td>647505.0</td>\n",
       "      <td>447055.0</td>\n",
       "      <td>506384.0</td>\n",
       "      <td>558712.5</td>\n",
       "    </tr>\n",
       "    <tr>\n",
       "      <th>30</th>\n",
       "      <td>31.0</td>\n",
       "      <td>599845.5</td>\n",
       "      <td>429330.5</td>\n",
       "      <td>459356.5</td>\n",
       "      <td>570964.5</td>\n",
       "    </tr>\n",
       "    <tr>\n",
       "      <th>0</th>\n",
       "      <td>1.0</td>\n",
       "      <td>1174139.5</td>\n",
       "      <td>857802.0</td>\n",
       "      <td>2557359.5</td>\n",
       "      <td>581823.5</td>\n",
       "    </tr>\n",
       "    <tr>\n",
       "      <th>0</th>\n",
       "      <td>1.0</td>\n",
       "      <td>1874370.0</td>\n",
       "      <td>715674.5</td>\n",
       "      <td>1596390.5</td>\n",
       "      <td>585570.0</td>\n",
       "    </tr>\n",
       "    <tr>\n",
       "      <th>1</th>\n",
       "      <td>2.0</td>\n",
       "      <td>1255871.5</td>\n",
       "      <td>619751.0</td>\n",
       "      <td>1067530.0</td>\n",
       "      <td>582689.5</td>\n",
       "    </tr>\n",
       "    <tr>\n",
       "      <th>2</th>\n",
       "      <td>3.0</td>\n",
       "      <td>900422.5</td>\n",
       "      <td>585897.0</td>\n",
       "      <td>816062.0</td>\n",
       "      <td>578322.5</td>\n",
       "    </tr>\n",
       "    <tr>\n",
       "      <th>3</th>\n",
       "      <td>4.0</td>\n",
       "      <td>690169.0</td>\n",
       "      <td>550410.0</td>\n",
       "      <td>637913.0</td>\n",
       "      <td>571930.5</td>\n",
       "    </tr>\n",
       "    <tr>\n",
       "      <th>4</th>\n",
       "      <td>5.0</td>\n",
       "      <td>692156.5</td>\n",
       "      <td>566651.5</td>\n",
       "      <td>613661.5</td>\n",
       "      <td>592901.5</td>\n",
       "    </tr>\n",
       "    <tr>\n",
       "      <th>5</th>\n",
       "      <td>6.0</td>\n",
       "      <td>669058.5</td>\n",
       "      <td>554544.0</td>\n",
       "      <td>587296.0</td>\n",
       "      <td>597218.5</td>\n",
       "    </tr>\n",
       "    <tr>\n",
       "      <th>6</th>\n",
       "      <td>7.0</td>\n",
       "      <td>692098.5</td>\n",
       "      <td>586603.5</td>\n",
       "      <td>597424.0</td>\n",
       "      <td>643358.0</td>\n",
       "    </tr>\n",
       "    <tr>\n",
       "      <th>7</th>\n",
       "      <td>8.0</td>\n",
       "      <td>1025229.0</td>\n",
       "      <td>848097.5</td>\n",
       "      <td>1833670.5</td>\n",
       "      <td>0.0</td>\n",
       "    </tr>\n",
       "    <tr>\n",
       "      <th>8</th>\n",
       "      <td>9.0</td>\n",
       "      <td>702128.5</td>\n",
       "      <td>612263.0</td>\n",
       "      <td>892867.0</td>\n",
       "      <td>0.0</td>\n",
       "    </tr>\n",
       "    <tr>\n",
       "      <th>9</th>\n",
       "      <td>10.0</td>\n",
       "      <td>628573.5</td>\n",
       "      <td>581724.0</td>\n",
       "      <td>723867.0</td>\n",
       "      <td>0.0</td>\n",
       "    </tr>\n",
       "  </tbody>\n",
       "</table>\n",
       "</div>"
      ],
      "text/plain": [
       "    # nro      Area1     Area2      Area3      Area4\n",
       "0     1.0   861577.5  680407.0   999943.0   373595.5\n",
       "1     2.0   777764.5  680266.5  1013391.5   417690.5\n",
       "2     3.0   661939.0  633581.0  1001593.5   437191.5\n",
       "3     4.0   494296.5  354747.5   593983.0   690197.0\n",
       "4     5.0  1007897.0  743866.5  1160173.0   766309.0\n",
       "5     6.0  1090384.5  575843.0  1297863.0   734609.0\n",
       "6     7.0  1034822.5  574966.0  1721639.0   730399.0\n",
       "7     8.0   983064.0  542898.5  2161321.0   703354.5\n",
       "8     9.0   933170.5  481938.5  2209964.0   678543.5\n",
       "9    10.0   854629.0  480621.5  1924268.0   693415.0\n",
       "10   11.0   785312.0  460160.0  1586859.0   681727.5\n",
       "11   12.0  1071947.5  761931.5  1931548.0  1117951.0\n",
       "12   13.0  1554731.0  819412.0  2408561.0   913280.0\n",
       "13   14.0  1216367.5  774628.5  1529538.0   869515.0\n",
       "14   15.0  1044044.0  720184.0  1224833.5   887967.5\n",
       "15   16.0  2352027.0  972553.5  2170592.0   844872.0\n",
       "16   17.0  1931397.0  608293.0  1550203.0   690711.5\n",
       "17   18.0  1302351.5  557193.0  1114940.0   608542.0\n",
       "18   19.0  1025788.5  548870.5   967518.0   639765.0\n",
       "19   20.0  1186077.0  571497.0   849569.5   624061.0\n",
       "20   21.0   836218.5  484087.0   809817.5   523515.0\n",
       "21   22.0   679337.5  460230.5   823365.0   567305.0\n",
       "22   23.0   626335.5  495730.0   783290.5   592876.5\n",
       "23   24.0  1246787.0  886193.0  2273288.5  1173736.5\n",
       "24   25.0  3043327.5  737100.5  2219639.5   961902.0\n",
       "25   26.0  2556294.5  735693.5  1784450.0   873778.5\n",
       "26   27.0  1669271.5  674479.5  1219757.0   825214.5\n",
       "27   28.0  1172498.5  601580.5  1209676.0   484379.0\n",
       "28   29.0   772999.0  442393.5   578027.5   553166.5\n",
       "29   30.0   647505.0  447055.0   506384.0   558712.5\n",
       "30   31.0   599845.5  429330.5   459356.5   570964.5\n",
       "0     1.0  1174139.5  857802.0  2557359.5   581823.5\n",
       "0     1.0  1874370.0  715674.5  1596390.5   585570.0\n",
       "1     2.0  1255871.5  619751.0  1067530.0   582689.5\n",
       "2     3.0   900422.5  585897.0   816062.0   578322.5\n",
       "3     4.0   690169.0  550410.0   637913.0   571930.5\n",
       "4     5.0   692156.5  566651.5   613661.5   592901.5\n",
       "5     6.0   669058.5  554544.0   587296.0   597218.5\n",
       "6     7.0   692098.5  586603.5   597424.0   643358.0\n",
       "7     8.0  1025229.0  848097.5  1833670.5        0.0\n",
       "8     9.0   702128.5  612263.0   892867.0        0.0\n",
       "9    10.0   628573.5  581724.0   723867.0        0.0"
      ]
     },
     "execution_count": 5,
     "metadata": {},
     "output_type": "execute_result"
    }
   ],
   "source": [
    "data"
   ]
  },
  {
   "cell_type": "code",
   "execution_count": 6,
   "id": "fe154f6a",
   "metadata": {},
   "outputs": [],
   "source": [
    "dt=1/4\n",
    "x=np.arange(0,len(data[\"# nro\"])/4,dt) "
   ]
  },
  {
   "cell_type": "code",
   "execution_count": 101,
   "id": "f47fc093",
   "metadata": {},
   "outputs": [],
   "source": [
    "#AREAS\n",
    "#area1=[]\n",
    "#area2=[]\n",
    "#area3=[]\n",
    "#area4=[]\n",
    "\n",
    "#for i in range(len(fechas)):\n",
    "#    area1.append(np.array(data['Area1']))\n",
    "#    area2.append(np.array(data['Area2']))\n",
    "#    area3.append(np.array(data['Area3']))\n",
    "#    area4.append(np.array(data['Area4']))\n",
    "\n",
    "#area1=np.concatenate(area1)\n",
    "#area2=np.concatenate(area2)\n",
    "#area3=np.concatenate(area3)\n",
    "#area4=np.concatenate(area4)\n",
    "\n",
    "\n",
    "#LA CONCENTRACION EN 25MIN:\n",
    "\n",
    "area1=np.array([data['Area1']])/60\n",
    "area2=np.array([data['Area2']])/60\n",
    "area3=np.array([data['Area3']])/60\n",
    "area4=np.array([data['Area4']])/60\n",
    "\n",
    "c1=np.array([data['Area1']])/(25*60)\n",
    "c2=np.array([data['Area2']])/(25*60)\n",
    "c3=np.array([data['Area3']])/(25*60)\n",
    "c4=np.array([data['Area4']])/(25*60)"
   ]
  },
  {
   "cell_type": "markdown",
   "id": "ff00e685",
   "metadata": {},
   "source": [
    "La fórmula es \n",
    "g= $\\frac{F CT 44 g/mol}{22414 . 10^6 0.001L/mol}$\n",
    "\n",
    "Con F el flujo (1.5L/min), CT el área bajo la curva en MINUTOS, como lo tenemos en segundos:\n",
    "\n",
    "g= $\\frac{F* CT/60 * 44 g/mol}{22414 . 10^6 0.001L/mol}$"
   ]
  },
  {
   "cell_type": "code",
   "execution_count": 8,
   "id": "962006f3",
   "metadata": {},
   "outputs": [],
   "source": [
    "F = 1.5\n",
    "den = 22414 * 0.001 * 10 ** 6\n",
    "\n",
    "def gramos(x): #meter el área\n",
    "    return F *x* 44 / (den)\n",
    "\n",
    "#Se le introduce el área medida en los 25 minutos. UNIDAD EN MINUTOS.\n",
    "#Se proyecta que eso emite durante 6h; entonces se multiplica por 14.4, así, 25*14.4=360 min\n",
    "#Se divide 60 para pasar esos 360 minutos a horas"
   ]
  },
  {
   "cell_type": "code",
   "execution_count": 103,
   "id": "3d226cd7",
   "metadata": {},
   "outputs": [
    {
     "data": {
      "text/plain": [
       "array([[0.60887783, 0.54964708, 0.46779307, 0.34931991, 0.71228199,\n",
       "        0.770576  , 0.73131027, 0.69473248, 0.65947268, 0.60396731,\n",
       "        0.55498091, 0.75754655, 1.09873022, 0.85960833, 0.73782712,\n",
       "        1.66218023, 1.36492052, 0.92037333, 0.72492593, 0.838202  ,\n",
       "        0.59095659, 0.48008861, 0.44263203, 0.88110583, 2.1507231 ,\n",
       "        1.80653631, 1.17967612, 0.82860606, 0.5462793 , 0.45759254,\n",
       "        0.42391152, 0.82976576, 1.32461947, 0.88752586, 0.63632963,\n",
       "        0.48774324, 0.48914781, 0.47282442, 0.48910682, 0.72453053,\n",
       "        0.49619503, 0.44421363]])"
      ]
     },
     "execution_count": 103,
     "metadata": {},
     "output_type": "execute_result"
    }
   ],
   "source": [
    "gramos(c1*6*60)"
   ]
  },
  {
   "cell_type": "code",
   "execution_count": 104,
   "id": "dd6183d4",
   "metadata": {},
   "outputs": [],
   "source": [
    "gramos1=np.array(gramos(c1*6*60))#area1))#*14.4\n",
    "gramos2=np.array(gramos(c2*6*60))#area2))#*14.4\n",
    "gramos3=np.array(gramos(c3*6*60))#area3))#*14.4\n",
    "gramos4=np.array(gramos(c4*6*60))#area4))#*14.4"
   ]
  },
  {
   "cell_type": "code",
   "execution_count": 105,
   "id": "a36b3f9c",
   "metadata": {},
   "outputs": [],
   "source": [
    "#Gramos acumulados, suponiendo que ese valor se produjo durante 6h\n",
    "gramos1_ac=np.add.accumulate(gramos1[0])\n",
    "gramos2_ac=np.add.accumulate(gramos2[0])\n",
    "gramos3_ac=np.add.accumulate(gramos3[0])\n",
    "gramos4_ac=np.add.accumulate(gramos4[0])"
   ]
  },
  {
   "cell_type": "markdown",
   "id": "8f099763",
   "metadata": {},
   "source": [
    "Vemos los errores:\n",
    "$g= \\frac{F CT *44}{22414 * 0.001 * 10^6}$\n",
    "\n",
    "$\\sigma_g ^2 = ( \\frac{CT *44}{22414 * 0.001 * 10^6}\\sigma_F )^2 + ( \\frac{F *44}{22414 * 0.001 * 10^6}\\sigma_{CT})^2$"
   ]
  },
  {
   "cell_type": "code",
   "execution_count": 106,
   "id": "63080553",
   "metadata": {},
   "outputs": [],
   "source": [
    "def error(x):\n",
    "    sigma_F=0.1\n",
    "    sigma_A=50 + x*0.05\n",
    "    A=sigma_F*x*(14.4/60)*44/(den*60)\n",
    "    B=sigma_A*F*(14.4/60)*44/(den*60)\n",
    "    return (A**2 + B**2)**0.5"
   ]
  },
  {
   "cell_type": "code",
   "execution_count": 107,
   "id": "c3e91a10",
   "metadata": {},
   "outputs": [
    {
     "data": {
      "text/plain": [
       "array([[1.44554244e-05, 1.30851471e-05, 1.11918147e-05, 8.45260005e-06,\n",
       "        1.68479482e-05, 1.81968581e-05, 1.72882499e-05, 1.64418724e-05,\n",
       "        1.56260261e-05, 1.43418160e-05, 1.32085360e-05, 1.78953533e-05,\n",
       "        2.57912239e-05, 2.02571711e-05, 1.74390472e-05, 3.88326029e-05,\n",
       "        3.19522066e-05, 2.16634124e-05, 1.71405196e-05, 1.97617916e-05,\n",
       "        1.40408079e-05, 1.14761876e-05, 1.06099279e-05, 2.07546670e-05,\n",
       "        5.01408211e-05, 4.21739524e-05, 2.76646802e-05, 1.95397272e-05,\n",
       "        1.30072399e-05, 1.09559052e-05, 1.01770283e-05, 1.95665642e-05,\n",
       "        3.10194164e-05, 2.09032407e-05, 1.50905595e-05, 1.16532311e-05,\n",
       "        1.16857177e-05, 1.13081791e-05, 1.16847697e-05, 1.71313703e-05,\n",
       "        1.18487171e-05, 1.06465030e-05]])"
      ]
     },
     "execution_count": 107,
     "metadata": {},
     "output_type": "execute_result"
    }
   ],
   "source": [
    "error(area1)"
   ]
  },
  {
   "cell_type": "code",
   "execution_count": 109,
   "id": "aa6fb956",
   "metadata": {},
   "outputs": [
    {
     "data": {
      "image/png": "[encoded data removed]",
      "text/plain": [
       "<Figure size 432x288 with 1 Axes>"
      ]
     },
     "metadata": {
      "needs_background": "light"
     },
     "output_type": "display_data"
    }
   ],
   "source": [
    "plt.plot(x,gramos1_ac,'.',label='Almidon')\n",
    "plt.plot(x,gramos3_ac,'.',label='A + NP TiO2')\n",
    "plt.plot(x,gramos4_ac,'.',label='Blanco')\n",
    "plt.plot(x,gramos2_ac,'.',label='Celulosa')\n",
    "plt.legend()\n",
    "plt.title('CO2 acumulado - sensor')\n",
    "plt.xlabel('Tiempo [Días]')\n",
    "plt.ylabel('Masa [g]')\n",
    "plt.grid(True)\n",
    "plt.savefig(\"co2_acumulado-sensor_segunda-medicion.png\")\n",
    "plt.show()"
   ]
  },
  {
   "cell_type": "code",
   "execution_count": null,
   "id": "fbbda23a",
   "metadata": {},
   "outputs": [],
   "source": []
  },
  {
   "cell_type": "code",
   "execution_count": null,
   "id": "2d7ab429",
   "metadata": {},
   "outputs": [],
   "source": []
  },
  {
   "cell_type": "markdown",
   "id": "e9895af8",
   "metadata": {},
   "source": [
    "# Segundo intento\n",
    "\n",
    "### Como lo hace Castro-Aguirre"
   ]
  },
  {
   "cell_type": "code",
   "execution_count": 15,
   "id": "1c6e75eb",
   "metadata": {},
   "outputs": [],
   "source": [
    "# Voy a hacer uno a la vez"
   ]
  },
  {
   "cell_type": "code",
   "execution_count": 84,
   "id": "d05e985f",
   "metadata": {},
   "outputs": [],
   "source": [
    "c=area1/25 #concentración en un momento dado"
   ]
  },
  {
   "cell_type": "code",
   "execution_count": 85,
   "id": "b05b622c",
   "metadata": {},
   "outputs": [
    {
     "data": {
      "image/png": "[encoded data removed]",
      "text/plain": [
       "<Figure size 432x288 with 1 Axes>"
      ]
     },
     "metadata": {
      "needs_background": "light"
     },
     "output_type": "display_data"
    }
   ],
   "source": [
    "plt.scatter(x,c)\n",
    "plt.title('Concentración de CO2 cada 6h del TPS')\n",
    "plt.xlabel('Tiempo [días]')\n",
    "plt.ylabel('Concentración [ppm]')\n",
    "plt.grid(True)\n",
    "plt.show()"
   ]
  },
  {
   "cell_type": "code",
   "execution_count": 97,
   "id": "d24b0c95",
   "metadata": {},
   "outputs": [],
   "source": [
    "#Tomo el valor medio entre un punto y el otro, para calcular la concentración promedio en cada intervalo\n",
    "\n",
    "C=[]\n",
    "for i in range(len(c[0])-1):\n",
    "    C.append(([c[0][i]]+c[0][i+1])/2)"
   ]
  },
  {
   "cell_type": "code",
   "execution_count": 87,
   "id": "a9d007ee",
   "metadata": {},
   "outputs": [
    {
     "data": {
      "image/png": "[encoded data removed]",
      "text/plain": [
       "<Figure size 432x288 with 1 Axes>"
      ]
     },
     "metadata": {
      "needs_background": "light"
     },
     "output_type": "display_data"
    }
   ],
   "source": [
    "plt.scatter(x[:-1]+0.25/2,C)\n",
    "plt.title('Gramos de CO2 cada 6h')\n",
    "plt.xlabel('Tiempo [días]')\n",
    "plt.ylabel('Concentración [ppm]')\n",
    "plt.grid(True)\n",
    "plt.show()"
   ]
  },
  {
   "cell_type": "code",
   "execution_count": 98,
   "id": "c21a12fa",
   "metadata": {},
   "outputs": [],
   "source": [
    "#Con ese promedio, estimo que ese fue el valor en la ventana de 6h, y la pongo en minutos\n",
    "#porque la fórmula tiene que estar en minutos para cancelarse con el flujo de 1.5L/min\n",
    "g=1.5*np.array(C)*6*60*44/(22414*0.001*10**6)"
   ]
  },
  {
   "cell_type": "code",
   "execution_count": 100,
   "id": "c5c43af1",
   "metadata": {},
   "outputs": [
    {
     "data": {
      "image/png": "[encoded data removed]",
      "text/plain": [
       "<Figure size 432x288 with 1 Axes>"
      ]
     },
     "metadata": {
      "needs_background": "light"
     },
     "output_type": "display_data"
    }
   ],
   "source": [
    "plt.scatter(x[:-1]+0.25/2,np.add.accumulate(g))\n",
    "plt.title('Masa del CO2 - acumulativo')\n",
    "plt.xlabel('Tiempo [días]')\n",
    "plt.ylabel('Masa [g]')\n",
    "plt.grid(True)\n",
    "plt.show()"
   ]
  },
  {
   "cell_type": "code",
   "execution_count": null,
   "id": "29959295",
   "metadata": {},
   "outputs": [],
   "source": []
  },
  {
   "cell_type": "code",
   "execution_count": null,
   "id": "3a89be14",
   "metadata": {},
   "outputs": [],
   "source": []
  },
  {
   "cell_type": "code",
   "execution_count": null,
   "id": "b1b3d1aa",
   "metadata": {},
   "outputs": [],
   "source": []
  },
  {
   "cell_type": "code",
   "execution_count": null,
   "id": "56f2eb59",
   "metadata": {},
   "outputs": [],
   "source": []
  }
 ],
 "metadata": {
  "kernelspec": {
   "display_name": "Python 3",
   "language": "python",
   "name": "python3"
  },
  "language_info": {
   "codemirror_mode": {
    "name": "ipython",
    "version": 3
   },
   "file_extension": ".py",
   "mimetype": "text/x-python",
   "name": "python",
   "nbconvert_exporter": "python",
   "pygments_lexer": "ipython3",
   "version": "3.8.5"
  }
 },
 "nbformat": 4,
 "nbformat_minor": 5
}
