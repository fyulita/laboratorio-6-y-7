{
 "cells": [
  {
   "cell_type": "code",
   "execution_count": 166,
   "id": "a4eb136b",
   "metadata": {},
   "outputs": [],
   "source": [
    "import numpy as np\n",
    "import pandas as pd\n",
    "import matplotlib.pyplot as plt"
   ]
  },
  {
   "cell_type": "code",
   "execution_count": 167,
   "id": "c851e184",
   "metadata": {},
   "outputs": [],
   "source": [
    "PATH = \"./measurements/full-x4\""
   ]
  },
  {
   "cell_type": "code",
   "execution_count": 168,
   "id": "08620389",
   "metadata": {},
   "outputs": [],
   "source": [
    "fechas=['2021-11-03_17-49-11','2021-11-05_16-07-41','2021-11-05_18-09-50']\n",
    "data=[]\n",
    "\n",
    "for i in fechas:\n",
    "    data.append(pd.read_csv(f\"{PATH}/{i}/figuras/area_{i}.csv\"))"
   ]
  },
  {
   "cell_type": "code",
   "execution_count": 170,
   "id": "e9a036b6",
   "metadata": {},
   "outputs": [],
   "source": [
    "#OBSERVACIONES EN EL TIEMPO: x, por el eje\n",
    "#1/4 porque son 4 mediciones en un día, así queda en función de los días\n",
    "dt=1/4\n",
    "x_1= np.arange(0,len(data[0][\"# nro\"])/4,dt) #Primera medición desde el 03/11 hasta el 05/11; son 7 mediciones\n",
    "x_2= np.array([x_1[-1] + dt]) #medición del 05/11 a las 16hs, única medición\n",
    "x_3= x_2 + np.arange(dt,len(data[2][\"# nro\"])/4+dt,dt) #continuación de las mediciones, desde 05/11 a las 18hs hasta 08/11 mediodía, total 11 mediciones\n",
    "#x_4 NO CONTAR LA MEDICION DEL 08/11 AL MEDIODIA\n",
    "\n",
    "args=(x_1,x_2,x_3)\n",
    "x=np.concatenate(args)"
   ]
  },
  {
   "cell_type": "code",
   "execution_count": 171,
   "id": "f47fc093",
   "metadata": {},
   "outputs": [],
   "source": [
    "#AREAS\n",
    "area1=[]\n",
    "area2=[]\n",
    "area3=[]\n",
    "area4=[]\n",
    "\n",
    "for i in range(len(fechas)):\n",
    "    area1.append(np.array(data[i]['Area1']))\n",
    "    area2.append(np.array(data[i]['Area2']))\n",
    "    area3.append(np.array(data[i]['Area3']))\n",
    "    area4.append(np.array(data[i]['Area4']))\n",
    "\n",
    "area1=np.concatenate(area1)\n",
    "area2=np.concatenate(area2)\n",
    "area3=np.concatenate(area3)\n",
    "area4=np.concatenate(area4)"
   ]
  },
  {
   "cell_type": "markdown",
   "id": "ff00e685",
   "metadata": {},
   "source": [
    "La fórmula es \n",
    "g= $\\frac{F CT 44 g/mol}{22414 . 10^6 0.001L/mol}$\n",
    "\n",
    "Con F el flujo (1.5L/min), CT el área bajo la curva en MINUTOS, como lo tenemos en segundos:\n",
    "\n",
    "g= $\\frac{F* CT/60 * 44 g/mol}{22414 . 10^6 0.001L/mol}$"
   ]
  },
  {
   "cell_type": "code",
   "execution_count": 172,
   "id": "962006f3",
   "metadata": {},
   "outputs": [],
   "source": [
    "F = 1.5\n",
    "den = 22414 * 0.001 * 10 ** 6\n",
    "\n",
    "def gramos(x): #meter el área\n",
    "    return F * x * 44 / (den * 60)"
   ]
  },
  {
   "cell_type": "code",
   "execution_count": 173,
   "id": "dd6183d4",
   "metadata": {},
   "outputs": [],
   "source": [
    "gramos1=np.array(gramos(area1))\n",
    "gramos2=np.array(gramos(area2))\n",
    "gramos3=np.array(gramos(area3))\n",
    "gramos4=np.array(gramos(area4))\n"
   ]
  },
  {
   "cell_type": "code",
   "execution_count": 174,
   "id": "b73cce34",
   "metadata": {},
   "outputs": [],
   "source": [
    "#Los ordeno de manera acumulada\n",
    "gramos1_ac=[gramos1[0]]\n",
    "gramos2_ac=[gramos2[0]]\n",
    "gramos3_ac=[gramos3[0]]\n",
    "gramos4_ac=[gramos4[0]]\n",
    "\n",
    "\n",
    "for i in range(len(gramos1)-1):\n",
    "    gramos1_ac.append(gramos1_ac[i]+gramos1[i+1])\n",
    "    gramos2_ac.append(gramos2_ac[i]+gramos2[i+1])\n",
    "    gramos3_ac.append(gramos3_ac[i]+gramos3[i+1])\n",
    "    gramos4_ac.append(gramos4_ac[i]+gramos4[i+1])"
   ]
  },
  {
   "cell_type": "markdown",
   "id": "69bb92bd",
   "metadata": {},
   "source": [
    "Cada área tomada fue de 25 minutos, por tanto, hacemos regla de 3 simples para comparar con el de titulacion (5.5h)\n",
    "\n",
    "25 min ---- area\n",
    "\n",
    "5.5h=330min ----\n",
    "\n",
    "se debe multiplicar al eje Y por 330/25=13.2 ¿¿¿???"
   ]
  },
  {
   "cell_type": "code",
   "execution_count": 177,
   "id": "aa6fb956",
   "metadata": {},
   "outputs": [
    {
     "data": {
      "image/png": "[encoded data removed]",
      "text/plain": [
       "<Figure size 432x288 with 1 Axes>"
      ]
     },
     "metadata": {
      "needs_background": "light"
     },
     "output_type": "display_data"
    }
   ],
   "source": [
    "plt.plot(x,gramos1_ac,'.',label='Almidon')\n",
    "plt.plot(x,gramos3_ac,'.',label='A + NP TiO2')\n",
    "plt.plot(x,gramos4_ac,'.',label='Blanco')\n",
    "plt.plot(x,gramos2_ac,'.',label='Celulosa')\n",
    "plt.legend()\n",
    "plt.title('CO2 acumulado - sensor')\n",
    "plt.xlabel('Tiempo [Días]')\n",
    "plt.ylabel('Masa [g]')\n",
    "plt.grid(True)\n",
    "plt.savefig(\"co2_acumulado-sensor.png\")\n",
    "plt.show()"
   ]
  },
  {
   "cell_type": "code",
   "execution_count": null,
   "id": "fbbda23a",
   "metadata": {},
   "outputs": [],
   "source": []
  }
 ],
 "metadata": {
  "kernelspec": {
   "display_name": "Python 3",
   "language": "python",
   "name": "python3"
  },
  "language_info": {
   "codemirror_mode": {
    "name": "ipython",
    "version": 3
   },
   "file_extension": ".py",
   "mimetype": "text/x-python",
   "name": "python",
   "nbconvert_exporter": "python",
   "pygments_lexer": "ipython3",
   "version": "3.8.5"
  }
 },
 "nbformat": 4,
 "nbformat_minor": 5
}
