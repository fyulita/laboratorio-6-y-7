{
 "cells": [
  {
   "cell_type": "code",
   "execution_count": 1,
   "id": "a4eb136b",
   "metadata": {},
   "outputs": [],
   "source": [
    "#%matplotlib notebook\n",
    "import numpy as np\n",
    "import pandas as pd\n",
    "import matplotlib.pyplot as plt"
   ]
  },
  {
   "cell_type": "code",
   "execution_count": 2,
   "id": "c851e184",
   "metadata": {},
   "outputs": [],
   "source": [
    "PATH = \"./measurements/full-x4\""
   ]
  },
  {
   "cell_type": "code",
   "execution_count": 3,
   "id": "08620389",
   "metadata": {},
   "outputs": [],
   "source": [
    "fechas=['2021-11-19_17-55-37','2021-11-27_16-16-53','2021-11-27_18-22-19']\n",
    "data=[]\n",
    "\n",
    "for i in fechas:\n",
    "    data.append(pd.read_csv(f\"{PATH}/{i}/figuras/area_{i}.csv\"))"
   ]
  },
  {
   "cell_type": "code",
   "execution_count": 9,
   "id": "1b01cf10",
   "metadata": {},
   "outputs": [
    {
     "name": "stderr",
     "output_type": "stream",
     "text": [
      "<ipython-input-9-d04fee483c4a>:1: VisibleDeprecationWarning: Creating an ndarray from ragged nested sequences (which is a list-or-tuple of lists-or-tuples-or ndarrays with different lengths or shapes) is deprecated. If you meant to do this, you must specify 'dtype=object' when creating the ndarray.\n",
      "  np.array(data)\n"
     ]
    },
    {
     "data": {
      "text/plain": [
       "array([    # nro      Area1     Area2      Area3      Area4\n",
       "       0     1.0   861577.5  680407.0   999943.0   373595.5\n",
       "       1     2.0   777764.5  680266.5  1013391.5   417690.5\n",
       "       2     3.0   661939.0  633581.0  1001593.5   437191.5\n",
       "       3     4.0   494296.5  354747.5   593983.0   690197.0\n",
       "       4     5.0  1007897.0  743866.5  1160173.0   766309.0\n",
       "       5     6.0  1090384.5  575843.0  1297863.0   734609.0\n",
       "       6     7.0  1034822.5  574966.0  1721639.0   730399.0\n",
       "       7     8.0   983064.0  542898.5  2161321.0   703354.5\n",
       "       8     9.0   933170.5  481938.5  2209964.0   678543.5\n",
       "       9    10.0   854629.0  480621.5  1924268.0   693415.0\n",
       "       10   11.0   785312.0  460160.0  1586859.0   681727.5\n",
       "       11   12.0  1071947.5  761931.5  1931548.0  1117951.0\n",
       "       12   13.0  1554731.0  819412.0  2408561.0   913280.0\n",
       "       13   14.0  1216367.5  774628.5  1529538.0   869515.0\n",
       "       14   15.0  1044044.0  720184.0  1224833.5   887967.5\n",
       "       15   16.0  2352027.0  972553.5  2170592.0   844872.0\n",
       "       16   17.0  1931397.0  608293.0  1550203.0   690711.5\n",
       "       17   18.0  1302351.5  557193.0  1114940.0   608542.0\n",
       "       18   19.0  1025788.5  548870.5   967518.0   639765.0\n",
       "       19   20.0  1186077.0  571497.0   849569.5   624061.0\n",
       "       20   21.0   836218.5  484087.0   809817.5   523515.0\n",
       "       21   22.0   679337.5  460230.5   823365.0   567305.0\n",
       "       22   23.0   626335.5  495730.0   783290.5   592876.5\n",
       "       23   24.0  1246787.0  886193.0  2273288.5  1173736.5\n",
       "       24   25.0  3043327.5  737100.5  2219639.5   961902.0\n",
       "       25   26.0  2556294.5  735693.5  1784450.0   873778.5\n",
       "       26   27.0  1669271.5  674479.5  1219757.0   825214.5\n",
       "       27   28.0  1172498.5  601580.5  1209676.0   484379.0\n",
       "       28   29.0   772999.0  442393.5   578027.5   553166.5\n",
       "       29   30.0   647505.0  447055.0   506384.0   558712.5\n",
       "       30   31.0  6847099.0  599845.5   429330.5   459356.5,\n",
       "          # nro      Area1     Area2      Area3     Area4\n",
       "       0    1.0  1174139.5  857802.0  2557359.5  581823.5,\n",
       "          # nro      Area1     Area2      Area3     Area4\n",
       "       0    1.0  1874370.0  715674.5  1596390.5  585570.0\n",
       "       1    2.0  1255871.5  619751.0  1067530.0  582689.5\n",
       "       2    3.0   900422.5  585897.0   816062.0  578322.5\n",
       "       3    4.0   690169.0  550410.0   637913.0  571930.5], dtype=object)"
      ]
     },
     "execution_count": 9,
     "metadata": {},
     "output_type": "execute_result"
    }
   ],
   "source": [
    "np.array(data)"
   ]
  },
  {
   "cell_type": "code",
   "execution_count": 4,
   "id": "e9a036b6",
   "metadata": {},
   "outputs": [
    {
     "ename": "NameError",
     "evalue": "name 'x_1' is not defined",
     "output_type": "error",
     "traceback": [
      "\u001b[0;31m---------------------------------------------------------------------------\u001b[0m",
      "\u001b[0;31mNameError\u001b[0m                                 Traceback (most recent call last)",
      "\u001b[0;32m<ipython-input-4-a12e518b8a3c>\u001b[0m in \u001b[0;36m<module>\u001b[0;34m\u001b[0m\n\u001b[1;32m      7\u001b[0m \u001b[0;31m#x_4 NO CONTAR LA MEDICION DEL 08/11 AL MEDIODIA\u001b[0m\u001b[0;34m\u001b[0m\u001b[0;34m\u001b[0m\u001b[0;34m\u001b[0m\u001b[0m\n\u001b[1;32m      8\u001b[0m \u001b[0;34m\u001b[0m\u001b[0m\n\u001b[0;32m----> 9\u001b[0;31m \u001b[0margs\u001b[0m\u001b[0;34m=\u001b[0m\u001b[0;34m(\u001b[0m\u001b[0mx_1\u001b[0m\u001b[0;34m,\u001b[0m\u001b[0mx_2\u001b[0m\u001b[0;34m,\u001b[0m\u001b[0mx_3\u001b[0m\u001b[0;34m)\u001b[0m\u001b[0;34m\u001b[0m\u001b[0;34m\u001b[0m\u001b[0m\n\u001b[0m\u001b[1;32m     10\u001b[0m \u001b[0mx\u001b[0m\u001b[0;34m=\u001b[0m\u001b[0mnp\u001b[0m\u001b[0;34m.\u001b[0m\u001b[0mconcatenate\u001b[0m\u001b[0;34m(\u001b[0m\u001b[0margs\u001b[0m\u001b[0;34m)\u001b[0m\u001b[0;34m\u001b[0m\u001b[0;34m\u001b[0m\u001b[0m\n",
      "\u001b[0;31mNameError\u001b[0m: name 'x_1' is not defined"
     ]
    }
   ],
   "source": [
    "#OBSERVACIONES EN EL TIEMPO: x, por el eje\n",
    "#1/4 porque son 4 mediciones en un día, así queda en función de los días\n",
    "dt=1/4\n",
    "#x_1= np.arange(0,len(data[0][\"# nro\"])/4,dt) #Primera medición desde el 03/11 hasta el 05/11; son 7 mediciones\n",
    "#x_2= np.array([x_1[-1] + dt]) #medición del 05/11 a las 16hs, única medición\n",
    "#x_3= x_2 + np.arange(dt,len(data[2][\"# nro\"])/4+dt,dt) #continuación de las mediciones, desde 05/11 a las 18hs hasta 08/11 mediodía, total 11 mediciones\n",
    "#x_4 NO CONTAR LA MEDICION DEL 08/11 AL MEDIODIA\n",
    "\n",
    "args=(x_1,x_2,x_3)\n",
    "x=np.concatenate(args)"
   ]
  },
  {
   "cell_type": "code",
   "execution_count": null,
   "id": "ef962e5a",
   "metadata": {},
   "outputs": [],
   "source": [
    "dt=1/4\n",
    "\n",
    "x= np.arange(0,len(data[0][\"# nro\"])/4,dt)"
   ]
  },
  {
   "cell_type": "code",
   "execution_count": 6,
   "id": "64812db0",
   "metadata": {},
   "outputs": [
    {
     "data": {
      "text/plain": [
       "24"
      ]
     },
     "execution_count": 6,
     "metadata": {},
     "output_type": "execute_result"
    }
   ],
   "source": [
    "len(data[0][\"# nro\"])"
   ]
  },
  {
   "cell_type": "code",
   "execution_count": 7,
   "id": "f47fc093",
   "metadata": {},
   "outputs": [],
   "source": [
    "#AREAS\n",
    "area1=[]\n",
    "area2=[]\n",
    "area3=[]\n",
    "area4=[]\n",
    "\n",
    "for i in range(len(fechas)):\n",
    "    area1.append(np.array(data[i]['Area1']))\n",
    "    area2.append(np.array(data[i]['Area2']))\n",
    "    area3.append(np.array(data[i]['Area3']))\n",
    "    area4.append(np.array(data[i]['Area4']))\n",
    "\n",
    "area1=np.concatenate(area1)\n",
    "area2=np.concatenate(area2)\n",
    "area3=np.concatenate(area3)\n",
    "area4=np.concatenate(area4)"
   ]
  },
  {
   "cell_type": "code",
   "execution_count": 8,
   "id": "4ba50370",
   "metadata": {},
   "outputs": [
    {
     "data": {
      "text/plain": [
       "array([ 574.385     ,  518.50966667,  441.29266667,  329.531     ,\n",
       "        671.93133333,  726.923     ,  689.88166667,  655.376     ,\n",
       "        622.11366667,  569.75266667,  523.54133333,  714.63166667,\n",
       "       1036.48733333,  810.91166667,  696.02933333, 1568.018     ,\n",
       "       1287.598     ,  868.23433333,  683.859     ,  790.718     ,\n",
       "        557.479     ,  452.89166667,  417.557     ,  831.19133333])"
      ]
     },
     "execution_count": 8,
     "metadata": {},
     "output_type": "execute_result"
    }
   ],
   "source": [
    "area1/(25*60)"
   ]
  },
  {
   "cell_type": "code",
   "execution_count": 9,
   "id": "b9a776cb",
   "metadata": {},
   "outputs": [
    {
     "data": {
      "image/png": "[encoded data removed]",
      "text/plain": [
       "<Figure size 432x288 with 1 Axes>"
      ]
     },
     "metadata": {
      "needs_background": "light"
     },
     "output_type": "display_data"
    }
   ],
   "source": [
    "plt.figure('co2')\n",
    "plt.plot(x,area1/(25*60),'.--')\n",
    "plt.plot(x,area3/(25*60),'--')\n",
    "plt.plot(x,area4/(25*60),'.--')\n",
    "plt.grid(True)\n",
    "#plt.ylim(400,800)\n",
    "plt.show()"
   ]
  },
  {
   "cell_type": "code",
   "execution_count": 10,
   "id": "bad08a27",
   "metadata": {},
   "outputs": [],
   "source": [
    "area_entre=[]\n",
    "for i in range(len(area1)-1):\n",
    "    area_entre.append((area1[i]+area1[i+1])*4/(2*25*60))"
   ]
  },
  {
   "cell_type": "code",
   "execution_count": 11,
   "id": "61ce7804",
   "metadata": {},
   "outputs": [
    {
     "data": {
      "text/plain": [
       "[2185.789333333333,\n",
       " 1919.6046666666666,\n",
       " 1541.6473333333333,\n",
       " 2002.9246666666666,\n",
       " 2797.708666666667,\n",
       " 2833.6093333333333,\n",
       " 2690.5153333333333,\n",
       " 2554.979333333333,\n",
       " 2383.732666666667,\n",
       " 2186.588,\n",
       " 2476.346,\n",
       " 3502.238,\n",
       " 3694.798,\n",
       " 3013.882,\n",
       " 4528.094666666667,\n",
       " 5711.232,\n",
       " 4311.664666666667,\n",
       " 3104.1866666666665,\n",
       " 2949.154,\n",
       " 2696.394,\n",
       " 2020.7413333333334,\n",
       " 1740.8973333333333,\n",
       " 2497.4966666666664]"
      ]
     },
     "execution_count": 11,
     "metadata": {},
     "output_type": "execute_result"
    }
   ],
   "source": [
    "area_entre"
   ]
  },
  {
   "cell_type": "markdown",
   "id": "ff00e685",
   "metadata": {},
   "source": [
    "La fórmula es \n",
    "g= $\\frac{F CT 44 g/mol}{22414 . 10^6 0.001L/mol}$\n",
    "\n",
    "Con F el flujo (1.5L/min), CT el área bajo la curva en MINUTOS, como lo tenemos en segundos:\n",
    "\n",
    "g= $\\frac{F* CT/60 * 44 g/mol}{22414 . 10^6 0.001L/mol}$"
   ]
  },
  {
   "cell_type": "code",
   "execution_count": 12,
   "id": "962006f3",
   "metadata": {},
   "outputs": [],
   "source": [
    "F = 1.5\n",
    "den = 22414 * 0.001 * 10 ** 6\n",
    "\n",
    "def gramos(x): #meter el área\n",
    "    return F * x * 44 / (den * 60)"
   ]
  },
  {
   "cell_type": "code",
   "execution_count": 13,
   "id": "dd6183d4",
   "metadata": {},
   "outputs": [],
   "source": [
    "gramos1=np.array(gramos(area1))\n",
    "gramos2=np.array(gramos(area2))\n",
    "gramos3=np.array(gramos(area3))\n",
    "gramos4=np.array(gramos(area4))\n"
   ]
  },
  {
   "cell_type": "code",
   "execution_count": 14,
   "id": "b73cce34",
   "metadata": {},
   "outputs": [],
   "source": [
    "#Los ordeno de manera acumulada\n",
    "gramos1_ac=[gramos1[0]]\n",
    "gramos2_ac=[gramos2[0]]\n",
    "gramos3_ac=[gramos3[0]]\n",
    "gramos4_ac=[gramos4[0]]\n",
    "\n",
    "\n",
    "for i in range(len(gramos1)-1):\n",
    "    gramos1_ac.append(gramos1_ac[i]+gramos1[i+1])\n",
    "    gramos2_ac.append(gramos2_ac[i]+gramos2[i+1])\n",
    "    gramos3_ac.append(gramos3_ac[i]+gramos3[i+1])\n",
    "    gramos4_ac.append(gramos4_ac[i]+gramos4[i+1])"
   ]
  },
  {
   "cell_type": "markdown",
   "id": "69bb92bd",
   "metadata": {},
   "source": [
    "Cada área tomada fue de 25 minutos, por tanto, hacemos regla de 3 simples para comparar con el de titulacion (5.5h)\n",
    "\n",
    "25 min ---- area\n",
    "\n",
    "5.5h=330min ----\n",
    "\n",
    "se debe multiplicar al eje Y por 330/25=13.2 ¿¿¿???"
   ]
  },
  {
   "cell_type": "code",
   "execution_count": 28,
   "id": "aa6fb956",
   "metadata": {},
   "outputs": [
    {
     "data": {
      "image/png": "[encoded data removed]",
      "text/plain": [
       "<Figure size 432x288 with 1 Axes>"
      ]
     },
     "metadata": {
      "needs_background": "light"
     },
     "output_type": "display_data"
    }
   ],
   "source": [
    "plt.plot(x,np.array(gramos1_ac)*6,'.',label='Almidon')\n",
    "plt.plot(x,np.array(gramos3_ac)*6,'.',label='A + NP TiO2')\n",
    "plt.plot(x,np.array(gramos4_ac)*6,'.',label='Blanco')\n",
    "plt.plot(x,np.array(gramos2_ac)*6,'.',label='Celulosa')\n",
    "plt.legend()\n",
    "plt.title('CO2 acumulado - sensor')\n",
    "plt.xlabel('Tiempo [Días]')\n",
    "plt.ylabel('Masa [g]')\n",
    "plt.grid(True)\n",
    "plt.savefig(\"co2_acumulado-sensor.png\")\n",
    "plt.show()"
   ]
  },
  {
   "cell_type": "code",
   "execution_count": 20,
   "id": "fbbda23a",
   "metadata": {},
   "outputs": [
    {
     "data": {
      "text/plain": [
       "24"
      ]
     },
     "execution_count": 20,
     "metadata": {},
     "output_type": "execute_result"
    }
   ],
   "source": [
    "len(x)"
   ]
  },
  {
   "cell_type": "code",
   "execution_count": 24,
   "id": "65d22879",
   "metadata": {},
   "outputs": [
    {
     "data": {
      "text/plain": [
       "array([0.25369909, 0.48271871, 0.67763249, 0.82318245, 1.11996661,\n",
       "       1.44103995, 1.74575256, 2.03522443, 2.31000471, 2.56165776,\n",
       "       2.7928998 , 3.1085442 , 3.56634846, 3.9245186 , 4.23194656,\n",
       "       4.92452166, 5.49323854, 5.87672742, 6.1787799 , 6.52803073,\n",
       "       6.77426264, 6.97429956, 7.15872958, 7.525857  ])"
      ]
     },
     "execution_count": 24,
     "metadata": {},
     "output_type": "execute_result"
    }
   ],
   "source": [
    "np.array(gramos1_ac)*6"
   ]
  },
  {
   "cell_type": "code",
   "execution_count": null,
   "id": "68bb21b8",
   "metadata": {},
   "outputs": [],
   "source": []
  }
 ],
 "metadata": {
  "kernelspec": {
   "display_name": "Python 3",
   "language": "python",
   "name": "python3"
  },
  "language_info": {
   "codemirror_mode": {
    "name": "ipython",
    "version": 3
   },
   "file_extension": ".py",
   "mimetype": "text/x-python",
   "name": "python",
   "nbconvert_exporter": "python",
   "pygments_lexer": "ipython3",
   "version": "3.8.5"
  }
 },
 "nbformat": 4,
 "nbformat_minor": 5
}
