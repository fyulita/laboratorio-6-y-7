{
 "cells": [
  {
   "cell_type": "code",
   "execution_count": 2,
   "id": "a4eb136b",
   "metadata": {},
   "outputs": [],
   "source": [
    "#%matplotlib notebook\n",
    "import numpy as np\n",
    "import pandas as pd\n",
    "import matplotlib.pyplot as plt"
   ]
  },
  {
   "cell_type": "code",
   "execution_count": 3,
   "id": "c851e184",
   "metadata": {},
   "outputs": [],
   "source": [
    "PATH = \"./measurements/full-x4\""
   ]
  },
  {
   "cell_type": "code",
   "execution_count": 6,
   "id": "08620389",
   "metadata": {},
   "outputs": [
    {
     "ename": "FileNotFoundError",
     "evalue": "[Errno 2] No such file or directory: './measurements/full-x4/areasfinales/areas_570-663.csv'",
     "output_type": "error",
     "traceback": [
      "\u001b[0;31m---------------------------------------------------------------------------\u001b[0m",
      "\u001b[0;31mFileNotFoundError\u001b[0m                         Traceback (most recent call last)",
      "\u001b[0;32m<ipython-input-6-177037392f71>\u001b[0m in \u001b[0;36m<module>\u001b[0;34m\u001b[0m\n\u001b[1;32m      6\u001b[0m \u001b[0;34m\u001b[0m\u001b[0m\n\u001b[1;32m      7\u001b[0m \u001b[0mdata\u001b[0m\u001b[0;34m.\u001b[0m\u001b[0mappend\u001b[0m\u001b[0;34m(\u001b[0m\u001b[0mpd\u001b[0m\u001b[0;34m.\u001b[0m\u001b[0mread_csv\u001b[0m\u001b[0;34m(\u001b[0m\u001b[0;34mf\"{PATH}/areasfinales/areas_280-525.csv\"\u001b[0m\u001b[0;34m)\u001b[0m\u001b[0;34m)\u001b[0m\u001b[0;34m\u001b[0m\u001b[0;34m\u001b[0m\u001b[0m\n\u001b[0;32m----> 8\u001b[0;31m \u001b[0mdata\u001b[0m\u001b[0;34m.\u001b[0m\u001b[0mappend\u001b[0m\u001b[0;34m(\u001b[0m\u001b[0mpd\u001b[0m\u001b[0;34m.\u001b[0m\u001b[0mread_csv\u001b[0m\u001b[0;34m(\u001b[0m\u001b[0;34mf\"{PATH}/areasfinales/areas_570-663.csv\"\u001b[0m\u001b[0;34m)\u001b[0m\u001b[0;34m)\u001b[0m\u001b[0;34m\u001b[0m\u001b[0;34m\u001b[0m\u001b[0m\n\u001b[0m",
      "\u001b[0;32m~/.local/lib/python3.8/site-packages/pandas/util/_decorators.py\u001b[0m in \u001b[0;36mwrapper\u001b[0;34m(*args, **kwargs)\u001b[0m\n\u001b[1;32m    309\u001b[0m                     \u001b[0mstacklevel\u001b[0m\u001b[0;34m=\u001b[0m\u001b[0mstacklevel\u001b[0m\u001b[0;34m,\u001b[0m\u001b[0;34m\u001b[0m\u001b[0;34m\u001b[0m\u001b[0m\n\u001b[1;32m    310\u001b[0m                 )\n\u001b[0;32m--> 311\u001b[0;31m             \u001b[0;32mreturn\u001b[0m \u001b[0mfunc\u001b[0m\u001b[0;34m(\u001b[0m\u001b[0;34m*\u001b[0m\u001b[0margs\u001b[0m\u001b[0;34m,\u001b[0m \u001b[0;34m**\u001b[0m\u001b[0mkwargs\u001b[0m\u001b[0;34m)\u001b[0m\u001b[0;34m\u001b[0m\u001b[0;34m\u001b[0m\u001b[0m\n\u001b[0m\u001b[1;32m    312\u001b[0m \u001b[0;34m\u001b[0m\u001b[0m\n\u001b[1;32m    313\u001b[0m         \u001b[0;32mreturn\u001b[0m \u001b[0mwrapper\u001b[0m\u001b[0;34m\u001b[0m\u001b[0;34m\u001b[0m\u001b[0m\n",
      "\u001b[0;32m~/.local/lib/python3.8/site-packages/pandas/io/parsers/readers.py\u001b[0m in \u001b[0;36mread_csv\u001b[0;34m(filepath_or_buffer, sep, delimiter, header, names, index_col, usecols, squeeze, prefix, mangle_dupe_cols, dtype, engine, converters, true_values, false_values, skipinitialspace, skiprows, skipfooter, nrows, na_values, keep_default_na, na_filter, verbose, skip_blank_lines, parse_dates, infer_datetime_format, keep_date_col, date_parser, dayfirst, cache_dates, iterator, chunksize, compression, thousands, decimal, lineterminator, quotechar, quoting, doublequote, escapechar, comment, encoding, encoding_errors, dialect, error_bad_lines, warn_bad_lines, on_bad_lines, delim_whitespace, low_memory, memory_map, float_precision, storage_options)\u001b[0m\n\u001b[1;32m    584\u001b[0m     \u001b[0mkwds\u001b[0m\u001b[0;34m.\u001b[0m\u001b[0mupdate\u001b[0m\u001b[0;34m(\u001b[0m\u001b[0mkwds_defaults\u001b[0m\u001b[0;34m)\u001b[0m\u001b[0;34m\u001b[0m\u001b[0;34m\u001b[0m\u001b[0m\n\u001b[1;32m    585\u001b[0m \u001b[0;34m\u001b[0m\u001b[0m\n\u001b[0;32m--> 586\u001b[0;31m     \u001b[0;32mreturn\u001b[0m \u001b[0m_read\u001b[0m\u001b[0;34m(\u001b[0m\u001b[0mfilepath_or_buffer\u001b[0m\u001b[0;34m,\u001b[0m \u001b[0mkwds\u001b[0m\u001b[0;34m)\u001b[0m\u001b[0;34m\u001b[0m\u001b[0;34m\u001b[0m\u001b[0m\n\u001b[0m\u001b[1;32m    587\u001b[0m \u001b[0;34m\u001b[0m\u001b[0m\n\u001b[1;32m    588\u001b[0m \u001b[0;34m\u001b[0m\u001b[0m\n",
      "\u001b[0;32m~/.local/lib/python3.8/site-packages/pandas/io/parsers/readers.py\u001b[0m in \u001b[0;36m_read\u001b[0;34m(filepath_or_buffer, kwds)\u001b[0m\n\u001b[1;32m    480\u001b[0m \u001b[0;34m\u001b[0m\u001b[0m\n\u001b[1;32m    481\u001b[0m     \u001b[0;31m# Create the parser.\u001b[0m\u001b[0;34m\u001b[0m\u001b[0;34m\u001b[0m\u001b[0;34m\u001b[0m\u001b[0m\n\u001b[0;32m--> 482\u001b[0;31m     \u001b[0mparser\u001b[0m \u001b[0;34m=\u001b[0m \u001b[0mTextFileReader\u001b[0m\u001b[0;34m(\u001b[0m\u001b[0mfilepath_or_buffer\u001b[0m\u001b[0;34m,\u001b[0m \u001b[0;34m**\u001b[0m\u001b[0mkwds\u001b[0m\u001b[0;34m)\u001b[0m\u001b[0;34m\u001b[0m\u001b[0;34m\u001b[0m\u001b[0m\n\u001b[0m\u001b[1;32m    483\u001b[0m \u001b[0;34m\u001b[0m\u001b[0m\n\u001b[1;32m    484\u001b[0m     \u001b[0;32mif\u001b[0m \u001b[0mchunksize\u001b[0m \u001b[0;32mor\u001b[0m \u001b[0miterator\u001b[0m\u001b[0;34m:\u001b[0m\u001b[0;34m\u001b[0m\u001b[0;34m\u001b[0m\u001b[0m\n",
      "\u001b[0;32m~/.local/lib/python3.8/site-packages/pandas/io/parsers/readers.py\u001b[0m in \u001b[0;36m__init__\u001b[0;34m(self, f, engine, **kwds)\u001b[0m\n\u001b[1;32m    809\u001b[0m             \u001b[0mself\u001b[0m\u001b[0;34m.\u001b[0m\u001b[0moptions\u001b[0m\u001b[0;34m[\u001b[0m\u001b[0;34m\"has_index_names\"\u001b[0m\u001b[0;34m]\u001b[0m \u001b[0;34m=\u001b[0m \u001b[0mkwds\u001b[0m\u001b[0;34m[\u001b[0m\u001b[0;34m\"has_index_names\"\u001b[0m\u001b[0;34m]\u001b[0m\u001b[0;34m\u001b[0m\u001b[0;34m\u001b[0m\u001b[0m\n\u001b[1;32m    810\u001b[0m \u001b[0;34m\u001b[0m\u001b[0m\n\u001b[0;32m--> 811\u001b[0;31m         \u001b[0mself\u001b[0m\u001b[0;34m.\u001b[0m\u001b[0m_engine\u001b[0m \u001b[0;34m=\u001b[0m \u001b[0mself\u001b[0m\u001b[0;34m.\u001b[0m\u001b[0m_make_engine\u001b[0m\u001b[0;34m(\u001b[0m\u001b[0mself\u001b[0m\u001b[0;34m.\u001b[0m\u001b[0mengine\u001b[0m\u001b[0;34m)\u001b[0m\u001b[0;34m\u001b[0m\u001b[0;34m\u001b[0m\u001b[0m\n\u001b[0m\u001b[1;32m    812\u001b[0m \u001b[0;34m\u001b[0m\u001b[0m\n\u001b[1;32m    813\u001b[0m     \u001b[0;32mdef\u001b[0m \u001b[0mclose\u001b[0m\u001b[0;34m(\u001b[0m\u001b[0mself\u001b[0m\u001b[0;34m)\u001b[0m\u001b[0;34m:\u001b[0m\u001b[0;34m\u001b[0m\u001b[0;34m\u001b[0m\u001b[0m\n",
      "\u001b[0;32m~/.local/lib/python3.8/site-packages/pandas/io/parsers/readers.py\u001b[0m in \u001b[0;36m_make_engine\u001b[0;34m(self, engine)\u001b[0m\n\u001b[1;32m   1038\u001b[0m             )\n\u001b[1;32m   1039\u001b[0m         \u001b[0;31m# error: Too many arguments for \"ParserBase\"\u001b[0m\u001b[0;34m\u001b[0m\u001b[0;34m\u001b[0m\u001b[0;34m\u001b[0m\u001b[0m\n\u001b[0;32m-> 1040\u001b[0;31m         \u001b[0;32mreturn\u001b[0m \u001b[0mmapping\u001b[0m\u001b[0;34m[\u001b[0m\u001b[0mengine\u001b[0m\u001b[0;34m]\u001b[0m\u001b[0;34m(\u001b[0m\u001b[0mself\u001b[0m\u001b[0;34m.\u001b[0m\u001b[0mf\u001b[0m\u001b[0;34m,\u001b[0m \u001b[0;34m**\u001b[0m\u001b[0mself\u001b[0m\u001b[0;34m.\u001b[0m\u001b[0moptions\u001b[0m\u001b[0;34m)\u001b[0m  \u001b[0;31m# type: ignore[call-arg]\u001b[0m\u001b[0;34m\u001b[0m\u001b[0;34m\u001b[0m\u001b[0m\n\u001b[0m\u001b[1;32m   1041\u001b[0m \u001b[0;34m\u001b[0m\u001b[0m\n\u001b[1;32m   1042\u001b[0m     \u001b[0;32mdef\u001b[0m \u001b[0m_failover_to_python\u001b[0m\u001b[0;34m(\u001b[0m\u001b[0mself\u001b[0m\u001b[0;34m)\u001b[0m\u001b[0;34m:\u001b[0m\u001b[0;34m\u001b[0m\u001b[0;34m\u001b[0m\u001b[0m\n",
      "\u001b[0;32m~/.local/lib/python3.8/site-packages/pandas/io/parsers/c_parser_wrapper.py\u001b[0m in \u001b[0;36m__init__\u001b[0;34m(self, src, **kwds)\u001b[0m\n\u001b[1;32m     49\u001b[0m \u001b[0;34m\u001b[0m\u001b[0m\n\u001b[1;32m     50\u001b[0m         \u001b[0;31m# open handles\u001b[0m\u001b[0;34m\u001b[0m\u001b[0;34m\u001b[0m\u001b[0;34m\u001b[0m\u001b[0m\n\u001b[0;32m---> 51\u001b[0;31m         \u001b[0mself\u001b[0m\u001b[0;34m.\u001b[0m\u001b[0m_open_handles\u001b[0m\u001b[0;34m(\u001b[0m\u001b[0msrc\u001b[0m\u001b[0;34m,\u001b[0m \u001b[0mkwds\u001b[0m\u001b[0;34m)\u001b[0m\u001b[0;34m\u001b[0m\u001b[0;34m\u001b[0m\u001b[0m\n\u001b[0m\u001b[1;32m     52\u001b[0m         \u001b[0;32massert\u001b[0m \u001b[0mself\u001b[0m\u001b[0;34m.\u001b[0m\u001b[0mhandles\u001b[0m \u001b[0;32mis\u001b[0m \u001b[0;32mnot\u001b[0m \u001b[0;32mNone\u001b[0m\u001b[0;34m\u001b[0m\u001b[0;34m\u001b[0m\u001b[0m\n\u001b[1;32m     53\u001b[0m \u001b[0;34m\u001b[0m\u001b[0m\n",
      "\u001b[0;32m~/.local/lib/python3.8/site-packages/pandas/io/parsers/base_parser.py\u001b[0m in \u001b[0;36m_open_handles\u001b[0;34m(self, src, kwds)\u001b[0m\n\u001b[1;32m    220\u001b[0m         \u001b[0mLet\u001b[0m \u001b[0mthe\u001b[0m \u001b[0mreaders\u001b[0m \u001b[0mopen\u001b[0m \u001b[0mIOHandles\u001b[0m \u001b[0mafter\u001b[0m \u001b[0mthey\u001b[0m \u001b[0mare\u001b[0m \u001b[0mdone\u001b[0m \u001b[0;32mwith\u001b[0m \u001b[0mtheir\u001b[0m \u001b[0mpotential\u001b[0m \u001b[0mraises\u001b[0m\u001b[0;34m.\u001b[0m\u001b[0;34m\u001b[0m\u001b[0;34m\u001b[0m\u001b[0m\n\u001b[1;32m    221\u001b[0m         \"\"\"\n\u001b[0;32m--> 222\u001b[0;31m         self.handles = get_handle(\n\u001b[0m\u001b[1;32m    223\u001b[0m             \u001b[0msrc\u001b[0m\u001b[0;34m,\u001b[0m\u001b[0;34m\u001b[0m\u001b[0;34m\u001b[0m\u001b[0m\n\u001b[1;32m    224\u001b[0m             \u001b[0;34m\"r\"\u001b[0m\u001b[0;34m,\u001b[0m\u001b[0;34m\u001b[0m\u001b[0;34m\u001b[0m\u001b[0m\n",
      "\u001b[0;32m~/.local/lib/python3.8/site-packages/pandas/io/common.py\u001b[0m in \u001b[0;36mget_handle\u001b[0;34m(path_or_buf, mode, encoding, compression, memory_map, is_text, errors, storage_options)\u001b[0m\n\u001b[1;32m    699\u001b[0m         \u001b[0;32mif\u001b[0m \u001b[0mioargs\u001b[0m\u001b[0;34m.\u001b[0m\u001b[0mencoding\u001b[0m \u001b[0;32mand\u001b[0m \u001b[0;34m\"b\"\u001b[0m \u001b[0;32mnot\u001b[0m \u001b[0;32min\u001b[0m \u001b[0mioargs\u001b[0m\u001b[0;34m.\u001b[0m\u001b[0mmode\u001b[0m\u001b[0;34m:\u001b[0m\u001b[0;34m\u001b[0m\u001b[0;34m\u001b[0m\u001b[0m\n\u001b[1;32m    700\u001b[0m             \u001b[0;31m# Encoding\u001b[0m\u001b[0;34m\u001b[0m\u001b[0;34m\u001b[0m\u001b[0;34m\u001b[0m\u001b[0m\n\u001b[0;32m--> 701\u001b[0;31m             handle = open(\n\u001b[0m\u001b[1;32m    702\u001b[0m                 \u001b[0mhandle\u001b[0m\u001b[0;34m,\u001b[0m\u001b[0;34m\u001b[0m\u001b[0;34m\u001b[0m\u001b[0m\n\u001b[1;32m    703\u001b[0m                 \u001b[0mioargs\u001b[0m\u001b[0;34m.\u001b[0m\u001b[0mmode\u001b[0m\u001b[0;34m,\u001b[0m\u001b[0;34m\u001b[0m\u001b[0;34m\u001b[0m\u001b[0m\n",
      "\u001b[0;31mFileNotFoundError\u001b[0m: [Errno 2] No such file or directory: './measurements/full-x4/areasfinales/areas_570-663.csv'"
     ]
    }
   ],
   "source": [
    "fechas=['2021-11-19_17-55-37','2021-11-27_16-16-53','2021-11-27_18-22-19-EDITADO']\n",
    "data=[]\n",
    "\n",
    "for i in fechas:\n",
    "    data.append(pd.read_csv(f\"{PATH}/{i}/figuras/area_{i}.csv\"))\n",
    "\n",
    "data.append(pd.read_csv(f\"{PATH}/areasfinales/areas_280-525.csv\"))\n",
    "data.append(pd.read_csv(f\"{PATH}/areasfinales/areas_570-663.csv\"))"
   ]
  },
  {
   "cell_type": "code",
   "execution_count": 7,
   "id": "1b01cf10",
   "metadata": {},
   "outputs": [
    {
     "name": "stderr",
     "output_type": "stream",
     "text": [
      "<ipython-input-7-d04fee483c4a>:1: VisibleDeprecationWarning: Creating an ndarray from ragged nested sequences (which is a list-or-tuple of lists-or-tuples-or ndarrays with different lengths or shapes) is deprecated. If you meant to do this, you must specify 'dtype=object' when creating the ndarray.\n",
      "  np.array(data)\n"
     ]
    },
    {
     "data": {
      "text/plain": [
       "array([    # nro      Area1     Area2      Area3      Area4\n",
       "       0     1.0   861577.5  680407.0   999943.0   373595.5\n",
       "       1     2.0   777764.5  680266.5  1013391.5   417690.5\n",
       "       2     3.0   661939.0  633581.0  1001593.5   437191.5\n",
       "       3     4.0   494296.5  354747.5   593983.0   690197.0\n",
       "       4     5.0  1007897.0  743866.5  1160173.0   766309.0\n",
       "       5     6.0  1090384.5  575843.0  1297863.0   734609.0\n",
       "       6     7.0  1034822.5  574966.0  1721639.0   730399.0\n",
       "       7     8.0   983064.0  542898.5  2161321.0   703354.5\n",
       "       8     9.0   933170.5  481938.5  2209964.0   678543.5\n",
       "       9    10.0   854629.0  480621.5  1924268.0   693415.0\n",
       "       10   11.0   785312.0  460160.0  1586859.0   681727.5\n",
       "       11   12.0  1071947.5  761931.5  1931548.0  1117951.0\n",
       "       12   13.0  1554731.0  819412.0  2408561.0   913280.0\n",
       "       13   14.0  1216367.5  774628.5  1529538.0   869515.0\n",
       "       14   15.0  1044044.0  720184.0  1224833.5   887967.5\n",
       "       15   16.0  2352027.0  972553.5  2170592.0   844872.0\n",
       "       16   17.0  1931397.0  608293.0  1550203.0   690711.5\n",
       "       17   18.0  1302351.5  557193.0  1114940.0   608542.0\n",
       "       18   19.0  1025788.5  548870.5   967518.0   639765.0\n",
       "       19   20.0  1186077.0  571497.0   849569.5   624061.0\n",
       "       20   21.0   836218.5  484087.0   809817.5   523515.0\n",
       "       21   22.0   679337.5  460230.5   823365.0   567305.0\n",
       "       22   23.0   626335.5  495730.0   783290.5   592876.5\n",
       "       23   24.0  1246787.0  886193.0  2273288.5  1173736.5\n",
       "       24   25.0  3043327.5  737100.5  2219639.5   961902.0\n",
       "       25   26.0  2556294.5  735693.5  1784450.0   873778.5\n",
       "       26   27.0  1669271.5  674479.5  1219757.0   825214.5\n",
       "       27   28.0  1172498.5  601580.5  1209676.0   484379.0\n",
       "       28   29.0   772999.0  442393.5   578027.5   553166.5\n",
       "       29   30.0   647505.0  447055.0   506384.0   558712.5\n",
       "       30   31.0   599845.5  429330.5   459356.5   570964.5,\n",
       "          # nro      Area1     Area2      Area3     Area4\n",
       "       0    1.0  1174139.5  857802.0  2557359.5  581823.5,\n",
       "          # nro      Area1     Area2      Area3     Area4\n",
       "       0    1.0  1874370.0  715674.5  1596390.5  585570.0\n",
       "       1    2.0  1255871.5  619751.0  1067530.0  582689.5\n",
       "       2    3.0   900422.5  585897.0   816062.0  578322.5\n",
       "       3    4.0   690169.0  550410.0   637913.0  571930.5\n",
       "       4    5.0   692156.5  566651.5   613661.5  592901.5\n",
       "       5    6.0   669058.5  554544.0   587296.0  597218.5\n",
       "       6    7.0   692098.5  586603.5   597424.0  643358.0,\n",
       "          # nro      Area1      Area2      Area3     Area4\n",
       "       0      1  1025229.0   848097.5  1833670.5  695848.0\n",
       "       1      2   702128.5   612263.0   892867.0  654172.0\n",
       "       2      3   628573.5   581724.0   723867.0  629827.0\n",
       "       3      4   638589.0   592564.5   655402.5  666482.0\n",
       "       4      5  2214476.0  1006232.0  2411412.0  877327.0\n",
       "       5      6  1297864.5   870263.5  2274864.0  788615.5\n",
       "       6      7   882628.0   705487.5  1463632.5  742944.0\n",
       "       7      8   885000.0   750000.0  1200000.0  810000.0], dtype=object)"
      ]
     },
     "execution_count": 7,
     "metadata": {},
     "output_type": "execute_result"
    }
   ],
   "source": [
    "np.array(data)"
   ]
  },
  {
   "cell_type": "code",
   "execution_count": 8,
   "id": "e9a036b6",
   "metadata": {},
   "outputs": [
    {
     "ename": "NameError",
     "evalue": "name 'x_1' is not defined",
     "output_type": "error",
     "traceback": [
      "\u001b[0;31m---------------------------------------------------------------------------\u001b[0m",
      "\u001b[0;31mNameError\u001b[0m                                 Traceback (most recent call last)",
      "\u001b[0;32m<ipython-input-8-a12e518b8a3c>\u001b[0m in \u001b[0;36m<module>\u001b[0;34m\u001b[0m\n\u001b[1;32m      7\u001b[0m \u001b[0;31m#x_4 NO CONTAR LA MEDICION DEL 08/11 AL MEDIODIA\u001b[0m\u001b[0;34m\u001b[0m\u001b[0;34m\u001b[0m\u001b[0;34m\u001b[0m\u001b[0m\n\u001b[1;32m      8\u001b[0m \u001b[0;34m\u001b[0m\u001b[0m\n\u001b[0;32m----> 9\u001b[0;31m \u001b[0margs\u001b[0m\u001b[0;34m=\u001b[0m\u001b[0;34m(\u001b[0m\u001b[0mx_1\u001b[0m\u001b[0;34m,\u001b[0m\u001b[0mx_2\u001b[0m\u001b[0;34m,\u001b[0m\u001b[0mx_3\u001b[0m\u001b[0;34m)\u001b[0m\u001b[0;34m\u001b[0m\u001b[0;34m\u001b[0m\u001b[0m\n\u001b[0m\u001b[1;32m     10\u001b[0m \u001b[0mx\u001b[0m\u001b[0;34m=\u001b[0m\u001b[0mnp\u001b[0m\u001b[0;34m.\u001b[0m\u001b[0mconcatenate\u001b[0m\u001b[0;34m(\u001b[0m\u001b[0margs\u001b[0m\u001b[0;34m)\u001b[0m\u001b[0;34m\u001b[0m\u001b[0;34m\u001b[0m\u001b[0m\n",
      "\u001b[0;31mNameError\u001b[0m: name 'x_1' is not defined"
     ]
    }
   ],
   "source": [
    "#OBSERVACIONES EN EL TIEMPO: x, por el eje\n",
    "#1/4 porque son 4 mediciones en un día, así queda en función de los días\n",
    "dt=1/4\n",
    "#x_1= np.arange(0,len(data[0][\"# nro\"])/4,dt) #Primera medición desde el 03/11 hasta el 05/11; son 7 mediciones\n",
    "#x_2= np.array([x_1[-1] + dt]) #medición del 05/11 a las 16hs, única medición\n",
    "#x_3= x_2 + np.arange(dt,len(data[2][\"# nro\"])/4+dt,dt) #continuación de las mediciones, desde 05/11 a las 18hs hasta 08/11 mediodía, total 11 mediciones\n",
    "#x_4 NO CONTAR LA MEDICION DEL 08/11 AL MEDIODIA\n",
    "\n",
    "args=(x_1,x_2,x_3)\n",
    "x=np.concatenate(args)"
   ]
  },
  {
   "cell_type": "code",
   "execution_count": 21,
   "id": "ef962e5a",
   "metadata": {},
   "outputs": [],
   "source": [
    "dt=1/4\n",
    "\n",
    "long=len(data[0])+len(data[1])+len(data[2])+len(data[3])\n",
    "\n",
    "x= np.arange(0,long/4,dt)"
   ]
  },
  {
   "cell_type": "code",
   "execution_count": 25,
   "id": "98e68bd0",
   "metadata": {},
   "outputs": [
    {
     "data": {
      "text/plain": [
       "47"
      ]
     },
     "execution_count": 25,
     "metadata": {},
     "output_type": "execute_result"
    }
   ],
   "source": [
    "long"
   ]
  },
  {
   "cell_type": "code",
   "execution_count": 27,
   "id": "f47fc093",
   "metadata": {},
   "outputs": [],
   "source": [
    "#AREAS\n",
    "area1=[]\n",
    "area2=[]\n",
    "area3=[]\n",
    "area4=[]\n",
    "\n",
    "for i in range(len(fechas)+1):\n",
    "    area1.append(np.array(data[i]['Area1']))\n",
    "    area2.append(np.array(data[i]['Area2']))\n",
    "    area3.append(np.array(data[i]['Area3']))\n",
    "    area4.append(np.array(data[i]['Area4']))\n",
    "    \n",
    "\n",
    "\n",
    "area1=np.concatenate(area1)\n",
    "area2=np.concatenate(area2)\n",
    "area3=np.concatenate(area3)\n",
    "area4=np.concatenate(area4)"
   ]
  },
  {
   "cell_type": "code",
   "execution_count": 28,
   "id": "4ba50370",
   "metadata": {},
   "outputs": [
    {
     "data": {
      "text/plain": [
       "array([ 574.385     ,  518.50966667,  441.29266667,  329.531     ,\n",
       "        671.93133333,  726.923     ,  689.88166667,  655.376     ,\n",
       "        622.11366667,  569.75266667,  523.54133333,  714.63166667,\n",
       "       1036.48733333,  810.91166667,  696.02933333, 1568.018     ,\n",
       "       1287.598     ,  868.23433333,  683.859     ,  790.718     ,\n",
       "        557.479     ,  452.89166667,  417.557     ,  831.19133333,\n",
       "       2028.885     , 1704.19633333, 1112.84766667,  781.66566667,\n",
       "        515.33266667,  431.67      ,  399.897     ,  782.75966667,\n",
       "       1249.58      ,  837.24766667,  600.28166667,  460.11266667,\n",
       "        461.43766667,  446.039     ,  461.399     ,  683.486     ,\n",
       "        468.08566667,  419.049     ,  425.726     , 1476.31733333,\n",
       "        865.243     ,  588.41866667,  590.        ])"
      ]
     },
     "execution_count": 28,
     "metadata": {},
     "output_type": "execute_result"
    }
   ],
   "source": [
    "area1/(25*60)"
   ]
  },
  {
   "cell_type": "code",
   "execution_count": 29,
   "id": "b9a776cb",
   "metadata": {},
   "outputs": [
    {
     "data": {
      "image/png": "[encoded data removed]",
      "text/plain": [
       "<Figure size 432x288 with 1 Axes>"
      ]
     },
     "metadata": {
      "needs_background": "light"
     },
     "output_type": "display_data"
    }
   ],
   "source": [
    "plt.figure('co2')\n",
    "plt.plot(x,area1/(25*60),'.--')\n",
    "plt.plot(x,area3/(25*60),'--')\n",
    "plt.plot(x,area4/(25*60),'.--')\n",
    "plt.grid(True)\n",
    "#plt.ylim(400,800)\n",
    "plt.show()"
   ]
  },
  {
   "cell_type": "code",
   "execution_count": 30,
   "id": "bad08a27",
   "metadata": {},
   "outputs": [],
   "source": [
    "area_entre=[]\n",
    "for i in range(len(area1)-1):\n",
    "    area_entre.append((area1[i]+area1[i+1])*4/(2*25*60))"
   ]
  },
  {
   "cell_type": "code",
   "execution_count": 31,
   "id": "61ce7804",
   "metadata": {},
   "outputs": [
    {
     "data": {
      "text/plain": [
       "[2185.789333333333,\n",
       " 1919.6046666666666,\n",
       " 1541.6473333333333,\n",
       " 2002.9246666666666,\n",
       " 2797.708666666667,\n",
       " 2833.6093333333333,\n",
       " 2690.5153333333333,\n",
       " 2554.979333333333,\n",
       " 2383.732666666667,\n",
       " 2186.588,\n",
       " 2476.346,\n",
       " 3502.238,\n",
       " 3694.798,\n",
       " 3013.882,\n",
       " 4528.094666666667,\n",
       " 5711.232,\n",
       " 4311.664666666667,\n",
       " 3104.1866666666665,\n",
       " 2949.154,\n",
       " 2696.394,\n",
       " 2020.7413333333334,\n",
       " 1740.8973333333333,\n",
       " 2497.4966666666664,\n",
       " 5720.152666666667,\n",
       " 7466.162666666667,\n",
       " 5634.088,\n",
       " 3789.0266666666666,\n",
       " 2593.9966666666664,\n",
       " 1894.0053333333333,\n",
       " 1663.134,\n",
       " 2365.3133333333335,\n",
       " 4064.6793333333335,\n",
       " 4173.655333333333,\n",
       " 2875.058666666667,\n",
       " 2120.788666666667,\n",
       " 1843.1006666666667,\n",
       " 1814.9533333333334,\n",
       " 1814.876,\n",
       " 2289.77,\n",
       " 2303.1433333333334,\n",
       " 1774.2693333333334,\n",
       " 1689.55,\n",
       " 3804.0866666666666,\n",
       " 4683.120666666667,\n",
       " 2907.3233333333333,\n",
       " 2356.8373333333334]"
      ]
     },
     "execution_count": 31,
     "metadata": {},
     "output_type": "execute_result"
    }
   ],
   "source": [
    "area_entre"
   ]
  },
  {
   "cell_type": "markdown",
   "id": "ff00e685",
   "metadata": {},
   "source": [
    "La fórmula es \n",
    "g= $\\frac{F CT 44 g/mol}{22414 . 10^6 0.001L/mol}$\n",
    "\n",
    "Con F el flujo (1.5L/min), CT el área bajo la curva en MINUTOS, como lo tenemos en segundos:\n",
    "\n",
    "g= $\\frac{F* CT/60 * 44 g/mol}{22414 . 10^6 0.001L/mol}$"
   ]
  },
  {
   "cell_type": "code",
   "execution_count": 32,
   "id": "962006f3",
   "metadata": {},
   "outputs": [],
   "source": [
    "F = 1.5\n",
    "den = 22414 * 0.001 * 10 ** 6\n",
    "\n",
    "def gramos(x): #meter el área\n",
    "    return F * x * 44 / (den * 60)"
   ]
  },
  {
   "cell_type": "code",
   "execution_count": 33,
   "id": "dd6183d4",
   "metadata": {},
   "outputs": [],
   "source": [
    "gramos1=np.array(gramos(area1))\n",
    "gramos2=np.array(gramos(area2))\n",
    "gramos3=np.array(gramos(area3))\n",
    "gramos4=np.array(gramos(area4))\n"
   ]
  },
  {
   "cell_type": "code",
   "execution_count": 34,
   "id": "b73cce34",
   "metadata": {},
   "outputs": [],
   "source": [
    "#Los ordeno de manera acumulada\n",
    "gramos1_ac=[gramos1[0]]\n",
    "gramos2_ac=[gramos2[0]]\n",
    "gramos3_ac=[gramos3[0]]\n",
    "gramos4_ac=[gramos4[0]]\n",
    "\n",
    "\n",
    "for i in range(len(gramos1)-1):\n",
    "    gramos1_ac.append(gramos1_ac[i]+gramos1[i+1])\n",
    "    gramos2_ac.append(gramos2_ac[i]+gramos2[i+1])\n",
    "    gramos3_ac.append(gramos3_ac[i]+gramos3[i+1])\n",
    "    gramos4_ac.append(gramos4_ac[i]+gramos4[i+1])"
   ]
  },
  {
   "cell_type": "markdown",
   "id": "69bb92bd",
   "metadata": {},
   "source": [
    "Cada área tomada fue de 25 minutos, por tanto, hacemos regla de 3 simples para comparar con el de titulacion (5.5h)\n",
    "\n",
    "25 min ---- area\n",
    "\n",
    "5.5h=330min ----\n",
    "\n",
    "se debe multiplicar al eje Y por 330/25=13.2 ¿¿¿???"
   ]
  },
  {
   "cell_type": "code",
   "execution_count": 35,
   "id": "aa6fb956",
   "metadata": {},
   "outputs": [
    {
     "data": {
      "image/png": "[encoded data removed]",
      "text/plain": [
       "<Figure size 432x288 with 1 Axes>"
      ]
     },
     "metadata": {
      "needs_background": "light"
     },
     "output_type": "display_data"
    }
   ],
   "source": [
    "plt.plot(x,np.array(gramos1_ac)*6,'.',label='Almidon')\n",
    "plt.plot(x,np.array(gramos3_ac)*6,'.',label='A + NP TiO2')\n",
    "plt.plot(x,np.array(gramos4_ac)*6,'.',label='Blanco')\n",
    "plt.plot(x,np.array(gramos2_ac)*6,'.',label='Celulosa')\n",
    "plt.legend()\n",
    "plt.title('CO2 acumulado - sensor')\n",
    "plt.xlabel('Tiempo [Días]')\n",
    "plt.ylabel('Masa [g]')\n",
    "plt.grid(True)\n",
    "plt.savefig(\"co2_acumulado-sensor.png\")\n",
    "plt.show()"
   ]
  },
  {
   "cell_type": "code",
   "execution_count": 36,
   "id": "fbbda23a",
   "metadata": {},
   "outputs": [
    {
     "data": {
      "text/plain": [
       "47"
      ]
     },
     "execution_count": 36,
     "metadata": {},
     "output_type": "execute_result"
    }
   ],
   "source": [
    "len(x)"
   ]
  },
  {
   "cell_type": "code",
   "execution_count": 37,
   "id": "65d22879",
   "metadata": {},
   "outputs": [
    {
     "data": {
      "text/plain": [
       "array([ 0.25369909,  0.48271871,  0.67763249,  0.82318245,  1.11996661,\n",
       "        1.44103995,  1.74575256,  2.03522443,  2.31000471,  2.56165776,\n",
       "        2.7928998 ,  3.1085442 ,  3.56634846,  3.9245186 ,  4.23194656,\n",
       "        4.92452166,  5.49323854,  5.87672742,  6.1787799 ,  6.52803073,\n",
       "        6.77426264,  6.97429956,  7.15872958,  7.525857  ,  8.42199163,\n",
       "        9.17471509,  9.66624681, 10.01149934, 10.23911571, 10.42977927,\n",
       "       10.60640907, 10.9521448 , 11.50406958, 11.87387202, 12.13900936,\n",
       "       12.34223571, 12.5460473 , 12.74305748, 12.94685199, 13.24873971,\n",
       "       13.45548764, 13.64057665, 13.82861481, 14.4806868 , 14.86285445,\n",
       "       15.12275205, 15.38334811])"
      ]
     },
     "execution_count": 37,
     "metadata": {},
     "output_type": "execute_result"
    }
   ],
   "source": [
    "np.array(gramos1_ac)*6"
   ]
  },
  {
   "cell_type": "code",
   "execution_count": null,
   "id": "68bb21b8",
   "metadata": {},
   "outputs": [],
   "source": []
  },
  {
   "cell_type": "code",
   "execution_count": null,
   "id": "1b4b2707",
   "metadata": {},
   "outputs": [],
   "source": []
  }
 ],
 "metadata": {
  "kernelspec": {
   "display_name": "Python 3",
   "language": "python",
   "name": "python3"
  },
  "language_info": {
   "codemirror_mode": {
    "name": "ipython",
    "version": 3
   },
   "file_extension": ".py",
   "mimetype": "text/x-python",
   "name": "python",
   "nbconvert_exporter": "python",
   "pygments_lexer": "ipython3",
   "version": "3.8.5"
  }
 },
 "nbformat": 4,
 "nbformat_minor": 5
}
