{
 "cells": [
  {
   "cell_type": "code",
   "execution_count": 1,
   "id": "8520afff",
   "metadata": {},
   "outputs": [],
   "source": [
    "# Importamos las bibliotecas que vamos a usar\n",
    "#%matplotlib notebook\n",
    "import numpy as np\n",
    "import pandas as pd\n",
    "import matplotlib.pyplot as plt\n",
    "from scipy.integrate import trapezoid\n",
    "import os"
   ]
  },
  {
   "cell_type": "code",
   "execution_count": 2,
   "id": "31f20d53",
   "metadata": {},
   "outputs": [],
   "source": [
    "# Definimos los arrays principales que vamos a usar\n",
    "tiempos = np.array([])\n",
    "co2 = np.array([])    # (ppm)\n",
    "\n",
    "estado_valvula_1 =  np.array([])\n",
    "estado_valvula_2 =  np.array([])\n",
    "estado_valvula_3 =  np.array([])\n",
    "estado_valvula_4 =  np.array([])\n",
    "\n",
    "temp_suncho = np.array([])\n",
    "\n",
    "temp_compost_1 = np.array([])\n",
    "temp_compost_2 = np.array([])\n",
    "temp_compost_3 = np.array([])\n",
    "temp_compost_4 = np.array([])\n",
    "\n",
    "estado_suncho = np.array([])    # Apagado: 0, Prendido: 1"
   ]
  },
  {
   "cell_type": "code",
   "execution_count": 3,
   "id": "94fbe5df",
   "metadata": {},
   "outputs": [],
   "source": [
    "# Definamos la carpeta con las mediciones como PATH\n",
    "fecha='2022-03-23_10-11-20'\n",
    "PATH = f\"./measurements/full-x4/{fecha}\"\n",
    "#/PRUEBA_1254-1354\n",
    "\n",
    "# Creamos una carpeta para las figuras (si es que no existe)\n",
    "if not os.path.isdir(f\"{PATH}/figuras\"):\n",
    "    os.makedirs(f\"{PATH}/figuras\")"
   ]
  },
  {
   "cell_type": "code",
   "execution_count": 4,
   "id": "b5787715",
   "metadata": {},
   "outputs": [
    {
     "data": {
      "text/html": [
       "<div>\n",
       "<style scoped>\n",
       "    .dataframe tbody tr th:only-of-type {\n",
       "        vertical-align: middle;\n",
       "    }\n",
       "\n",
       "    .dataframe tbody tr th {\n",
       "        vertical-align: top;\n",
       "    }\n",
       "\n",
       "    .dataframe thead th {\n",
       "        text-align: right;\n",
       "    }\n",
       "</style>\n",
       "<table border=\"1\" class=\"dataframe\">\n",
       "  <thead>\n",
       "    <tr style=\"text-align: right;\">\n",
       "      <th></th>\n",
       "      <th>Date_Time</th>\n",
       "      <th>CO2</th>\n",
       "      <th>Estado_Valvula_1</th>\n",
       "      <th>Estado_Valvula_2</th>\n",
       "      <th>Estado_Valvula_3</th>\n",
       "      <th>Estado_Valvula_4</th>\n",
       "      <th>Temp_Compost_1</th>\n",
       "      <th>Temp_Compost_2</th>\n",
       "      <th>Temp_Compost_3</th>\n",
       "      <th>Temp_Compost_4</th>\n",
       "      <th>Temp_Suncho</th>\n",
       "      <th>Estado_Suncho</th>\n",
       "    </tr>\n",
       "  </thead>\n",
       "  <tbody>\n",
       "    <tr>\n",
       "      <th>0</th>\n",
       "      <td>23/03/2022_10:30:49</td>\n",
       "      <td>814</td>\n",
       "      <td>Apagado</td>\n",
       "      <td>Apagado</td>\n",
       "      <td>Apagado</td>\n",
       "      <td>Apagado</td>\n",
       "      <td>44.06</td>\n",
       "      <td>49.88</td>\n",
       "      <td>49.25</td>\n",
       "      <td>37.88</td>\n",
       "      <td>47.69</td>\n",
       "      <td>Prendido</td>\n",
       "    </tr>\n",
       "    <tr>\n",
       "      <th>1</th>\n",
       "      <td>23/03/2022_10:30:55</td>\n",
       "      <td>814</td>\n",
       "      <td>Apagado</td>\n",
       "      <td>Apagado</td>\n",
       "      <td>Apagado</td>\n",
       "      <td>Apagado</td>\n",
       "      <td>44.06</td>\n",
       "      <td>49.81</td>\n",
       "      <td>49.25</td>\n",
       "      <td>37.88</td>\n",
       "      <td>47.63</td>\n",
       "      <td>Prendido</td>\n",
       "    </tr>\n",
       "    <tr>\n",
       "      <th>2</th>\n",
       "      <td>23/03/2022_10:31:01</td>\n",
       "      <td>815</td>\n",
       "      <td>Apagado</td>\n",
       "      <td>Apagado</td>\n",
       "      <td>Apagado</td>\n",
       "      <td>Apagado</td>\n",
       "      <td>44.00</td>\n",
       "      <td>49.81</td>\n",
       "      <td>49.19</td>\n",
       "      <td>37.88</td>\n",
       "      <td>47.63</td>\n",
       "      <td>Prendido</td>\n",
       "    </tr>\n",
       "    <tr>\n",
       "      <th>3</th>\n",
       "      <td>23/03/2022_10:31:07</td>\n",
       "      <td>815</td>\n",
       "      <td>Apagado</td>\n",
       "      <td>Apagado</td>\n",
       "      <td>Apagado</td>\n",
       "      <td>Apagado</td>\n",
       "      <td>44.00</td>\n",
       "      <td>49.75</td>\n",
       "      <td>49.19</td>\n",
       "      <td>38.00</td>\n",
       "      <td>47.63</td>\n",
       "      <td>Prendido</td>\n",
       "    </tr>\n",
       "    <tr>\n",
       "      <th>4</th>\n",
       "      <td>23/03/2022_10:31:12</td>\n",
       "      <td>814</td>\n",
       "      <td>Apagado</td>\n",
       "      <td>Apagado</td>\n",
       "      <td>Apagado</td>\n",
       "      <td>Apagado</td>\n",
       "      <td>44.00</td>\n",
       "      <td>49.75</td>\n",
       "      <td>49.19</td>\n",
       "      <td>37.94</td>\n",
       "      <td>47.56</td>\n",
       "      <td>Prendido</td>\n",
       "    </tr>\n",
       "    <tr>\n",
       "      <th>...</th>\n",
       "      <td>...</td>\n",
       "      <td>...</td>\n",
       "      <td>...</td>\n",
       "      <td>...</td>\n",
       "      <td>...</td>\n",
       "      <td>...</td>\n",
       "      <td>...</td>\n",
       "      <td>...</td>\n",
       "      <td>...</td>\n",
       "      <td>...</td>\n",
       "      <td>...</td>\n",
       "      <td>...</td>\n",
       "    </tr>\n",
       "    <tr>\n",
       "      <th>95</th>\n",
       "      <td>23/03/2022_10:40:06</td>\n",
       "      <td>815</td>\n",
       "      <td>Apagado</td>\n",
       "      <td>Apagado</td>\n",
       "      <td>Apagado</td>\n",
       "      <td>Apagado</td>\n",
       "      <td>42.63</td>\n",
       "      <td>48.00</td>\n",
       "      <td>47.44</td>\n",
       "      <td>45.13</td>\n",
       "      <td>45.81</td>\n",
       "      <td>Prendido</td>\n",
       "    </tr>\n",
       "    <tr>\n",
       "      <th>96</th>\n",
       "      <td>23/03/2022_10:40:11</td>\n",
       "      <td>815</td>\n",
       "      <td>Apagado</td>\n",
       "      <td>Apagado</td>\n",
       "      <td>Apagado</td>\n",
       "      <td>Apagado</td>\n",
       "      <td>42.63</td>\n",
       "      <td>48.00</td>\n",
       "      <td>47.44</td>\n",
       "      <td>45.19</td>\n",
       "      <td>45.81</td>\n",
       "      <td>Prendido</td>\n",
       "    </tr>\n",
       "    <tr>\n",
       "      <th>97</th>\n",
       "      <td>23/03/2022_10:40:17</td>\n",
       "      <td>816</td>\n",
       "      <td>Apagado</td>\n",
       "      <td>Apagado</td>\n",
       "      <td>Apagado</td>\n",
       "      <td>Apagado</td>\n",
       "      <td>42.63</td>\n",
       "      <td>48.06</td>\n",
       "      <td>47.44</td>\n",
       "      <td>45.19</td>\n",
       "      <td>45.75</td>\n",
       "      <td>Prendido</td>\n",
       "    </tr>\n",
       "    <tr>\n",
       "      <th>98</th>\n",
       "      <td>23/03/2022_10:40:23</td>\n",
       "      <td>817</td>\n",
       "      <td>Apagado</td>\n",
       "      <td>Apagado</td>\n",
       "      <td>Apagado</td>\n",
       "      <td>Apagado</td>\n",
       "      <td>42.56</td>\n",
       "      <td>47.94</td>\n",
       "      <td>47.38</td>\n",
       "      <td>45.19</td>\n",
       "      <td>45.75</td>\n",
       "      <td>Prendido</td>\n",
       "    </tr>\n",
       "    <tr>\n",
       "      <th>99</th>\n",
       "      <td>23/03/2022_10:40:29</td>\n",
       "      <td>817</td>\n",
       "      <td>Apagado</td>\n",
       "      <td>Apagado</td>\n",
       "      <td>Apagado</td>\n",
       "      <td>Apagado</td>\n",
       "      <td>42.56</td>\n",
       "      <td>47.94</td>\n",
       "      <td>47.38</td>\n",
       "      <td>45.31</td>\n",
       "      <td>45.75</td>\n",
       "      <td>Prendido</td>\n",
       "    </tr>\n",
       "  </tbody>\n",
       "</table>\n",
       "<p>100 rows × 12 columns</p>\n",
       "</div>"
      ],
      "text/plain": [
       "              Date_Time  CO2 Estado_Valvula_1 Estado_Valvula_2  \\\n",
       "0   23/03/2022_10:30:49  814          Apagado          Apagado   \n",
       "1   23/03/2022_10:30:55  814          Apagado          Apagado   \n",
       "2   23/03/2022_10:31:01  815          Apagado          Apagado   \n",
       "3   23/03/2022_10:31:07  815          Apagado          Apagado   \n",
       "4   23/03/2022_10:31:12  814          Apagado          Apagado   \n",
       "..                  ...  ...              ...              ...   \n",
       "95  23/03/2022_10:40:06  815          Apagado          Apagado   \n",
       "96  23/03/2022_10:40:11  815          Apagado          Apagado   \n",
       "97  23/03/2022_10:40:17  816          Apagado          Apagado   \n",
       "98  23/03/2022_10:40:23  817          Apagado          Apagado   \n",
       "99  23/03/2022_10:40:29  817          Apagado          Apagado   \n",
       "\n",
       "   Estado_Valvula_3 Estado_Valvula_4  Temp_Compost_1  Temp_Compost_2  \\\n",
       "0           Apagado          Apagado           44.06           49.88   \n",
       "1           Apagado          Apagado           44.06           49.81   \n",
       "2           Apagado          Apagado           44.00           49.81   \n",
       "3           Apagado          Apagado           44.00           49.75   \n",
       "4           Apagado          Apagado           44.00           49.75   \n",
       "..              ...              ...             ...             ...   \n",
       "95          Apagado          Apagado           42.63           48.00   \n",
       "96          Apagado          Apagado           42.63           48.00   \n",
       "97          Apagado          Apagado           42.63           48.06   \n",
       "98          Apagado          Apagado           42.56           47.94   \n",
       "99          Apagado          Apagado           42.56           47.94   \n",
       "\n",
       "    Temp_Compost_3  Temp_Compost_4  Temp_Suncho Estado_Suncho  \n",
       "0            49.25           37.88        47.69      Prendido  \n",
       "1            49.25           37.88        47.63      Prendido  \n",
       "2            49.19           37.88        47.63      Prendido  \n",
       "3            49.19           38.00        47.63      Prendido  \n",
       "4            49.19           37.94        47.56      Prendido  \n",
       "..             ...             ...          ...           ...  \n",
       "95           47.44           45.13        45.81      Prendido  \n",
       "96           47.44           45.19        45.81      Prendido  \n",
       "97           47.44           45.19        45.75      Prendido  \n",
       "98           47.38           45.19        45.75      Prendido  \n",
       "99           47.38           45.31        45.75      Prendido  \n",
       "\n",
       "[100 rows x 12 columns]"
      ]
     },
     "metadata": {},
     "output_type": "display_data"
    }
   ],
   "source": [
    "# Veamos el primer archivo csv como ejemplo\n",
    "df0 = pd.read_csv(f\"{PATH}/data_2.csv\")\n",
    "display(df0)"
   ]
  },
  {
   "cell_type": "code",
   "execution_count": 5,
   "id": "7a8a04f0",
   "metadata": {},
   "outputs": [
    {
     "name": "stdout",
     "output_type": "stream",
     "text": [
      "23/03/2022_10:30:49\n"
     ]
    }
   ],
   "source": [
    "# Antes de llenar los arrays vamos a necesitar una función que convierta un tiempo en el formato que usamos en tiempo absoluto para poder comparar las mediciones entre sí\n",
    "def convertirTiempo(t_i, t):\n",
    "    dia = int(t[:2])\n",
    "    mes = int(t[3:5])\n",
    "    ano = int(t[6:10])\n",
    "    hora = int(t[11:13])\n",
    "    minuto = int(t[14:16])\n",
    "    segundo = int(t[17:])\n",
    "    \n",
    "    t_abs = segundo + 60 * minuto + (60 ** 2) * hora + 24 * (60 ** 2) * dia + 30 * 24 * (60 ** 2) * mes + 12 * 30 * 24 * (60 ** 2) * ano\n",
    "    return t_abs - t_i\n",
    "\n",
    "\n",
    "# Definamos el tiempo inicial\n",
    "datetime0 = np.transpose(df0[\"Date_Time\"].to_numpy())[0]\n",
    "t_i = convertirTiempo(0, datetime0)\n",
    "print(datetime0)"
   ]
  },
  {
   "cell_type": "code",
   "execution_count": 6,
   "id": "3d529615",
   "metadata": {},
   "outputs": [
    {
     "name": "stdout",
     "output_type": "stream",
     "text": [
      "19\n"
     ]
    }
   ],
   "source": [
    "# Contemos la cantidad de csv's  que llenamos\n",
    "n = 0\n",
    "for file in os.listdir(PATH):\n",
    "    if file.endswith(\".csv\"):\n",
    "        n += 1\n",
    "\n",
    "print(n)"
   ]
  },
  {
   "cell_type": "code",
   "execution_count": 7,
   "id": "acf98e05",
   "metadata": {},
   "outputs": [],
   "source": [
    "# Llenemos las listas con los datos\n",
    "for i in range(n):\n",
    "    i=i\n",
    "    df = pd.read_csv(f\"{PATH}/data_{i}.csv\")\n",
    "\n",
    "    # CO2\n",
    "    co2 = np.concatenate((co2, np.transpose(df[\"CO2\"].to_numpy())))\n",
    "\n",
    "    # Tiempo\n",
    "    for t in np.transpose(df[\"Date_Time\"].to_numpy()):\n",
    "        tiempos = np.concatenate((tiempos, np.array([convertirTiempo(t_i, t)])))\n",
    "        \n",
    "    # Temperaturas\n",
    "    temp_suncho = np.concatenate((temp_suncho, np.transpose(df[\"Temp_Suncho\"].to_numpy())))\n",
    "    temp_compost_1 = np.concatenate((temp_compost_1, np.transpose(df[\"Temp_Compost_1\"].to_numpy())))\n",
    "    temp_compost_2 = np.concatenate((temp_compost_2, np.transpose(df[\"Temp_Compost_2\"].to_numpy())))\n",
    "    temp_compost_3 = np.concatenate((temp_compost_3, np.transpose(df[\"Temp_Compost_3\"].to_numpy())))\n",
    "    temp_compost_4 = np.concatenate((temp_compost_4, np.transpose(df[\"Temp_Compost_4\"].to_numpy())))\n",
    "    \n",
    "    \n",
    "    # Estados\n",
    "    for e in np.transpose(df[\"Estado_Valvula_1\"].to_numpy()):\n",
    "        if e == \"Prendido\":\n",
    "            estado_valvula_1 = np.concatenate((estado_valvula_1, np.array([1])))\n",
    "        else:\n",
    "            estado_valvula_1 = np.concatenate((estado_valvula_1, np.array([0])))\n",
    "    \n",
    "    for e in np.transpose(df[\"Estado_Valvula_2\"].to_numpy()):\n",
    "        if e == \"Prendido\":\n",
    "            estado_valvula_2 = np.concatenate((estado_valvula_2, np.array([1])))\n",
    "        else:\n",
    "            estado_valvula_2 = np.concatenate((estado_valvula_2, np.array([0])))\n",
    "    \n",
    "    for e in np.transpose(df[\"Estado_Valvula_3\"].to_numpy()):\n",
    "        if e == \"Prendido\":\n",
    "            estado_valvula_3 = np.concatenate((estado_valvula_3, np.array([1])))\n",
    "        else:\n",
    "            estado_valvula_3 = np.concatenate((estado_valvula_3, np.array([0])))\n",
    "    \n",
    "    for e in np.transpose(df[\"Estado_Valvula_4\"].to_numpy()):\n",
    "        if e == \"Prendido\":\n",
    "            estado_valvula_4 = np.concatenate((estado_valvula_4, np.array([1])))\n",
    "        else:\n",
    "            estado_valvula_4 = np.concatenate((estado_valvula_4, np.array([0])))\n",
    "    \n",
    "    \n",
    "    for e in np.transpose(df[\"Estado_Suncho\"].to_numpy()):\n",
    "        if e == \"Prendido\":\n",
    "            estado_suncho = np.concatenate((estado_suncho, np.array([1])))\n",
    "        else:\n",
    "            estado_suncho = np.concatenate((estado_suncho, np.array([0])))"
   ]
  },
  {
   "cell_type": "code",
   "execution_count": null,
   "id": "376ec58a",
   "metadata": {},
   "outputs": [],
   "source": []
  },
  {
   "cell_type": "code",
   "execution_count": null,
   "id": "530af637",
   "metadata": {},
   "outputs": [],
   "source": []
  },
  {
   "cell_type": "code",
   "execution_count": 8,
   "id": "866693e3",
   "metadata": {},
   "outputs": [
    {
     "data": {
      "text/plain": [
       "array([0., 0., 0., ..., 1., 1., 1.])"
      ]
     },
     "execution_count": 8,
     "metadata": {},
     "output_type": "execute_result"
    }
   ],
   "source": [
    "estado_valvula_1"
   ]
  },
  {
   "cell_type": "code",
   "execution_count": 9,
   "id": "9e157e8f",
   "metadata": {},
   "outputs": [
    {
     "ename": "IndexError",
     "evalue": "index 1 is out of bounds for axis 0 with size 1",
     "output_type": "error",
     "traceback": [
      "\u001b[0;31m---------------------------------------------------------------------------\u001b[0m",
      "\u001b[0;31mIndexError\u001b[0m                                Traceback (most recent call last)",
      "\u001b[0;32m<ipython-input-9-0ec4b53c2c67>\u001b[0m in \u001b[0;36m<module>\u001b[0;34m\u001b[0m\n\u001b[1;32m     11\u001b[0m \u001b[0;32mfor\u001b[0m \u001b[0mi\u001b[0m \u001b[0;32min\u001b[0m \u001b[0mrange\u001b[0m\u001b[0;34m(\u001b[0m\u001b[0mlen\u001b[0m\u001b[0;34m(\u001b[0m\u001b[0mpos1\u001b[0m\u001b[0;34m[\u001b[0m\u001b[0;36m0\u001b[0m\u001b[0;34m]\u001b[0m\u001b[0;34m)\u001b[0m\u001b[0;34m)\u001b[0m\u001b[0;34m:\u001b[0m\u001b[0;34m\u001b[0m\u001b[0;34m\u001b[0m\u001b[0m\n\u001b[1;32m     12\u001b[0m     \u001b[0mpos\u001b[0m\u001b[0;34m.\u001b[0m\u001b[0mappend\u001b[0m\u001b[0;34m(\u001b[0m\u001b[0mint\u001b[0m\u001b[0;34m(\u001b[0m\u001b[0mpos1\u001b[0m\u001b[0;34m[\u001b[0m\u001b[0;36m0\u001b[0m\u001b[0;34m]\u001b[0m\u001b[0;34m[\u001b[0m\u001b[0mi\u001b[0m\u001b[0;34m]\u001b[0m\u001b[0;34m)\u001b[0m\u001b[0;34m)\u001b[0m\u001b[0;34m\u001b[0m\u001b[0;34m\u001b[0m\u001b[0m\n\u001b[0;32m---> 13\u001b[0;31m     \u001b[0mpos\u001b[0m\u001b[0;34m.\u001b[0m\u001b[0mappend\u001b[0m\u001b[0;34m(\u001b[0m\u001b[0mint\u001b[0m\u001b[0;34m(\u001b[0m\u001b[0mpos2\u001b[0m\u001b[0;34m[\u001b[0m\u001b[0;36m0\u001b[0m\u001b[0;34m]\u001b[0m\u001b[0;34m[\u001b[0m\u001b[0mi\u001b[0m\u001b[0;34m]\u001b[0m\u001b[0;34m)\u001b[0m\u001b[0;34m)\u001b[0m\u001b[0;34m\u001b[0m\u001b[0;34m\u001b[0m\u001b[0m\n\u001b[0m\u001b[1;32m     14\u001b[0m     \u001b[0mpos\u001b[0m\u001b[0;34m.\u001b[0m\u001b[0mappend\u001b[0m\u001b[0;34m(\u001b[0m\u001b[0mint\u001b[0m\u001b[0;34m(\u001b[0m\u001b[0mpos3\u001b[0m\u001b[0;34m[\u001b[0m\u001b[0;36m0\u001b[0m\u001b[0;34m]\u001b[0m\u001b[0;34m[\u001b[0m\u001b[0mi\u001b[0m\u001b[0;34m]\u001b[0m\u001b[0;34m)\u001b[0m\u001b[0;34m)\u001b[0m\u001b[0;34m\u001b[0m\u001b[0;34m\u001b[0m\u001b[0m\n\u001b[1;32m     15\u001b[0m     \u001b[0mpos\u001b[0m\u001b[0;34m.\u001b[0m\u001b[0mappend\u001b[0m\u001b[0;34m(\u001b[0m\u001b[0mint\u001b[0m\u001b[0;34m(\u001b[0m\u001b[0mpos4\u001b[0m\u001b[0;34m[\u001b[0m\u001b[0;36m0\u001b[0m\u001b[0;34m]\u001b[0m\u001b[0;34m[\u001b[0m\u001b[0mi\u001b[0m\u001b[0;34m]\u001b[0m\u001b[0;34m)\u001b[0m\u001b[0;34m)\u001b[0m\u001b[0;34m\u001b[0m\u001b[0;34m\u001b[0m\u001b[0m\n",
      "\u001b[0;31mIndexError\u001b[0m: index 1 is out of bounds for axis 0 with size 1"
     ]
    }
   ],
   "source": [
    "#Encuentro dónde se hace la danza de las válvulas, para hacerle una marca en los gráficos\n",
    "#Parece hincha pelotas así como está ahora, pero después lo voy a necesitar así que me conviene definirlo así\n",
    "\n",
    "pos1 = np.where(np.diff(estado_valvula_1) == 1) #encuentro el número de posición del primer momento de la danza\n",
    "pos2 = np.where(np.diff(estado_valvula_2) == 1) #y así con los demás\n",
    "pos3 = np.where(np.diff(estado_valvula_3) == 1)\n",
    "pos4 = np.where(np.diff(estado_valvula_4) == 1)\n",
    "#pos5 = np.where(np.diff(estado_valvula_compost_4) == 1)\n",
    "\n",
    "pos = [] #los guardo ordenados\n",
    "for i in range(len(pos1[0])):\n",
    "    pos.append(int(pos1[0][i]))\n",
    "    pos.append(int(pos2[0][i]))\n",
    "    pos.append(int(pos3[0][i]))\n",
    "    pos.append(int(pos4[0][i]))\n",
    "#    pos.append(int(pos5[0][i]))\n",
    "\n",
    "danza = [] #guardo los tiempos para graficarlos y visualizarlos rápidamente\n",
    "for i in range(len(pos)):\n",
    "    danza.append(tiempos[pos[i]])"
   ]
  },
  {
   "cell_type": "markdown",
   "id": "f805cddf",
   "metadata": {},
   "source": [
    "# Graficos"
   ]
  },
  {
   "cell_type": "code",
   "execution_count": 10,
   "id": "012d032e",
   "metadata": {},
   "outputs": [
    {
     "data": {
      "image/png": "[encoded data removed]",
      "text/plain": [
       "<Figure size 432x288 with 1 Axes>"
      ]
     },
     "metadata": {
      "needs_background": "light"
     },
     "output_type": "display_data"
    }
   ],
   "source": [
    "plt.figure(\"Temperaturas\")\n",
    "plt.title(\"Temperturas\")\n",
    "plt.plot(tiempos, temp_suncho, '-', markersize=1, label='compost2')\n",
    "plt.plot(tiempos, temp_compost_1, '-', markersize=1, label='compost1')\n",
    "plt.plot(tiempos, temp_compost_2, '-', markersize=1, label='compost4')\n",
    "plt.plot(tiempos, temp_compost_3, '-', markersize=1, label='compost3')\n",
    "plt.plot(tiempos, temp_compost_4, '-', markersize=1, label='suncho')\n",
    "plt.legend()\n",
    "plt.grid()\n",
    "plt.ylim(30,80)\n",
    "plt.xlabel(\"Tiempo [s]\")\n",
    "plt.ylabel(\"Temperatura [°C]\")\n",
    "plt.savefig(f\"{PATH}/figuras/Temperatura.png\")\n",
    "plt.show()"
   ]
  },
  {
   "cell_type": "code",
   "execution_count": 12,
   "id": "becafeb5",
   "metadata": {},
   "outputs": [
    {
     "data": {
      "image/png": "[encoded data removed]",
      "text/plain": [
       "<Figure size 432x288 with 1 Axes>"
      ]
     },
     "metadata": {
      "needs_background": "light"
     },
     "output_type": "display_data"
    }
   ],
   "source": [
    "plt.figure(\"CO2\")\n",
    "plt.title(\"CO2\")\n",
    "plt.plot(tiempos, co2, \".\",markersize=4)\n",
    "#for i in range(len(danza)):\n",
    "#    plt.vlines(x=danza[i], ymin=0, ymax=3000, color=\"r\")\n",
    "plt.grid()\n",
    "\n",
    "plt.ylim(600,1000)\n",
    "plt.xlim(18000,22000)\n",
    "plt.xlabel(\"Tiempo [s]\")\n",
    "plt.ylabel(\"CO2 [ppm]\")\n",
    "plt.savefig(f\"{PATH}/figuras/CO2_cortado.png\")\n",
    "plt.show()"
   ]
  },
  {
   "cell_type": "code",
   "execution_count": null,
   "id": "31b5d5f4",
   "metadata": {},
   "outputs": [],
   "source": [
    "len(co2)"
   ]
  },
  {
   "cell_type": "code",
   "execution_count": 34,
   "id": "ce50cb3c",
   "metadata": {},
   "outputs": [
    {
     "data": {
      "text/plain": [
       "31600"
      ]
     },
     "execution_count": 34,
     "metadata": {},
     "output_type": "execute_result"
    }
   ],
   "source": [
    "len(tiempos)"
   ]
  },
  {
   "cell_type": "code",
   "execution_count": null,
   "id": "ce0999ce",
   "metadata": {},
   "outputs": [],
   "source": []
  }
 ],
 "metadata": {
  "kernelspec": {
   "display_name": "Python 3",
   "language": "python",
   "name": "python3"
  },
  "language_info": {
   "codemirror_mode": {
    "name": "ipython",
    "version": 3
   },
   "file_extension": ".py",
   "mimetype": "text/x-python",
   "name": "python",
   "nbconvert_exporter": "python",
   "pygments_lexer": "ipython3",
   "version": "3.8.5"
  }
 },
 "nbformat": 4,
 "nbformat_minor": 5
}
