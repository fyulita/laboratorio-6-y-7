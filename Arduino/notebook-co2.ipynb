{
 "cells": [
  {
   "cell_type": "markdown",
   "id": "dbb99e1e",
   "metadata": {},
   "source": [
    "# Extracción de Datos de CO2"
   ]
  },
  {
   "cell_type": "code",
   "execution_count": 1,
   "id": "4ad499a5",
   "metadata": {},
   "outputs": [],
   "source": [
    "# Importamos las bibliotecas que vamos a usar\n",
    "import numpy as np\n",
    "import pandas as pd\n",
    "import matplotlib.pyplot as plt\n",
    "import os"
   ]
  },
  {
   "cell_type": "code",
   "execution_count": 2,
   "id": "4e023c90",
   "metadata": {},
   "outputs": [],
   "source": [
    "# Definimos los arrays principales que vamos a usar\n",
    "tiempos = np.array([])\n",
    "mediciones = np.array([])    # (ppm)"
   ]
  },
  {
   "cell_type": "code",
   "execution_count": 3,
   "id": "4d775c92",
   "metadata": {},
   "outputs": [],
   "source": [
    "# Definamos la carpeta con las mediciones como PATH\n",
    "PATH = \"./measurements/CO2/2021-10-13_16-23-39\"\n",
    "\n",
    "# Creamos una carpeta para las figuras (si es que no existe)\n",
    "if not os.path.isdir(f\"{PATH}/figuras\"):\n",
    "    os.makedirs(f\"{PATH}/figuras\")"
   ]
  },
  {
   "cell_type": "code",
   "execution_count": 4,
   "id": "9bb444d8",
   "metadata": {},
   "outputs": [
    {
     "data": {
      "text/html": [
       "<div>\n",
       "<style scoped>\n",
       "    .dataframe tbody tr th:only-of-type {\n",
       "        vertical-align: middle;\n",
       "    }\n",
       "\n",
       "    .dataframe tbody tr th {\n",
       "        vertical-align: top;\n",
       "    }\n",
       "\n",
       "    .dataframe thead th {\n",
       "        text-align: right;\n",
       "    }\n",
       "</style>\n",
       "<table border=\"1\" class=\"dataframe\">\n",
       "  <thead>\n",
       "    <tr style=\"text-align: right;\">\n",
       "      <th></th>\n",
       "      <th>Date_Time</th>\n",
       "      <th>CO2</th>\n",
       "    </tr>\n",
       "  </thead>\n",
       "  <tbody>\n",
       "    <tr>\n",
       "      <th>0</th>\n",
       "      <td>13/10/2021_16:32:03</td>\n",
       "      <td>621</td>\n",
       "    </tr>\n",
       "    <tr>\n",
       "      <th>1</th>\n",
       "      <td>13/10/2021_16:32:08</td>\n",
       "      <td>619</td>\n",
       "    </tr>\n",
       "    <tr>\n",
       "      <th>2</th>\n",
       "      <td>13/10/2021_16:32:13</td>\n",
       "      <td>619</td>\n",
       "    </tr>\n",
       "    <tr>\n",
       "      <th>3</th>\n",
       "      <td>13/10/2021_16:32:18</td>\n",
       "      <td>767</td>\n",
       "    </tr>\n",
       "    <tr>\n",
       "      <th>4</th>\n",
       "      <td>13/10/2021_16:32:23</td>\n",
       "      <td>837</td>\n",
       "    </tr>\n",
       "    <tr>\n",
       "      <th>...</th>\n",
       "      <td>...</td>\n",
       "      <td>...</td>\n",
       "    </tr>\n",
       "    <tr>\n",
       "      <th>95</th>\n",
       "      <td>13/10/2021_16:40:00</td>\n",
       "      <td>0</td>\n",
       "    </tr>\n",
       "    <tr>\n",
       "      <th>96</th>\n",
       "      <td>13/10/2021_16:40:05</td>\n",
       "      <td>0</td>\n",
       "    </tr>\n",
       "    <tr>\n",
       "      <th>97</th>\n",
       "      <td>13/10/2021_16:40:10</td>\n",
       "      <td>0</td>\n",
       "    </tr>\n",
       "    <tr>\n",
       "      <th>98</th>\n",
       "      <td>13/10/2021_16:40:15</td>\n",
       "      <td>0</td>\n",
       "    </tr>\n",
       "    <tr>\n",
       "      <th>99</th>\n",
       "      <td>13/10/2021_16:40:20</td>\n",
       "      <td>0</td>\n",
       "    </tr>\n",
       "  </tbody>\n",
       "</table>\n",
       "<p>100 rows × 2 columns</p>\n",
       "</div>"
      ],
      "text/plain": [
       "              Date_Time  CO2\n",
       "0   13/10/2021_16:32:03  621\n",
       "1   13/10/2021_16:32:08  619\n",
       "2   13/10/2021_16:32:13  619\n",
       "3   13/10/2021_16:32:18  767\n",
       "4   13/10/2021_16:32:23  837\n",
       "..                  ...  ...\n",
       "95  13/10/2021_16:40:00    0\n",
       "96  13/10/2021_16:40:05    0\n",
       "97  13/10/2021_16:40:10    0\n",
       "98  13/10/2021_16:40:15    0\n",
       "99  13/10/2021_16:40:20    0\n",
       "\n",
       "[100 rows x 2 columns]"
      ]
     },
     "metadata": {},
     "output_type": "display_data"
    }
   ],
   "source": [
    "# Veamos el primer archivo csv como ejemplo\n",
    "df0 = pd.read_csv(f\"{PATH}/data_1.csv\", sep=',')\n",
    "display(df0)"
   ]
  },
  {
   "cell_type": "code",
   "execution_count": 5,
   "id": "a6e12ae1",
   "metadata": {},
   "outputs": [
    {
     "name": "stdout",
     "output_type": "stream",
     "text": [
      "13/10/2021_16:32:03\n"
     ]
    }
   ],
   "source": [
    "# Antes de llenar los arrays vamos a necesitar una función que convierta un tiempo en el formato que usamos en tiempo absoluto para poder comparar las mediciones entre sí\n",
    "def convertirTiempo(t_i, t):\n",
    "    dia = int(t[:2])\n",
    "    mes = int(t[3:5])\n",
    "    ano = int(t[6:10])\n",
    "    hora = int(t[11:13])\n",
    "    minuto = int(t[14:16])\n",
    "    segundo = int(t[17:])\n",
    "    \n",
    "    t_abs = segundo + 60 * minuto + (60 ** 2) * hora + 24 * (60 ** 2) * dia + 30 * 24 * (60 ** 2) * mes + 12 * 30 * 24 * (60 ** 2) * ano\n",
    "    return t_abs - t_i\n",
    "\n",
    "\n",
    "# Definamos el tiempo inicial\n",
    "datetime0 = np.transpose(df0[\"Date_Time\"].to_numpy())[0]\n",
    "t_i = convertirTiempo(0, datetime0)\n",
    "print(datetime0)"
   ]
  },
  {
   "cell_type": "code",
   "execution_count": 6,
   "id": "9da7e037",
   "metadata": {},
   "outputs": [
    {
     "name": "stdout",
     "output_type": "stream",
     "text": [
      "136\n"
     ]
    }
   ],
   "source": [
    "# Contemos la cantidad de csv's  que llenamos\n",
    "n = 0\n",
    "for file in os.listdir(PATH):\n",
    "    if file.endswith(\".csv\"):\n",
    "        n += 1\n",
    "\n",
    "print(n)"
   ]
  },
  {
   "cell_type": "code",
   "execution_count": 7,
   "id": "a0f23b10",
   "metadata": {},
   "outputs": [],
   "source": [
    "# Llenemos las listas con los datos\n",
    "for i in range(n):\n",
    "    df = pd.read_csv(f\"{PATH}/data_{i}.csv\", sep=',')\n",
    "\n",
    "    # CO2\n",
    "    mediciones = np.concatenate((mediciones, np.transpose(df[\"CO2\"].to_numpy())))\n",
    "\n",
    "    # Tiempo\n",
    "    for t in np.transpose(df[\"Date_Time\"].to_numpy()):\n",
    "        tiempos = np.concatenate((tiempos, np.array([convertirTiempo(t_i, t)])))"
   ]
  },
  {
   "cell_type": "code",
   "execution_count": 8,
   "id": "a1b545ed",
   "metadata": {},
   "outputs": [],
   "source": [
    "#Incertezas: 50 ppm + 5% reading"
   ]
  },
  {
   "cell_type": "markdown",
   "id": "3ba4a718",
   "metadata": {},
   "source": [
    "# Gráficos"
   ]
  },
  {
   "cell_type": "code",
   "execution_count": 9,
   "id": "a639897b",
   "metadata": {},
   "outputs": [
    {
     "data": {
      "image/png": "[encoded data removed]",
      "text/plain": [
       "<Figure size 432x288 with 1 Axes>"
      ]
     },
     "metadata": {
      "needs_background": "light"
     },
     "output_type": "display_data"
    }
   ],
   "source": [
    "plt.figure(\"CO2\")\n",
    "#plt.title(\"CO2\")\n",
    "plt.errorbar(tiempos,mediciones,yerr=50+mediciones*0.05,fmt='.')\n",
    "plt.plot(tiempos, mediciones, \".\")\n",
    "plt.grid()\n",
    "plt.xlabel(\"Tiempo [s]\")\n",
    "plt.ylabel(r\"$\\mathrm{CO_2}$ [ppm]\")\n",
    "plt.xlim(-5,400)\n",
    "plt.ylim(-60,950)\n",
    "#plt.savefig(f\"{PATH}/figuras/CO2.png\")\n",
    "plt.show()"
   ]
  },
  {
   "cell_type": "code",
   "execution_count": null,
   "id": "a76cf688",
   "metadata": {},
   "outputs": [],
   "source": []
  },
  {
   "cell_type": "code",
   "execution_count": null,
   "id": "2e5844c1",
   "metadata": {},
   "outputs": [],
   "source": []
  },
  {
   "cell_type": "markdown",
   "id": "6a06edd5",
   "metadata": {},
   "source": [
    "#### Improvisación para medir unos datos del 13/10\n",
    "me tiraba un error que me daba paja revisar así que ya fue, hice esto otro que era rapidito"
   ]
  },
  {
   "cell_type": "code",
   "execution_count": 10,
   "id": "bc153330",
   "metadata": {},
   "outputs": [],
   "source": [
    "df0_1 = pd.read_csv(f\"{PATH}/data_16.csv\", sep=',')\n",
    "data_1=df0_1.CO2.to_numpy()\n",
    "df0_2 = pd.read_csv(f\"{PATH}/data_17.csv\", sep=',')\n",
    "data_2=df0_2.CO2.to_numpy()\n",
    "\n",
    "data=np.concatenate([data_1,data_2])\n",
    "\n",
    "#data=df0.CO2.to_numpy()\n",
    "tiempo=np.arange(0,5*len(data),5)"
   ]
  },
  {
   "cell_type": "code",
   "execution_count": 11,
   "id": "816eb5ce",
   "metadata": {},
   "outputs": [
    {
     "data": {
      "image/png": "[encoded data removed]",
      "text/plain": [
       "<Figure size 432x288 with 1 Axes>"
      ]
     },
     "metadata": {
      "needs_background": "light"
     },
     "output_type": "display_data"
    }
   ],
   "source": [
    "plt.plot(tiempo,data,'.')\n",
    "plt.grid(True)\n",
    "plt.xlabel('Tiempo[seg]')\n",
    "plt.ylim(-5,550)\n",
    "plt.xlim(1550,)\n",
    "plt.ylabel('Concentración de CO$_2$ [ppm]')\n",
    "plt.show()"
   ]
  },
  {
   "cell_type": "code",
   "execution_count": 12,
   "id": "e0d2630f",
   "metadata": {},
   "outputs": [
    {
     "data": {
      "text/plain": [
       "200"
      ]
     },
     "execution_count": 12,
     "metadata": {},
     "output_type": "execute_result"
    }
   ],
   "source": [
    "len(data)"
   ]
  },
  {
   "cell_type": "code",
   "execution_count": null,
   "id": "31c7aca3",
   "metadata": {},
   "outputs": [],
   "source": []
  }
 ],
 "metadata": {
  "kernelspec": {
   "display_name": "Python 3 (ipykernel)",
   "language": "python",
   "name": "python3"
  },
  "language_info": {
   "codemirror_mode": {
    "name": "ipython",
    "version": 3
   },
   "file_extension": ".py",
   "mimetype": "text/x-python",
   "name": "python",
   "nbconvert_exporter": "python",
   "pygments_lexer": "ipython3",
   "version": "3.10.1"
  }
 },
 "nbformat": 4,
 "nbformat_minor": 5
}
