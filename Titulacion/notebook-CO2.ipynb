{
 "cells": [
  {
   "cell_type": "markdown",
   "id": "4e331303",
   "metadata": {},
   "source": [
    "# Titulación"
   ]
  },
  {
   "cell_type": "code",
   "execution_count": 1,
   "id": "66850281",
   "metadata": {},
   "outputs": [],
   "source": [
    "# Importamos las librerías necesarias\n",
    "import numpy as np\n",
    "import pandas as pd\n",
    "import matplotlib.pyplot as plt"
   ]
  },
  {
   "cell_type": "code",
   "execution_count": 2,
   "id": "7cb08d48",
   "metadata": {},
   "outputs": [
    {
     "data": {
      "text/html": [
       "<div>\n",
       "<style scoped>\n",
       "    .dataframe tbody tr th:only-of-type {\n",
       "        vertical-align: middle;\n",
       "    }\n",
       "\n",
       "    .dataframe tbody tr th {\n",
       "        vertical-align: top;\n",
       "    }\n",
       "\n",
       "    .dataframe thead th {\n",
       "        text-align: right;\n",
       "    }\n",
       "</style>\n",
       "<table border=\"1\" class=\"dataframe\">\n",
       "  <thead>\n",
       "    <tr style=\"text-align: right;\">\n",
       "      <th></th>\n",
       "      <th>Date</th>\n",
       "      <th>Volume</th>\n",
       "      <th>#1</th>\n",
       "      <th>#2</th>\n",
       "      <th>#3</th>\n",
       "      <th>#4</th>\n",
       "    </tr>\n",
       "  </thead>\n",
       "  <tbody>\n",
       "    <tr>\n",
       "      <th>0</th>\n",
       "      <td>2021-11-03</td>\n",
       "      <td>V1</td>\n",
       "      <td>9.7</td>\n",
       "      <td>7.30</td>\n",
       "      <td>9.1</td>\n",
       "      <td>8.2</td>\n",
       "    </tr>\n",
       "    <tr>\n",
       "      <th>1</th>\n",
       "      <td>2021-11-03</td>\n",
       "      <td>V2</td>\n",
       "      <td>10.3</td>\n",
       "      <td>7.70</td>\n",
       "      <td>9.7</td>\n",
       "      <td>9.0</td>\n",
       "    </tr>\n",
       "    <tr>\n",
       "      <th>2</th>\n",
       "      <td>2021-11-04</td>\n",
       "      <td>V1</td>\n",
       "      <td>9.7</td>\n",
       "      <td>7.10</td>\n",
       "      <td>9.2</td>\n",
       "      <td>8.1</td>\n",
       "    </tr>\n",
       "    <tr>\n",
       "      <th>3</th>\n",
       "      <td>2021-11-04</td>\n",
       "      <td>V2</td>\n",
       "      <td>10.4</td>\n",
       "      <td>7.70</td>\n",
       "      <td>10.0</td>\n",
       "      <td>9.0</td>\n",
       "    </tr>\n",
       "    <tr>\n",
       "      <th>4</th>\n",
       "      <td>2021-11-05</td>\n",
       "      <td>V1</td>\n",
       "      <td>9.7</td>\n",
       "      <td>7.40</td>\n",
       "      <td>9.0</td>\n",
       "      <td>8.0</td>\n",
       "    </tr>\n",
       "    <tr>\n",
       "      <th>5</th>\n",
       "      <td>2021-11-05</td>\n",
       "      <td>V2</td>\n",
       "      <td>10.9</td>\n",
       "      <td>8.20</td>\n",
       "      <td>10.3</td>\n",
       "      <td>9.5</td>\n",
       "    </tr>\n",
       "    <tr>\n",
       "      <th>6</th>\n",
       "      <td>2021-11-06</td>\n",
       "      <td>V1</td>\n",
       "      <td>9.3</td>\n",
       "      <td>7.25</td>\n",
       "      <td>8.7</td>\n",
       "      <td>8.0</td>\n",
       "    </tr>\n",
       "    <tr>\n",
       "      <th>7</th>\n",
       "      <td>2021-11-06</td>\n",
       "      <td>V2</td>\n",
       "      <td>10.7</td>\n",
       "      <td>8.30</td>\n",
       "      <td>10.6</td>\n",
       "      <td>9.6</td>\n",
       "    </tr>\n",
       "    <tr>\n",
       "      <th>8</th>\n",
       "      <td>2021-11-08</td>\n",
       "      <td>V1</td>\n",
       "      <td>8.1</td>\n",
       "      <td>6.80</td>\n",
       "      <td>6.5</td>\n",
       "      <td>6.9</td>\n",
       "    </tr>\n",
       "    <tr>\n",
       "      <th>9</th>\n",
       "      <td>2021-11-08</td>\n",
       "      <td>V2</td>\n",
       "      <td>11.2</td>\n",
       "      <td>8.30</td>\n",
       "      <td>11.0</td>\n",
       "      <td>9.4</td>\n",
       "    </tr>\n",
       "  </tbody>\n",
       "</table>\n",
       "</div>"
      ],
      "text/plain": [
       "         Date Volume    #1    #2    #3   #4\n",
       "0  2021-11-03     V1   9.7  7.30   9.1  8.2\n",
       "1  2021-11-03     V2  10.3  7.70   9.7  9.0\n",
       "2  2021-11-04     V1   9.7  7.10   9.2  8.1\n",
       "3  2021-11-04     V2  10.4  7.70  10.0  9.0\n",
       "4  2021-11-05     V1   9.7  7.40   9.0  8.0\n",
       "5  2021-11-05     V2  10.9  8.20  10.3  9.5\n",
       "6  2021-11-06     V1   9.3  7.25   8.7  8.0\n",
       "7  2021-11-06     V2  10.7  8.30  10.6  9.6\n",
       "8  2021-11-08     V1   8.1  6.80   6.5  6.9\n",
       "9  2021-11-08     V2  11.2  8.30  11.0  9.4"
      ]
     },
     "execution_count": 2,
     "metadata": {},
     "output_type": "execute_result"
    }
   ],
   "source": [
    "# Importamos el archivo con los volúmenes medidos al titular\n",
    "data = pd.read_csv(\"data.csv\")\n",
    "\n",
    "data"
   ]
  },
  {
   "cell_type": "code",
   "execution_count": 3,
   "id": "12c77fe2",
   "metadata": {},
   "outputs": [],
   "source": [
    "# Definimos las listas con V1 (Volumen de HCl para que el NaOH con fenolftaleína pase de rosa a transparente)\n",
    "V1_1 = np.asarray(data[\"#1\"].tolist()[::2])\n",
    "V1_2 = np.asarray(data[\"#2\"].tolist()[::2])\n",
    "V1_3 = np.asarray(data[\"#3\"].tolist()[::2])\n",
    "V1_4 = np.asarray(data[\"#4\"].tolist()[::2])\n",
    "\n",
    "# Definimos las listas con V2 (Volumen agregado de HCl para que el NaOH con fenolftaleína y naranja de metilo pase de naranja a rojo)\n",
    "V2_1 = np.asarray(data[\"#1\"].tolist()[1::2])\n",
    "V2_2 = np.asarray(data[\"#2\"].tolist()[1::2])\n",
    "V2_3 = np.asarray(data[\"#3\"].tolist()[1::2])\n",
    "V2_4 = np.asarray(data[\"#4\"].tolist()[1::2])"
   ]
  },
  {
   "cell_type": "code",
   "execution_count": 4,
   "id": "59d4a590",
   "metadata": {},
   "outputs": [],
   "source": [
    "# Calculamos las diferencias de volumen que representan al CO2 atrapado en el NaOH\n",
    "DV_1 = V2_1 - V1_1 \n",
    "DV_2 = V2_2 - V1_2\n",
    "DV_3 = V2_3 - V1_3\n",
    "DV_4 = V2_4 - V1_4"
   ]
  },
  {
   "cell_type": "code",
   "execution_count": 5,
   "id": "0f604039",
   "metadata": {},
   "outputs": [],
   "source": [
    "#Le restamos el primer valor, dado que el NaOH ya estaba siendo usado\n",
    "DV_1 = DV_1 - DV_1[0]\n",
    "DV_2 = DV_2 - DV_2[0]\n",
    "DV_3 = DV_3 - DV_3[0]\n",
    "DV_4 = DV_4 - DV_4[0]"
   ]
  },
  {
   "cell_type": "code",
   "execution_count": 6,
   "id": "217af4aa",
   "metadata": {},
   "outputs": [
    {
     "data": {
      "text/plain": [
       "array(['2021-11-03', '2021-11-04', '2021-11-05', '2021-11-06',\n",
       "       '2021-11-08'], dtype='<U10')"
      ]
     },
     "execution_count": 6,
     "metadata": {},
     "output_type": "execute_result"
    }
   ],
   "source": [
    "# Armamos un array con las fechas para poder graficar\n",
    "dates = np.asarray(data[\"Date\"].tolist()[::2])\n",
    "\n",
    "dates"
   ]
  },
  {
   "cell_type": "code",
   "execution_count": 7,
   "id": "090d9568",
   "metadata": {},
   "outputs": [
    {
     "data": {
      "image/png": "[encoded data removed]",
      "text/plain": [
       "<Figure size 432x288 with 1 Axes>"
      ]
     },
     "metadata": {
      "needs_background": "light"
     },
     "output_type": "display_data"
    }
   ],
   "source": [
    "# Graficamos\n",
    "plt.figure(\"Titulación\")\n",
    "plt.title(\"Titulación\")\n",
    "plt.plot(dates, DV_1, \"o--\", label=\"Almidon\")\n",
    "plt.plot(dates, DV_3, \"o--\", label=\"A + NP TiO2\")\n",
    "plt.plot(dates, DV_4, \"o--\", label=\"Blanco\")\n",
    "plt.plot(dates, DV_2, \"o--\", label=\"Celulosa\")\n",
    "plt.grid()\n",
    "plt.legend()\n",
    "plt.xlabel(\"Fecha\")\n",
    "plt.ylabel(\"Volumen de CO2 [ml]\")\n",
    "plt.savefig(\"Titulacion-mL.png\")\n",
    "plt.show()"
   ]
  },
  {
   "cell_type": "markdown",
   "id": "167b8319",
   "metadata": {},
   "source": [
    "Formula: \n",
    "\n",
    "$g=\\frac{V C_{HCl}}{V_{muestra}} V_{frasco}44g/mol$\n",
    "\n",
    "$g=\\frac{V 0.4545}{5mL} 0.5L 44g/mol$\n",
    "\n",
    "con V el volumen de la segunda reaccion"
   ]
  },
  {
   "cell_type": "code",
   "execution_count": 8,
   "id": "846b71be",
   "metadata": {},
   "outputs": [],
   "source": [
    "def gramos(x):#meter el volumen de la diferencia\n",
    "    return x*0.4545*0.5*44/5\n",
    "\n",
    "gramos1=np.array(gramos(DV_1))\n",
    "gramos2=np.array(gramos(DV_2))\n",
    "gramos3=np.array(gramos(DV_3))\n",
    "gramos4=np.array(gramos(DV_4))"
   ]
  },
  {
   "cell_type": "code",
   "execution_count": 10,
   "id": "0438da75",
   "metadata": {},
   "outputs": [
    {
     "data": {
      "image/png": "[encoded data removed]",
      "text/plain": [
       "<Figure size 432x288 with 1 Axes>"
      ]
     },
     "metadata": {
      "needs_background": "light"
     },
     "output_type": "display_data"
    }
   ],
   "source": [
    "# Graficamos\n",
    "plt.figure(\"Titulación\")\n",
    "plt.title(\"Titulación\")\n",
    "plt.plot(dates, gramos1, \"o--\", label=\"Almidon\")\n",
    "plt.plot(dates, gramos3, \"o--\", label=\"A + NP TiO2\")\n",
    "plt.plot(dates, gramos4, \"o--\", label=\"Blanco\")\n",
    "plt.plot(dates, gramos2, \"o--\", label=\"Celulosa\")\n",
    "plt.grid()\n",
    "plt.legend()\n",
    "plt.xlabel(\"Fecha\")\n",
    "plt.ylabel(\"Masa de CO2 [g]\")\n",
    "plt.savefig(\"Titulacion-g.png\")\n",
    "plt.show()"
   ]
  },
  {
   "cell_type": "code",
   "execution_count": null,
   "id": "5c3dfed1",
   "metadata": {},
   "outputs": [],
   "source": []
  }
 ],
 "metadata": {
  "kernelspec": {
   "display_name": "Python 3",
   "language": "python",
   "name": "python3"
  },
  "language_info": {
   "codemirror_mode": {
    "name": "ipython",
    "version": 3
   },
   "file_extension": ".py",
   "mimetype": "text/x-python",
   "name": "python",
   "nbconvert_exporter": "python",
   "pygments_lexer": "ipython3",
   "version": "3.9.7"
  }
 },
 "nbformat": 4,
 "nbformat_minor": 5
}
