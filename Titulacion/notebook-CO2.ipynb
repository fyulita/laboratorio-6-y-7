{
 "cells": [
  {
   "cell_type": "code",
   "execution_count": 1,
   "id": "66850281",
   "metadata": {},
   "outputs": [],
   "source": [
    "import numpy as np\n",
    "import pandas as pd\n",
    "import matplotlib.pyplot as plt"
   ]
  },
  {
   "cell_type": "code",
   "execution_count": 3,
   "id": "7cb08d48",
   "metadata": {},
   "outputs": [],
   "source": [
    "data=pd.read_csv(\"data.csv\")\n",
    "#Tiene 4 columnas, en las filas pares está la primer tirada de HCl en las filas impares la 2da tirada de HCl\n",
    "#El CO2 absorbido es la resta entre impares y pares (y quitando el valor inicial que es absorción previa al experimento)"
   ]
  },
  {
   "cell_type": "code",
   "execution_count": 27,
   "id": "217af4aa",
   "metadata": {},
   "outputs": [],
   "source": [
    "CO2_1=[]\n",
    "CO2_2=[]\n",
    "CO2_4=[]\n",
    "CO2_3=[]\n",
    "\n",
    "for i in range(int(len(data[\"1\"])/2)):\n",
    "    CO2_1.append(data[\"1\"][2*i+1]-data[\"1\"][2*i]) \n",
    "    CO2_2.append(data[\"2\"][2*i+1]-data[\"2\"][2*i])\n",
    "    CO2_3.append(data[\"3\"][2*i+1]-data[\"3\"][2*i])\n",
    "    CO2_4.append(data[\"4\"][2*i+1]-data[\"4\"][2*i])\n",
    "    \n",
    "CO2_1=CO2_1-CO2_1[0] #Le resto el primer dato\n",
    "CO2_2=CO2_2-CO2_2[0]\n",
    "CO2_3=CO2_3-CO2_3[0]\n",
    "CO2_4=CO2_4-CO2_4[0]"
   ]
  },
  {
   "cell_type": "code",
   "execution_count": null,
   "id": "090d9568",
   "metadata": {},
   "outputs": [],
   "source": []
  }
 ],
 "metadata": {
  "kernelspec": {
   "display_name": "Python 3",
   "language": "python",
   "name": "python3"
  },
  "language_info": {
   "codemirror_mode": {
    "name": "ipython",
    "version": 3
   },
   "file_extension": ".py",
   "mimetype": "text/x-python",
   "name": "python",
   "nbconvert_exporter": "python",
   "pygments_lexer": "ipython3",
   "version": "3.8.5"
  }
 },
 "nbformat": 4,
 "nbformat_minor": 5
}
